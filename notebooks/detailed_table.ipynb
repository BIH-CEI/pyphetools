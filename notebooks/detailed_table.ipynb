{
 "cells": [
  {
   "cell_type": "code",
   "execution_count": 1,
   "id": "e876c2a1",
   "metadata": {},
   "outputs": [],
   "source": [
    "import hpotk\n",
    "from hpotk.ontology import Ontology\n",
    "from hpotk.ontology.load.obographs import load_ontology\n",
    "import sys\n",
    "import os\n",
    "sys.path.insert(0, os.path.abspath('../../pyphetools'))\n",
    "from pyphetools.output import *\n",
    "\n",
    "# to peek under the hood\n",
    "import logging\n",
    "hpotk.util.setup_logging(logging.DEBUG)"
   ]
  },
  {
   "cell_type": "code",
   "execution_count": 2,
   "id": "f8eb1bb1",
   "metadata": {},
   "outputs": [
    {
     "name": "stderr",
     "output_type": "stream",
     "text": [
      "2023-01-13 12:49:18,045 hpotk.util           DEBUG : Opening https://raw.githubusercontent.com/obophenotype/human-phenotype-ontology/master/hp.json\n",
      "2023-01-13 12:49:18,046 hpotk.util           DEBUG : Using default encoding 'utf-8'\n",
      "2023-01-13 12:49:18,046 hpotk.util           DEBUG : Looks like a URL: https://raw.githubusercontent.com/obophenotype/human-phenotype-ontology/master/hp.json\n",
      "2023-01-13 12:49:18,046 hpotk.util           DEBUG : Downloading with timeout=30s\n",
      "2023-01-13 12:49:18,931 hpotk.util           DEBUG : Looks like un-compressed data\n",
      "2023-01-13 12:49:22,904 hpotk.ontology.load.obographs._load DEBUG : Extracting ontology terms\n",
      "2023-01-13 12:49:22,905 hpotk.ontology.io.obographs DEBUG : Missing node type in {'id': 'http://purl.obolibrary.org/obo/GO_0000016', 'lbl': 'lactase activity'}\n",
      "2023-01-13 12:49:22,905 hpotk.ontology.io.obographs DEBUG : Missing node type in {'id': 'http://purl.obolibrary.org/obo/GO_0003857', 'lbl': '3-hydroxyacyl-CoA dehydrogenase activity'}\n",
      "2023-01-13 12:49:22,905 hpotk.ontology.io.obographs DEBUG : Missing node type in {'id': 'http://purl.obolibrary.org/obo/BFO_0000051', 'lbl': 'has part', 'meta': {'basicPropertyValues': [{'pred': 'http://www.geneontology.org/formats/oboInOwl#shorthand', 'val': 'has_part'}], 'xrefs': [{'val': 'BFO:0000051'}]}}\n",
      "2023-01-13 12:49:22,905 hpotk.ontology.io.obographs DEBUG : Missing node type in {'id': 'http://purl.obolibrary.org/obo/BFO_0000066', 'lbl': 'occurs in', 'meta': {'basicPropertyValues': [{'pred': 'http://www.geneontology.org/formats/oboInOwl#shorthand', 'val': 'occurs_in'}], 'xrefs': [{'val': 'BFO:0000066'}]}}\n",
      "2023-01-13 12:49:22,906 hpotk.ontology.io.obographs DEBUG : Missing node type in {'id': 'http://purl.obolibrary.org/obo/RO_0002503', 'lbl': 'towards', 'meta': {'basicPropertyValues': [{'pred': 'http://www.geneontology.org/formats/oboInOwl#shorthand', 'val': 'towards'}], 'xrefs': [{'val': 'RO:0002503'}]}}\n",
      "2023-01-13 12:49:22,906 hpotk.ontology.io.obographs DEBUG : Missing node type in {'id': 'http://purl.obolibrary.org/obo/RO_0002573', 'lbl': 'has modifier', 'meta': {'basicPropertyValues': [{'pred': 'http://www.geneontology.org/formats/oboInOwl#shorthand', 'val': 'qualifier'}], 'comments': ['placeholder relation to indicate normality/abnormality.'], 'xrefs': [{'val': 'RO:0002180'}]}}\n",
      "2023-01-13 12:49:23,063 hpotk.ontology.load.obographs._load DEBUG : Creating the edge list\n",
      "2023-01-13 12:49:23,147 hpotk.ontology.load.obographs._load DEBUG : Building ontology graph\n",
      "2023-01-13 12:49:23,147 hpotk.graph._factory DEBUG : Creating ontology graph from 21071 edges\n",
      "2023-01-13 12:49:23,164 hpotk.graph._factory DEBUG : Found root HP:0000001\n",
      "2023-01-13 12:49:23,193 hpotk.graph._factory DEBUG : Extracted 16810 nodes\n",
      "2023-01-13 12:49:23,194 hpotk.graph._factory DEBUG : Building a connectivity matrix\n",
      "2023-01-13 12:49:39,401 hpotk.graph._factory DEBUG : Assembling immutable connectivity matrix\n",
      "2023-01-13 12:49:39,406 hpotk.graph._factory DEBUG : Finalizing the ontology graph\n",
      "2023-01-13 12:49:39,416 hpotk.ontology.load.obographs._load DEBUG : Assemblying the ontology\n"
     ]
    }
   ],
   "source": [
    "\n",
    "\n",
    "o: Ontology = load_ontology('https://raw.githubusercontent.com/obophenotype/human-phenotype-ontology/master/hp.json')"
   ]
  },
  {
   "cell_type": "code",
   "execution_count": 3,
   "id": "f4a2e644",
   "metadata": {},
   "outputs": [
    {
     "name": "stdout",
     "output_type": "stream",
     "text": [
      "We got 17 phenopackets\n"
     ]
    }
   ],
   "source": [
    "phenopacket_dir = \"/Users/robinp/GIT/hrmd/notebooks/TRPM3/phenopackets\"\n",
    "ingestor = PhenopacketIngestor(indir=phenopacket_dir)\n",
    "patient_d = ingestor.get_patient_dictionary()\n",
    "print(f\"We got {len(patient_d)} phenopackets\")"
   ]
  },
  {
   "cell_type": "code",
   "execution_count": 4,
   "id": "8073b8b1",
   "metadata": {},
   "outputs": [
    {
     "ename": "AttributeError",
     "evalue": "'DetailedSupplTable' object has no attribute '_total_counts_propagated'",
     "output_type": "error",
     "traceback": [
      "\u001b[0;31m---------------------------------------------------------------------------\u001b[0m",
      "\u001b[0;31mAttributeError\u001b[0m                            Traceback (most recent call last)",
      "Cell \u001b[0;32mIn[4], line 1\u001b[0m\n\u001b[0;32m----> 1\u001b[0m table \u001b[38;5;241m=\u001b[39m \u001b[43mDetailedSupplTable\u001b[49m\u001b[43m(\u001b[49m\u001b[43mpatient_d\u001b[49m\u001b[38;5;241;43m=\u001b[39;49m\u001b[43mpatient_d\u001b[49m\u001b[43m,\u001b[49m\u001b[43m \u001b[49m\u001b[43mhp_ontology\u001b[49m\u001b[38;5;241;43m=\u001b[39;49m\u001b[43mo\u001b[49m\u001b[43m)\u001b[49m\n",
      "File \u001b[0;32m~/GIT/pyphetools/pyphetools/output/detailed_suppl_table.py:45\u001b[0m, in \u001b[0;36mDetailedSupplTable.__init__\u001b[0;34m(self, patient_d, hp_ontology)\u001b[0m\n\u001b[1;32m     43\u001b[0m         \u001b[38;5;28;01mcontinue\u001b[39;00m\n\u001b[1;32m     44\u001b[0m     \u001b[38;5;28;01melse\u001b[39;00m:\n\u001b[0;32m---> 45\u001b[0m         \u001b[38;5;28;43mself\u001b[39;49m\u001b[38;5;241;43m.\u001b[39;49m\u001b[43m_total_counts_propagated\u001b[49m[hp_id\u001b[38;5;241m.\u001b[39mvalue] \u001b[38;5;241m+\u001b[39m\u001b[38;5;241m=\u001b[39m \u001b[38;5;241m1\u001b[39m\n\u001b[1;32m     46\u001b[0m variant_d \u001b[38;5;241m=\u001b[39m pat\u001b[38;5;241m.\u001b[39mget_variant_d()\n\u001b[1;32m     47\u001b[0m \u001b[38;5;28;01mfor\u001b[39;00m var \u001b[38;5;129;01min\u001b[39;00m variant_d\u001b[38;5;241m.\u001b[39mkeys():\n",
      "\u001b[0;31mAttributeError\u001b[0m: 'DetailedSupplTable' object has no attribute '_total_counts_propagated'"
     ]
    }
   ],
   "source": [
    "table = DetailedSupplTable(patient_d=patient_d, hp_ontology=o)"
   ]
  },
  {
   "cell_type": "code",
   "execution_count": null,
   "id": "0386ee44",
   "metadata": {},
   "outputs": [],
   "source": [
    "str(type(patient_d))"
   ]
  },
  {
   "cell_type": "code",
   "execution_count": null,
   "id": "f78c13b0",
   "metadata": {},
   "outputs": [],
   "source": [
    "isinstance(patient_d, dict)"
   ]
  },
  {
   "cell_type": "code",
   "execution_count": null,
   "id": "65147fba",
   "metadata": {},
   "outputs": [],
   "source": []
  }
 ],
 "metadata": {
  "kernelspec": {
   "display_name": "venv2",
   "language": "python",
   "name": "venv2"
  },
  "language_info": {
   "codemirror_mode": {
    "name": "ipython",
    "version": 3
   },
   "file_extension": ".py",
   "mimetype": "text/x-python",
   "name": "python",
   "nbconvert_exporter": "python",
   "pygments_lexer": "ipython3",
   "version": "3.10.6"
  }
 },
 "nbformat": 4,
 "nbformat_minor": 5
}
