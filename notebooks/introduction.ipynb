{
 "cells": [
  {
   "cell_type": "markdown",
   "id": "88225d96",
   "metadata": {},
   "source": [
    "# Explore creation of phenopackets from supplemental material\n",
    "Let's take Platzer K. De Novo Variants in MAPK8IP3 Cause Intellectual Disability with Variable Brain Anomalies. Am J Hum Genet. 2019 Feb 7;104(2):203-212. PMC6369540.\n",
    "as an example"
   ]
  },
  {
   "cell_type": "code",
   "execution_count": 1,
   "id": "4b730d47",
   "metadata": {},
   "outputs": [],
   "source": [
    "import phenopackets as pp\n",
    "import pandas as pd\n",
    "pd.set_option('display.max_colwidth', None) # show entire column contents, important!\n",
    "from collections import defaultdict\n",
    "import os\n",
    "import sys\n",
    "\n",
    "sys.path.insert(0, os.path.abspath('../../pyphetools'))\n",
    "from pyphetools import CohortEncoder, ColumnMapper, HpoParser, HpoConceptRecognizer"
   ]
  },
  {
   "cell_type": "markdown",
   "id": "3b908768",
   "metadata": {},
   "source": [
    "<h2>Importing HPO data</h2>\n",
    "<p>pyphetools uses the Human Phenotype Ontology (HPO) to encode phenotypic features. The recommended way of doing this is to ingest the hp.json file using HpoParser, which in turn creates an HpoConceptRecognizer object. </p>"
   ]
  },
  {
   "cell_type": "code",
   "execution_count": 2,
   "id": "c5b44b18",
   "metadata": {
    "scrolled": true
   },
   "outputs": [],
   "source": [
    "hpo_json_path = '/home/peter/data/hpo/hp.json'\n",
    "parser = HpoParser(hpo_json_file=hpo_json_path)\n",
    "hpo_cr = parser.get_hpo_concept_recognizer()"
   ]
  },
  {
   "cell_type": "markdown",
   "id": "49b6cf4c",
   "metadata": {},
   "source": [
    "Supplemental Table S1 contains Detailed Clinical Information for All Individuals with Causative De Novo Variants in MAPK8IP3. We need to read this from the original Excel file because some of the cells contain new-line symbols."
   ]
  },
  {
   "cell_type": "code",
   "execution_count": 3,
   "id": "a748b70a",
   "metadata": {},
   "outputs": [],
   "source": [
    "df = pd.read_excel('data/mmc2.xlsx')"
   ]
  },
  {
   "cell_type": "markdown",
   "id": "bfc95891",
   "metadata": {},
   "source": [
    "<h2>Stepwise encoding of the supplementary material</h2>\n",
    "<p>pyphetools supports efficient and accurate HPO-encoding of typical supplementary tables that describe a cohort of \n",
    "individuals found to have a certain disease. We recommend using the <tt>df.head()</tt> and the <tt>df.columns</tt> commands\n",
    "to view the data and the column headers as follows.</p>"
   ]
  },
  {
   "cell_type": "code",
   "execution_count": 4,
   "id": "d1abeea5",
   "metadata": {},
   "outputs": [
    {
     "data": {
      "text/html": [
       "<div>\n",
       "<style scoped>\n",
       "    .dataframe tbody tr th:only-of-type {\n",
       "        vertical-align: middle;\n",
       "    }\n",
       "\n",
       "    .dataframe tbody tr th {\n",
       "        vertical-align: top;\n",
       "    }\n",
       "\n",
       "    .dataframe thead th {\n",
       "        text-align: right;\n",
       "    }\n",
       "</style>\n",
       "<table border=\"1\" class=\"dataframe\">\n",
       "  <thead>\n",
       "    <tr style=\"text-align: right;\">\n",
       "      <th></th>\n",
       "      <th>Indvidual\\nin\\nmanuscript</th>\n",
       "      <th>g.(hg19) Chr16:</th>\n",
       "      <th>Transcript\\nNM_015133.4\\nc.</th>\n",
       "      <th>p.</th>\n",
       "      <th>origin</th>\n",
       "      <th>genetic testing</th>\n",
       "      <th>Sex</th>\n",
       "      <th>age at last assesment</th>\n",
       "      <th>prenatal period</th>\n",
       "      <th>Exam at birth</th>\n",
       "      <th>...</th>\n",
       "      <th>neurological examination</th>\n",
       "      <th>result of external MRI</th>\n",
       "      <th>seizures</th>\n",
       "      <th>Sz onset and Sz types</th>\n",
       "      <th>AEDs used</th>\n",
       "      <th>Sz outcome</th>\n",
       "      <th>EEG</th>\n",
       "      <th>Additional symptoms</th>\n",
       "      <th>family history</th>\n",
       "      <th>further results of genetic testing</th>\n",
       "    </tr>\n",
       "  </thead>\n",
       "  <tbody>\n",
       "    <tr>\n",
       "      <th>0</th>\n",
       "      <td>1</td>\n",
       "      <td>1756405</td>\n",
       "      <td>c.65delG</td>\n",
       "      <td>p.Gly22Alafs*3</td>\n",
       "      <td>de novo</td>\n",
       "      <td>TrioWES</td>\n",
       "      <td>M</td>\n",
       "      <td>14 y 8 m</td>\n",
       "      <td>NaN</td>\n",
       "      <td>41 weeks:\\nlength: 53.3 cm\\nweight: 3.941 kg\\nOFC: NA</td>\n",
       "      <td>...</td>\n",
       "      <td>ataxia</td>\n",
       "      <td>mild cerebellar atrophy, hypointensity of the globi pallidi and substantia nigra, possible mild degree of abnormal iron or mineral deposition</td>\n",
       "      <td>no</td>\n",
       "      <td>NaN</td>\n",
       "      <td>NaN</td>\n",
       "      <td>NaN</td>\n",
       "      <td>NaN</td>\n",
       "      <td>speech is ataxic but speaks in sentences/short phrases; attention issues, impulse control and emotional lability, OCD symptoms; recently developed scoliosis</td>\n",
       "      <td>unremarkable</td>\n",
       "      <td>NaN</td>\n",
       "    </tr>\n",
       "    <tr>\n",
       "      <th>1</th>\n",
       "      <td>2</td>\n",
       "      <td>1756419</td>\n",
       "      <td>c.79G&gt;T</td>\n",
       "      <td>p.Glu27*</td>\n",
       "      <td>de novo</td>\n",
       "      <td>SingleWES</td>\n",
       "      <td>M</td>\n",
       "      <td>4 y</td>\n",
       "      <td>NaN</td>\n",
       "      <td>length: 49 cm\\nweigth: 3215 g\\nOFC: 35 cm</td>\n",
       "      <td>...</td>\n",
       "      <td>ataxia</td>\n",
       "      <td>normal</td>\n",
       "      <td>no</td>\n",
       "      <td>NaN</td>\n",
       "      <td>NaN</td>\n",
       "      <td>NaN</td>\n",
       "      <td>NaN</td>\n",
       "      <td>pre-natal pelvi-ureteric junction stenosis (spontaneous resolution at 6 m)</td>\n",
       "      <td>NaN</td>\n",
       "      <td>NaN</td>\n",
       "    </tr>\n",
       "    <tr>\n",
       "      <th>2</th>\n",
       "      <td>3</td>\n",
       "      <td>1756451</td>\n",
       "      <td>c.111C&gt;G</td>\n",
       "      <td>p.Tyr37*</td>\n",
       "      <td>de novo</td>\n",
       "      <td>TrioWES</td>\n",
       "      <td>M</td>\n",
       "      <td>4 y</td>\n",
       "      <td>NaN</td>\n",
       "      <td>length: 20.5 in\\nweight: 8 lb 2 oz\\nOFC: NA</td>\n",
       "      <td>...</td>\n",
       "      <td>NaN</td>\n",
       "      <td>Stable areas of T2 hyperintensity involving the central tegmental tracts</td>\n",
       "      <td>no</td>\n",
       "      <td>NaN</td>\n",
       "      <td>NaN</td>\n",
       "      <td>NaN</td>\n",
       "      <td>NaN</td>\n",
       "      <td>Nystagmus</td>\n",
       "      <td>unremarkable</td>\n",
       "      <td>770 kb duplicaion of 20p12.3 on chromosome microarray</td>\n",
       "    </tr>\n",
       "    <tr>\n",
       "      <th>3</th>\n",
       "      <td>4</td>\n",
       "      <td>1798706</td>\n",
       "      <td>c.1198G&gt;A</td>\n",
       "      <td>p.Gly400Arg</td>\n",
       "      <td>de novo</td>\n",
       "      <td>TrioWES</td>\n",
       "      <td>M</td>\n",
       "      <td>7 y 6 m</td>\n",
       "      <td>no prenatal care, no known problems</td>\n",
       "      <td>32 weeks:\\nlength: NA,\\nweight: 4 lbs,\\nOFC: NA\\n\\nhad a 30 day hospital course</td>\n",
       "      <td>...</td>\n",
       "      <td>NaN</td>\n",
       "      <td>no MRI done</td>\n",
       "      <td>no</td>\n",
       "      <td>NaN</td>\n",
       "      <td>NaN</td>\n",
       "      <td>NaN</td>\n",
       "      <td>NaN</td>\n",
       "      <td>Left hearing loss; Dysmorphic features: hypertelorism inner canthal distance 4.3cm; low set prominent ears, slight overhangin columella, hypodontia; 5th finger clinodactyly and 5th finger brachydactylky; synophrys; Encopresis</td>\n",
       "      <td>Mother with learning disorder; finished 11th grade; Father with ADHD and learning disorder; finished 9th grade; Full sister with learning disorder; Full sister no known problems; Full brother with learning disorder</td>\n",
       "      <td>NaN</td>\n",
       "    </tr>\n",
       "    <tr>\n",
       "      <th>4</th>\n",
       "      <td>5</td>\n",
       "      <td>1810410</td>\n",
       "      <td>c.1331T&gt;C</td>\n",
       "      <td>p.Leu444Pro</td>\n",
       "      <td>de novo</td>\n",
       "      <td>TrioWES</td>\n",
       "      <td>M</td>\n",
       "      <td>10 y</td>\n",
       "      <td>NaN</td>\n",
       "      <td>40 weeks, length: 52 cm\\nweight:  3810 g\\nOFC: 36 cm</td>\n",
       "      <td>...</td>\n",
       "      <td>NaN</td>\n",
       "      <td>perisylvian polymicrogyria</td>\n",
       "      <td>yes</td>\n",
       "      <td>10 y:\\none event of a generalized seizure</td>\n",
       "      <td>NaN</td>\n",
       "      <td>NaN</td>\n",
       "      <td>pathological EEG with normal age-related background activity (alpha-type), increased appearance of slowing over temporal and occipital regions</td>\n",
       "      <td>no dysmorphism, small teeth, severe s-configured scoliosis of thoracic and lumbar spine</td>\n",
       "      <td>NaN</td>\n",
       "      <td>NaN</td>\n",
       "    </tr>\n",
       "  </tbody>\n",
       "</table>\n",
       "<p>5 rows × 29 columns</p>\n",
       "</div>"
      ],
      "text/plain": [
       "   Indvidual\\nin\\nmanuscript  g.(hg19) Chr16: Transcript\\nNM_015133.4\\nc.  \\\n",
       "0                          1          1756405                    c.65delG   \n",
       "1                          2          1756419                     c.79G>T   \n",
       "2                          3          1756451                    c.111C>G   \n",
       "3                          4          1798706                 c.1198G>A     \n",
       "4                          5          1810410                   c.1331T>C   \n",
       "\n",
       "               p.   origin genetic testing Sex age at last assesment  \\\n",
       "0  p.Gly22Alafs*3  de novo         TrioWES   M              14 y 8 m   \n",
       "1        p.Glu27*  de novo       SingleWES   M                   4 y   \n",
       "2        p.Tyr37*  de novo         TrioWES   M                   4 y   \n",
       "3     p.Gly400Arg  de novo         TrioWES   M               7 y 6 m   \n",
       "4     p.Leu444Pro  de novo         TrioWES   M                  10 y   \n",
       "\n",
       "                       prenatal period  \\\n",
       "0                                  NaN   \n",
       "1                                  NaN   \n",
       "2                                  NaN   \n",
       "3  no prenatal care, no known problems   \n",
       "4                                  NaN   \n",
       "\n",
       "                                                                     Exam at birth  \\\n",
       "0                            41 weeks:\\nlength: 53.3 cm\\nweight: 3.941 kg\\nOFC: NA   \n",
       "1                                        length: 49 cm\\nweigth: 3215 g\\nOFC: 35 cm   \n",
       "2                                      length: 20.5 in\\nweight: 8 lb 2 oz\\nOFC: NA   \n",
       "3  32 weeks:\\nlength: NA,\\nweight: 4 lbs,\\nOFC: NA\\n\\nhad a 30 day hospital course   \n",
       "4                             40 weeks, length: 52 cm\\nweight:  3810 g\\nOFC: 36 cm   \n",
       "\n",
       "   ... neurological examination  \\\n",
       "0  ...                   ataxia   \n",
       "1  ...                   ataxia   \n",
       "2  ...                      NaN   \n",
       "3  ...                      NaN   \n",
       "4  ...                      NaN   \n",
       "\n",
       "                                                                                                                          result of external MRI  \\\n",
       "0  mild cerebellar atrophy, hypointensity of the globi pallidi and substantia nigra, possible mild degree of abnormal iron or mineral deposition   \n",
       "1                                                                                                                                         normal   \n",
       "2                                                                       Stable areas of T2 hyperintensity involving the central tegmental tracts   \n",
       "3                                                                                                                                    no MRI done   \n",
       "4                                                                                                                     perisylvian polymicrogyria   \n",
       "\n",
       "  seizures                      Sz onset and Sz types AEDs used Sz outcome  \\\n",
       "0       no                                        NaN       NaN        NaN   \n",
       "1       no                                        NaN       NaN        NaN   \n",
       "2       no                                        NaN       NaN        NaN   \n",
       "3       no                                        NaN       NaN        NaN   \n",
       "4      yes  10 y:\\none event of a generalized seizure       NaN        NaN   \n",
       "\n",
       "                                                                                                                                              EEG  \\\n",
       "0                                                                                                                                             NaN   \n",
       "1                                                                                                                                             NaN   \n",
       "2                                                                                                                                             NaN   \n",
       "3                                                                                                                                             NaN   \n",
       "4  pathological EEG with normal age-related background activity (alpha-type), increased appearance of slowing over temporal and occipital regions   \n",
       "\n",
       "                                                                                                                                                                                                                 Additional symptoms  \\\n",
       "0                                                                       speech is ataxic but speaks in sentences/short phrases; attention issues, impulse control and emotional lability, OCD symptoms; recently developed scoliosis   \n",
       "1                                                                                                                                                         pre-natal pelvi-ureteric junction stenosis (spontaneous resolution at 6 m)   \n",
       "2                                                                                                                                                                                                                          Nystagmus   \n",
       "3  Left hearing loss; Dysmorphic features: hypertelorism inner canthal distance 4.3cm; low set prominent ears, slight overhangin columella, hypodontia; 5th finger clinodactyly and 5th finger brachydactylky; synophrys; Encopresis   \n",
       "4                                                                                                                                            no dysmorphism, small teeth, severe s-configured scoliosis of thoracic and lumbar spine   \n",
       "\n",
       "                                                                                                                                                                                                           family history  \\\n",
       "0                                                                                                                                                                                                            unremarkable   \n",
       "1                                                                                                                                                                                                                     NaN   \n",
       "2                                                                                                                                                                                                            unremarkable   \n",
       "3  Mother with learning disorder; finished 11th grade; Father with ADHD and learning disorder; finished 9th grade; Full sister with learning disorder; Full sister no known problems; Full brother with learning disorder   \n",
       "4                                                                                                                                                                                                                     NaN   \n",
       "\n",
       "                      further results of genetic testing  \n",
       "0                                                    NaN  \n",
       "1                                                    NaN  \n",
       "2  770 kb duplicaion of 20p12.3 on chromosome microarray  \n",
       "3                                                    NaN  \n",
       "4                                                    NaN  \n",
       "\n",
       "[5 rows x 29 columns]"
      ]
     },
     "execution_count": 4,
     "metadata": {},
     "output_type": "execute_result"
    }
   ],
   "source": [
    "df.head()"
   ]
  },
  {
   "cell_type": "code",
   "execution_count": 5,
   "id": "80bfbdbf",
   "metadata": {},
   "outputs": [
    {
     "data": {
      "text/plain": [
       "Index(['Indvidual\\nin\\nmanuscript', 'g.(hg19) Chr16:',\n",
       "       'Transcript\\nNM_015133.4\\nc.', 'p.', 'origin', 'genetic testing', 'Sex',\n",
       "       'age at last assesment', 'prenatal period', 'Exam at birth',\n",
       "       'body measurements\\n(at last assesment if not otherwise specified)',\n",
       "       'DD', 'severity of ID', 'development', 'regression', 'autism',\n",
       "       'hypotonia', 'movement disorder', 'CVI', 'neurological examination',\n",
       "       'result of external MRI', 'seizures', 'Sz onset and Sz types',\n",
       "       'AEDs used', 'Sz outcome', 'EEG', 'Additional symptoms',\n",
       "       'family history', 'further results of genetic testing'],\n",
       "      dtype='object')"
      ]
     },
     "execution_count": 5,
     "metadata": {},
     "output_type": "execute_result"
    }
   ],
   "source": [
    "df.columns"
   ]
  },
  {
   "cell_type": "markdown",
   "id": "91cb8c28",
   "metadata": {},
   "source": [
    "#We need to create a dictionary with the HPO terms contained in the descriptions"
   ]
  },
  {
   "cell_type": "markdown",
   "id": "37ea5c29",
   "metadata": {},
   "source": [
    "##  ColumnMapper\n",
    "The idea is to make one ColumnMapper object for each column of interest. The column mapper knows how to map the contents using either\n",
    "default exact text matching or custom maps from whatever strings to HPO terms."
   ]
  },
  {
   "cell_type": "code",
   "execution_count": 6,
   "id": "a7b8b8ba",
   "metadata": {},
   "outputs": [
    {
     "data": {
      "text/plain": [
       "array(['ataxia', nan, 'spastic paraplegia',\n",
       "       'spasticity; nerve conduction and EMG studies with abnormal findings \"remarkable for the failure to activate the leg muscles due to an upper motor neuron pattern of aberrant motor unit potential firing rates. These findings are consistent with dysfunction of the corticospinal pathways rather than a lower motor unit.\" Significant low extremity weakness.',\n",
       "       'spasticity/stiff legs', 'spastic diplegic cerebral palsy',\n",
       "       'orobuccal dyspraxia, awkward gross and fine motricity, difficulty in coordination, unstable gait'],\n",
       "      dtype=object)"
      ]
     },
     "execution_count": 6,
     "metadata": {},
     "output_type": "execute_result"
    }
   ],
   "source": [
    "df['neurological examination'].unique()"
   ]
  },
  {
   "cell_type": "code",
   "execution_count": 7,
   "id": "3a0d5ff5",
   "metadata": {},
   "outputs": [
    {
     "data": {
      "text/plain": [
       "pandas.core.series.Series"
      ]
     },
     "execution_count": 7,
     "metadata": {},
     "output_type": "execute_result"
    }
   ],
   "source": [
    "type(df['neurological examination'])"
   ]
  },
  {
   "cell_type": "code",
   "execution_count": 12,
   "id": "6110f1ce",
   "metadata": {},
   "outputs": [],
   "source": [
    "neuro_exam_custom_map = {'low extremity weakness': 'HP:0007340',  # Lower limb muscle weakness HP:0007340\n",
    "                         'unstable gait': 'HP:0002317' # Unsteady gait HP:0002317\n",
    "                        }"
   ]
  },
  {
   "cell_type": "code",
   "execution_count": 13,
   "id": "1b33aefc",
   "metadata": {},
   "outputs": [],
   "source": [
    "neuroMapper = ColumnMapper(custom_map_d=neuro_exam_custom_map, concept_recognizer = hpo_cr)\n"
   ]
  },
  {
   "cell_type": "code",
   "execution_count": 14,
   "id": "d13978af",
   "metadata": {
    "scrolled": true
   },
   "outputs": [
    {
     "name": "stdout",
     "output_type": "stream",
     "text": [
      "parse minichunks for ['nan']\n",
      "parse candidate for 'nan'\n",
      "parse minichunks for ['nan']\n",
      "parse candidate for 'nan'\n",
      "parse minichunks for ['nan']\n",
      "parse candidate for 'nan'\n",
      "parse minichunks for ['nan']\n",
      "parse candidate for 'nan'\n",
      "parse minichunks for ['nan']\n",
      "parse candidate for 'nan'\n",
      "parse minichunks for ['spasticity', ' nerve conduction and emg studies with abnormal findings \"remarkable for the failure to activate the leg muscles due to an upper motor neuron pattern of aberrant motor unit potential firing rates. these findings are consistent with dysfunction of the corticospinal pathways rather than a lower motor unit.\" significant low extremity weakness.']\n",
      "parse candidate for 'spasticity'\n",
      "candidate 'spasticity' in self._label_to_id\n",
      "parse candidate for 'nerve conduction and emg studies with abnormal findings \"remarkable for the failure to activate the leg muscles due to an upper motor neuron pattern of aberrant motor unit potential firing rates. these findings are consistent with dysfunction of the corticospinal pathways rather than a lower motor unit.\" significant low extremity weakness.'\n",
      "parse minichunks for ['nan']\n",
      "parse candidate for 'nan'\n",
      "parse minichunks for ['spasticity', 'stiff legs']\n",
      "parse candidate for 'spasticity'\n",
      "candidate 'spasticity' in self._label_to_id\n",
      "parse candidate for 'stiff legs'\n",
      "parse minichunks for ['spastic diplegic cerebral palsy']\n",
      "parse candidate for 'spastic diplegic cerebral palsy'\n",
      "parse minichunks for ['orobuccal dyspraxia', ' awkward gross and fine motricity', ' difficulty in coordination', ' unstable gait']\n",
      "parse candidate for 'orobuccal dyspraxia'\n",
      "parse candidate for 'awkward gross and fine motricity'\n",
      "parse candidate for 'difficulty in coordination'\n",
      "parse candidate for 'unstable gait'\n",
      "candidate 'unstable gait' in custom_d\n"
     ]
    },
    {
     "data": {
      "text/html": [
       "<div>\n",
       "<style scoped>\n",
       "    .dataframe tbody tr th:only-of-type {\n",
       "        vertical-align: middle;\n",
       "    }\n",
       "\n",
       "    .dataframe tbody tr th {\n",
       "        vertical-align: top;\n",
       "    }\n",
       "\n",
       "    .dataframe thead th {\n",
       "        text-align: right;\n",
       "    }\n",
       "</style>\n",
       "<table border=\"1\" class=\"dataframe\">\n",
       "  <thead>\n",
       "    <tr style=\"text-align: right;\">\n",
       "      <th></th>\n",
       "      <th>column</th>\n",
       "      <th>terms</th>\n",
       "    </tr>\n",
       "  </thead>\n",
       "  <tbody>\n",
       "    <tr>\n",
       "      <th>0</th>\n",
       "      <td>ataxia</td>\n",
       "      <td>Ataxia (HP:0001251)</td>\n",
       "    </tr>\n",
       "    <tr>\n",
       "      <th>1</th>\n",
       "      <td>NaN</td>\n",
       "      <td>n/a</td>\n",
       "    </tr>\n",
       "    <tr>\n",
       "      <th>2</th>\n",
       "      <td>spastic paraplegia</td>\n",
       "      <td>Spastic paraplegia (HP:0001258)</td>\n",
       "    </tr>\n",
       "    <tr>\n",
       "      <th>3</th>\n",
       "      <td>spasticity; nerve conduction and EMG studies with abnormal findings \"remarkable for the failure to activate the leg muscles due to an upper motor neuron pattern of aberrant motor unit potential firing rates. These findings are consistent with dysfunction of the corticospinal pathways rather than a lower motor unit.\" Significant low extremity weakness.</td>\n",
       "      <td>Spasticity (HP:0001257)</td>\n",
       "    </tr>\n",
       "    <tr>\n",
       "      <th>4</th>\n",
       "      <td>spasticity/stiff legs</td>\n",
       "      <td>Spasticity (HP:0001257)</td>\n",
       "    </tr>\n",
       "    <tr>\n",
       "      <th>5</th>\n",
       "      <td>spastic diplegic cerebral palsy</td>\n",
       "      <td>n/a</td>\n",
       "    </tr>\n",
       "    <tr>\n",
       "      <th>6</th>\n",
       "      <td>orobuccal dyspraxia, awkward gross and fine motricity, difficulty in coordination, unstable gait</td>\n",
       "      <td>Unsteady gait (HP:0002317)</td>\n",
       "    </tr>\n",
       "  </tbody>\n",
       "</table>\n",
       "</div>"
      ],
      "text/plain": [
       "                                                                                                                                                                                                                                                                                                                                                              column  \\\n",
       "0                                                                                                                                                                                                                                                                                                                                                             ataxia   \n",
       "1                                                                                                                                                                                                                                                                                                                                                                NaN   \n",
       "2                                                                                                                                                                                                                                                                                                                                                 spastic paraplegia   \n",
       "3  spasticity; nerve conduction and EMG studies with abnormal findings \"remarkable for the failure to activate the leg muscles due to an upper motor neuron pattern of aberrant motor unit potential firing rates. These findings are consistent with dysfunction of the corticospinal pathways rather than a lower motor unit.\" Significant low extremity weakness.   \n",
       "4                                                                                                                                                                                                                                                                                                                                              spasticity/stiff legs   \n",
       "5                                                                                                                                                                                                                                                                                                                                    spastic diplegic cerebral palsy   \n",
       "6                                                                                                                                                                                                                                                                   orobuccal dyspraxia, awkward gross and fine motricity, difficulty in coordination, unstable gait   \n",
       "\n",
       "                             terms  \n",
       "0              Ataxia (HP:0001251)  \n",
       "1                              n/a  \n",
       "2  Spastic paraplegia (HP:0001258)  \n",
       "3          Spasticity (HP:0001257)  \n",
       "4          Spasticity (HP:0001257)  \n",
       "5                              n/a  \n",
       "6       Unsteady gait (HP:0002317)  "
      ]
     },
     "execution_count": 14,
     "metadata": {},
     "output_type": "execute_result"
    }
   ],
   "source": [
    "neuroMapper.preview_column(df['neurological examination'])"
   ]
  },
  {
   "cell_type": "code",
   "execution_count": 11,
   "id": "2ce271fe",
   "metadata": {},
   "outputs": [],
   "source": [
    "cohort_encoder = CohortEncoder(df=df, hpo_cr=hpo_cr)"
   ]
  },
  {
   "cell_type": "code",
   "execution_count": null,
   "id": "fea3aeab",
   "metadata": {},
   "outputs": [],
   "source": []
  }
 ],
 "metadata": {
  "kernelspec": {
   "display_name": "venv",
   "language": "python",
   "name": "venv"
  },
  "language_info": {
   "codemirror_mode": {
    "name": "ipython",
    "version": 3
   },
   "file_extension": ".py",
   "mimetype": "text/x-python",
   "name": "python",
   "nbconvert_exporter": "python",
   "pygments_lexer": "ipython3",
   "version": "3.10.6"
  }
 },
 "nbformat": 4,
 "nbformat_minor": 5
}
