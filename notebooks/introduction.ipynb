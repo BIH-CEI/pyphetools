{
 "cells": [
  {
   "cell_type": "markdown",
   "id": "88225d96",
   "metadata": {},
   "source": [
    "# Explore creation of phenopackets from supplemental material\n",
    "Let's take Platzer K. De Novo Variants in MAPK8IP3 Cause Intellectual Disability with Variable Brain Anomalies. Am J Hum Genet. 2019 Feb 7;104(2):203-212. PMC6369540.\n",
    "as an example"
   ]
  },
  {
   "cell_type": "code",
   "execution_count": 1,
   "id": "4b730d47",
   "metadata": {},
   "outputs": [],
   "source": [
    "import phenopackets as pp\n",
    "import pandas as pd\n",
    "from collections import defaultdict\n",
    "import os\n",
    "import sys\n",
    "\n",
    "sys.path.insert(0, os.path.abspath('../../pyphetools'))\n",
    "from pyphetools import CohortEncoder, ColumnMapper, HpoParser, HpoConceptRecognizer"
   ]
  },
  {
   "cell_type": "markdown",
   "id": "e8dbb3c1",
   "metadata": {},
   "source": [
    "<h2>Importing HPO data</h2>\n",
    "<p>pyphetools uses the Human Phenotype Ontology (HPO) to encode phenotypic features. The recommended way of doing this is to ingest the hp.json file using HpoParser, which in turn creates an HpoConceptRecognizer object. </p>"
   ]
  },
  {
   "cell_type": "code",
   "execution_count": 2,
   "id": "ef641d5b",
   "metadata": {
    "scrolled": true
   },
   "outputs": [],
   "source": [
    "hpo_json_path = '/home/peter/data/hpo/hp.json'\n",
    "parser = HpoParser(hpo_json_file=hpo_json_path)\n",
    "hpo_cr = parser.get_hpo_concept_recognizer()"
   ]
  },
  {
   "cell_type": "markdown",
   "id": "49b6cf4c",
   "metadata": {},
   "source": [
    "Supplemental Table S1 contains Detailed Clinical Information for All Individuals with Causative De Novo Variants in MAPK8IP3. We need to read this from the original Excel file because some of the cells contain new-line symbols."
   ]
  },
  {
   "cell_type": "code",
   "execution_count": 3,
   "id": "a748b70a",
   "metadata": {},
   "outputs": [],
   "source": [
    "df = pd.read_excel('data/mmc2.xlsx')"
   ]
  },
  {
   "cell_type": "markdown",
   "id": "24a65f87",
   "metadata": {},
   "source": [
    "<h2>Stepwise encoding of the supplementary material</h2>\n",
    "<p>pyphetools supports efficient and accurate HPO-encoding of typical supplementary tables that describe a cohort of \n",
    "individuals found to have a certain disease. We recommend using the <tt>df.head()</tt> and the <tt>df.columns</tt> commands\n",
    "to view the data and the column headers as follows.</p>"
   ]
  },
  {
   "cell_type": "code",
   "execution_count": 4,
   "id": "d1abeea5",
   "metadata": {},
   "outputs": [
    {
     "data": {
      "text/html": [
       "<div>\n",
       "<style scoped>\n",
       "    .dataframe tbody tr th:only-of-type {\n",
       "        vertical-align: middle;\n",
       "    }\n",
       "\n",
       "    .dataframe tbody tr th {\n",
       "        vertical-align: top;\n",
       "    }\n",
       "\n",
       "    .dataframe thead th {\n",
       "        text-align: right;\n",
       "    }\n",
       "</style>\n",
       "<table border=\"1\" class=\"dataframe\">\n",
       "  <thead>\n",
       "    <tr style=\"text-align: right;\">\n",
       "      <th></th>\n",
       "      <th>Indvidual\\nin\\nmanuscript</th>\n",
       "      <th>g.(hg19) Chr16:</th>\n",
       "      <th>Transcript\\nNM_015133.4\\nc.</th>\n",
       "      <th>p.</th>\n",
       "      <th>origin</th>\n",
       "      <th>genetic testing</th>\n",
       "      <th>Sex</th>\n",
       "      <th>age at last assesment</th>\n",
       "      <th>prenatal period</th>\n",
       "      <th>Exam at birth</th>\n",
       "      <th>...</th>\n",
       "      <th>neurological examination</th>\n",
       "      <th>result of external MRI</th>\n",
       "      <th>seizures</th>\n",
       "      <th>Sz onset and Sz types</th>\n",
       "      <th>AEDs used</th>\n",
       "      <th>Sz outcome</th>\n",
       "      <th>EEG</th>\n",
       "      <th>Additional symptoms</th>\n",
       "      <th>family history</th>\n",
       "      <th>further results of genetic testing</th>\n",
       "    </tr>\n",
       "  </thead>\n",
       "  <tbody>\n",
       "    <tr>\n",
       "      <th>0</th>\n",
       "      <td>1</td>\n",
       "      <td>1756405</td>\n",
       "      <td>c.65delG</td>\n",
       "      <td>p.Gly22Alafs*3</td>\n",
       "      <td>de novo</td>\n",
       "      <td>TrioWES</td>\n",
       "      <td>M</td>\n",
       "      <td>14 y 8 m</td>\n",
       "      <td>NaN</td>\n",
       "      <td>41 weeks:\\nlength: 53.3 cm\\nweight: 3.941 kg\\n...</td>\n",
       "      <td>...</td>\n",
       "      <td>ataxia</td>\n",
       "      <td>mild cerebellar atrophy, hypointensity of the ...</td>\n",
       "      <td>no</td>\n",
       "      <td>NaN</td>\n",
       "      <td>NaN</td>\n",
       "      <td>NaN</td>\n",
       "      <td>NaN</td>\n",
       "      <td>speech is ataxic but speaks in sentences/short...</td>\n",
       "      <td>unremarkable</td>\n",
       "      <td>NaN</td>\n",
       "    </tr>\n",
       "    <tr>\n",
       "      <th>1</th>\n",
       "      <td>2</td>\n",
       "      <td>1756419</td>\n",
       "      <td>c.79G&gt;T</td>\n",
       "      <td>p.Glu27*</td>\n",
       "      <td>de novo</td>\n",
       "      <td>SingleWES</td>\n",
       "      <td>M</td>\n",
       "      <td>4 y</td>\n",
       "      <td>NaN</td>\n",
       "      <td>length: 49 cm\\nweigth: 3215 g\\nOFC: 35 cm</td>\n",
       "      <td>...</td>\n",
       "      <td>ataxia</td>\n",
       "      <td>normal</td>\n",
       "      <td>no</td>\n",
       "      <td>NaN</td>\n",
       "      <td>NaN</td>\n",
       "      <td>NaN</td>\n",
       "      <td>NaN</td>\n",
       "      <td>pre-natal pelvi-ureteric junction stenosis (sp...</td>\n",
       "      <td>NaN</td>\n",
       "      <td>NaN</td>\n",
       "    </tr>\n",
       "    <tr>\n",
       "      <th>2</th>\n",
       "      <td>3</td>\n",
       "      <td>1756451</td>\n",
       "      <td>c.111C&gt;G</td>\n",
       "      <td>p.Tyr37*</td>\n",
       "      <td>de novo</td>\n",
       "      <td>TrioWES</td>\n",
       "      <td>M</td>\n",
       "      <td>4 y</td>\n",
       "      <td>NaN</td>\n",
       "      <td>length: 20.5 in\\nweight: 8 lb 2 oz\\nOFC: NA</td>\n",
       "      <td>...</td>\n",
       "      <td>NaN</td>\n",
       "      <td>Stable areas of T2 hyperintensity involving th...</td>\n",
       "      <td>no</td>\n",
       "      <td>NaN</td>\n",
       "      <td>NaN</td>\n",
       "      <td>NaN</td>\n",
       "      <td>NaN</td>\n",
       "      <td>Nystagmus</td>\n",
       "      <td>unremarkable</td>\n",
       "      <td>770 kb duplicaion of 20p12.3 on chromosome mic...</td>\n",
       "    </tr>\n",
       "    <tr>\n",
       "      <th>3</th>\n",
       "      <td>4</td>\n",
       "      <td>1798706</td>\n",
       "      <td>c.1198G&gt;A</td>\n",
       "      <td>p.Gly400Arg</td>\n",
       "      <td>de novo</td>\n",
       "      <td>TrioWES</td>\n",
       "      <td>M</td>\n",
       "      <td>7 y 6 m</td>\n",
       "      <td>no prenatal care, no known problems</td>\n",
       "      <td>32 weeks:\\nlength: NA,\\nweight: 4 lbs,\\nOFC: N...</td>\n",
       "      <td>...</td>\n",
       "      <td>NaN</td>\n",
       "      <td>no MRI done</td>\n",
       "      <td>no</td>\n",
       "      <td>NaN</td>\n",
       "      <td>NaN</td>\n",
       "      <td>NaN</td>\n",
       "      <td>NaN</td>\n",
       "      <td>Left hearing loss; Dysmorphic features: hypert...</td>\n",
       "      <td>Mother with learning disorder; finished 11th g...</td>\n",
       "      <td>NaN</td>\n",
       "    </tr>\n",
       "    <tr>\n",
       "      <th>4</th>\n",
       "      <td>5</td>\n",
       "      <td>1810410</td>\n",
       "      <td>c.1331T&gt;C</td>\n",
       "      <td>p.Leu444Pro</td>\n",
       "      <td>de novo</td>\n",
       "      <td>TrioWES</td>\n",
       "      <td>M</td>\n",
       "      <td>10 y</td>\n",
       "      <td>NaN</td>\n",
       "      <td>40 weeks, length: 52 cm\\nweight:  3810 g\\nOFC:...</td>\n",
       "      <td>...</td>\n",
       "      <td>NaN</td>\n",
       "      <td>perisylvian polymicrogyria</td>\n",
       "      <td>yes</td>\n",
       "      <td>10 y:\\none event of a generalized seizure</td>\n",
       "      <td>NaN</td>\n",
       "      <td>NaN</td>\n",
       "      <td>pathological EEG with normal age-related backg...</td>\n",
       "      <td>no dysmorphism, small teeth, severe s-configur...</td>\n",
       "      <td>NaN</td>\n",
       "      <td>NaN</td>\n",
       "    </tr>\n",
       "  </tbody>\n",
       "</table>\n",
       "<p>5 rows × 29 columns</p>\n",
       "</div>"
      ],
      "text/plain": [
       "   Indvidual\\nin\\nmanuscript  g.(hg19) Chr16: Transcript\\nNM_015133.4\\nc.  \\\n",
       "0                          1          1756405                    c.65delG   \n",
       "1                          2          1756419                     c.79G>T   \n",
       "2                          3          1756451                    c.111C>G   \n",
       "3                          4          1798706                 c.1198G>A     \n",
       "4                          5          1810410                   c.1331T>C   \n",
       "\n",
       "               p.   origin genetic testing Sex age at last assesment  \\\n",
       "0  p.Gly22Alafs*3  de novo         TrioWES   M              14 y 8 m   \n",
       "1        p.Glu27*  de novo       SingleWES   M                   4 y   \n",
       "2        p.Tyr37*  de novo         TrioWES   M                   4 y   \n",
       "3     p.Gly400Arg  de novo         TrioWES   M               7 y 6 m   \n",
       "4     p.Leu444Pro  de novo         TrioWES   M                  10 y   \n",
       "\n",
       "                       prenatal period  \\\n",
       "0                                  NaN   \n",
       "1                                  NaN   \n",
       "2                                  NaN   \n",
       "3  no prenatal care, no known problems   \n",
       "4                                  NaN   \n",
       "\n",
       "                                       Exam at birth  ...  \\\n",
       "0  41 weeks:\\nlength: 53.3 cm\\nweight: 3.941 kg\\n...  ...   \n",
       "1          length: 49 cm\\nweigth: 3215 g\\nOFC: 35 cm  ...   \n",
       "2        length: 20.5 in\\nweight: 8 lb 2 oz\\nOFC: NA  ...   \n",
       "3  32 weeks:\\nlength: NA,\\nweight: 4 lbs,\\nOFC: N...  ...   \n",
       "4  40 weeks, length: 52 cm\\nweight:  3810 g\\nOFC:...  ...   \n",
       "\n",
       "  neurological examination                             result of external MRI  \\\n",
       "0                   ataxia  mild cerebellar atrophy, hypointensity of the ...   \n",
       "1                   ataxia                                             normal   \n",
       "2                      NaN  Stable areas of T2 hyperintensity involving th...   \n",
       "3                      NaN                                        no MRI done   \n",
       "4                      NaN                         perisylvian polymicrogyria   \n",
       "\n",
       "  seizures                      Sz onset and Sz types AEDs used Sz outcome  \\\n",
       "0       no                                        NaN       NaN        NaN   \n",
       "1       no                                        NaN       NaN        NaN   \n",
       "2       no                                        NaN       NaN        NaN   \n",
       "3       no                                        NaN       NaN        NaN   \n",
       "4      yes  10 y:\\none event of a generalized seizure       NaN        NaN   \n",
       "\n",
       "                                                 EEG  \\\n",
       "0                                                NaN   \n",
       "1                                                NaN   \n",
       "2                                                NaN   \n",
       "3                                                NaN   \n",
       "4  pathological EEG with normal age-related backg...   \n",
       "\n",
       "                                 Additional symptoms  \\\n",
       "0  speech is ataxic but speaks in sentences/short...   \n",
       "1  pre-natal pelvi-ureteric junction stenosis (sp...   \n",
       "2                                          Nystagmus   \n",
       "3  Left hearing loss; Dysmorphic features: hypert...   \n",
       "4  no dysmorphism, small teeth, severe s-configur...   \n",
       "\n",
       "                                      family history  \\\n",
       "0                                       unremarkable   \n",
       "1                                                NaN   \n",
       "2                                       unremarkable   \n",
       "3  Mother with learning disorder; finished 11th g...   \n",
       "4                                                NaN   \n",
       "\n",
       "                  further results of genetic testing  \n",
       "0                                                NaN  \n",
       "1                                                NaN  \n",
       "2  770 kb duplicaion of 20p12.3 on chromosome mic...  \n",
       "3                                                NaN  \n",
       "4                                                NaN  \n",
       "\n",
       "[5 rows x 29 columns]"
      ]
     },
     "execution_count": 4,
     "metadata": {},
     "output_type": "execute_result"
    }
   ],
   "source": [
    "df.head()"
   ]
  },
  {
   "cell_type": "code",
   "execution_count": 5,
   "id": "80bfbdbf",
   "metadata": {},
   "outputs": [
    {
     "data": {
      "text/plain": [
       "Index(['Indvidual\\nin\\nmanuscript', 'g.(hg19) Chr16:',\n",
       "       'Transcript\\nNM_015133.4\\nc.', 'p.', 'origin', 'genetic testing', 'Sex',\n",
       "       'age at last assesment', 'prenatal period', 'Exam at birth',\n",
       "       'body measurements\\n(at last assesment if not otherwise specified)',\n",
       "       'DD', 'severity of ID', 'development', 'regression', 'autism',\n",
       "       'hypotonia', 'movement disorder', 'CVI', 'neurological examination',\n",
       "       'result of external MRI', 'seizures', 'Sz onset and Sz types',\n",
       "       'AEDs used', 'Sz outcome', 'EEG', 'Additional symptoms',\n",
       "       'family history', 'further results of genetic testing'],\n",
       "      dtype='object')"
      ]
     },
     "execution_count": 5,
     "metadata": {},
     "output_type": "execute_result"
    }
   ],
   "source": [
    "df.columns"
   ]
  },
  {
   "cell_type": "markdown",
   "id": "91cb8c28",
   "metadata": {},
   "source": [
    "#We need to create a dictionary with the HPO terms contained in the descriptions"
   ]
  },
  {
   "cell_type": "markdown",
   "id": "37ea5c29",
   "metadata": {},
   "source": [
    "##  ColumnMapper\n",
    "The idea is to make one ColumnMapper object for each column of interest. The column mapper knows how to map the contents using either\n",
    "default exact text matching or custom maps from whatever strings to HPO terms."
   ]
  },
  {
   "cell_type": "code",
   "execution_count": 6,
   "id": "a7b8b8ba",
   "metadata": {},
   "outputs": [
    {
     "data": {
      "text/plain": [
       "array(['ataxia', nan, 'spastic paraplegia',\n",
       "       'spasticity; nerve conduction and EMG studies with abnormal findings \"remarkable for the failure to activate the leg muscles due to an upper motor neuron pattern of aberrant motor unit potential firing rates. These findings are consistent with dysfunction of the corticospinal pathways rather than a lower motor unit.\" Significant low extremity weakness.',\n",
       "       'spasticity/stiff legs', 'spastic diplegic cerebral palsy',\n",
       "       'orobuccal dyspraxia, awkward gross and fine motricity, difficulty in coordination, unstable gait'],\n",
       "      dtype=object)"
      ]
     },
     "execution_count": 6,
     "metadata": {},
     "output_type": "execute_result"
    }
   ],
   "source": [
    "df['neurological examination'].unique()"
   ]
  },
  {
   "cell_type": "code",
   "execution_count": 7,
   "id": "3a0d5ff5",
   "metadata": {},
   "outputs": [
    {
     "data": {
      "text/plain": [
       "pandas.core.series.Series"
      ]
     },
     "execution_count": 7,
     "metadata": {},
     "output_type": "execute_result"
    }
   ],
   "source": [
    "type(df['neurological examination'])"
   ]
  },
  {
   "cell_type": "code",
   "execution_count": 8,
   "id": "6110f1ce",
   "metadata": {},
   "outputs": [],
   "source": [
    "neuro_exam_custom_map = {'low extremity weakness': 'Lower limb muscle weakness'}"
   ]
  },
  {
   "cell_type": "code",
   "execution_count": 9,
   "id": "1b33aefc",
   "metadata": {},
   "outputs": [],
   "source": [
    "neuroMapper = ColumnMapper(custom_map_d=neuro_exam_custom_map, concept_recognizer = hpo_cr)\n"
   ]
  },
  {
   "cell_type": "code",
   "execution_count": 10,
   "id": "af31dfd6",
   "metadata": {},
   "outputs": [
    {
     "name": "stdout",
     "output_type": "stream",
     "text": [
      "Mapping cell for value=ataxia\n",
      "parse chunk for ataxia\n",
      "Mapping cell for value=ataxia\n",
      "parse chunk for ataxia\n",
      "Mapping cell for value=nan\n",
      "parse chunk for nan\n",
      "Mapping cell for value=nan\n",
      "parse chunk for nan\n",
      "Mapping cell for value=nan\n",
      "parse chunk for nan\n",
      "Mapping cell for value=nan\n",
      "parse chunk for nan\n",
      "Mapping cell for value=nan\n",
      "parse chunk for nan\n",
      "Mapping cell for value=spastic paraplegia\n",
      "parse chunk for spastic paraplegia\n",
      "Mapping cell for value=spasticity; nerve conduction and EMG studies with abnormal findings \"remarkable for the failure to activate the leg muscles due to an upper motor neuron pattern of aberrant motor unit potential firing rates. These findings are consistent with dysfunction of the corticospinal pathways rather than a lower motor unit.\" Significant low extremity weakness.\n",
      "parse chunk for spasticity; nerve conduction and emg studies with abnormal findings \"remarkable for the failure to activate the leg muscles due to an upper motor neuron pattern of aberrant motor unit potential firing rates. these findings are consistent with dysfunction of the corticospinal pathways rather than a lower motor unit.\" significant low extremity weakness.\n",
      "Mapping cell for value=nan\n",
      "parse chunk for nan\n",
      "Mapping cell for value=spasticity/stiff legs\n",
      "parse chunk for spasticity/stiff legs\n",
      "Mapping cell for value=spastic diplegic cerebral palsy\n",
      "parse chunk for spastic diplegic cerebral palsy\n",
      "Mapping cell for value=orobuccal dyspraxia, awkward gross and fine motricity, difficulty in coordination, unstable gait\n",
      "parse chunk for orobuccal dyspraxia, awkward gross and fine motricity, difficulty in coordination, unstable gait\n"
     ]
    },
    {
     "ename": "AttributeError",
     "evalue": "'list' object has no attribute 'to_string'",
     "output_type": "error",
     "traceback": [
      "\u001b[0;31m---------------------------------------------------------------------------\u001b[0m",
      "\u001b[0;31mAttributeError\u001b[0m                            Traceback (most recent call last)",
      "Cell \u001b[0;32mIn[10], line 1\u001b[0m\n\u001b[0;32m----> 1\u001b[0m \u001b[43mneuroMapper\u001b[49m\u001b[38;5;241;43m.\u001b[39;49m\u001b[43mpreview_column\u001b[49m\u001b[43m(\u001b[49m\u001b[43mdf\u001b[49m\u001b[43m[\u001b[49m\u001b[38;5;124;43m'\u001b[39;49m\u001b[38;5;124;43mneurological examination\u001b[39;49m\u001b[38;5;124;43m'\u001b[39;49m\u001b[43m]\u001b[49m\u001b[43m)\u001b[49m\n",
      "File \u001b[0;32m~/GIT/pyphetools/pyphetools/column_mapper.py:44\u001b[0m, in \u001b[0;36mColumnMapper.preview_column\u001b[0;34m(self, column)\u001b[0m\n\u001b[1;32m     42\u001b[0m         terms \u001b[38;5;241m=\u001b[39m \u001b[38;5;124m\"\u001b[39m\u001b[38;5;124mn/a\u001b[39m\u001b[38;5;124m\"\u001b[39m\n\u001b[1;32m     43\u001b[0m     \u001b[38;5;28;01melse\u001b[39;00m:\n\u001b[0;32m---> 44\u001b[0m         terms \u001b[38;5;241m=\u001b[39m \u001b[38;5;124m\"\u001b[39m\u001b[38;5;124m; \u001b[39m\u001b[38;5;124m\"\u001b[39m\u001b[38;5;241m.\u001b[39mjoin(\u001b[43mv\u001b[49m\u001b[38;5;241;43m.\u001b[39;49m\u001b[43mto_string\u001b[49m())\n\u001b[1;32m     45\u001b[0m     dlist\u001b[38;5;241m.\u001b[39mappend({\u001b[38;5;124m\"\u001b[39m\u001b[38;5;124mcolumn\u001b[39m\u001b[38;5;124m\"\u001b[39m: k, \u001b[38;5;124m\"\u001b[39m\u001b[38;5;124mterms\u001b[39m\u001b[38;5;124m\"\u001b[39m: terms})\n\u001b[1;32m     46\u001b[0m \u001b[38;5;28;01mreturn\u001b[39;00m pd\u001b[38;5;241m.\u001b[39mDataFrame(dlist)\n",
      "\u001b[0;31mAttributeError\u001b[0m: 'list' object has no attribute 'to_string'"
     ]
    }
   ],
   "source": [
    "neuroMapper.preview_column(df['neurological examination'])"
   ]
  },
  {
   "cell_type": "code",
   "execution_count": null,
   "id": "fe1a87f9",
   "metadata": {},
   "outputs": [],
   "source": [
    "cohort_encoder = CohortEncoder(df=df, hpo_cr=hpo_cr)"
   ]
  },
  {
   "cell_type": "code",
   "execution_count": null,
   "id": "273f68fe",
   "metadata": {},
   "outputs": [],
   "source": []
  }
 ],
 "metadata": {
  "kernelspec": {
   "display_name": "venv",
   "language": "python",
   "name": "venv"
  },
  "language_info": {
   "codemirror_mode": {
    "name": "ipython",
    "version": 3
   },
   "file_extension": ".py",
   "mimetype": "text/x-python",
   "name": "python",
   "nbconvert_exporter": "python",
   "pygments_lexer": "ipython3",
   "version": "3.10.6"
  }
 },
 "nbformat": 4,
 "nbformat_minor": 5
}
