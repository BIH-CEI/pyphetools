{
 "cells": [
  {
   "cell_type": "markdown",
   "id": "88225d96",
   "metadata": {},
   "source": [
    "<h1> Explore creation of phenopackets from supplemental material</h1>\n",
    "<p>Let's take <a href=\"https://pubmed.ncbi.nlm.nih.gov/30612693/\" target=\"__blank\">Platzer K., et al. (2019) De Novo Variants in MAPK8IP3 Cause Intellectual Disability with Variable Brain Anomalies</a> as an example</p>\n",
    "<p>pyphetools provides a convenient way of extracting HPO terms from typical tables presented in supplemental material, in which columns either contain yes/no/not-observed indications for a specific phenotypic feature or contain variously formated strings with one or multiple phenotypic features. pyphetools uses text mining to capture as many <a href=\"https://hpo.jax.org/app/\" target=\"__blank\">HPO</a> terms as possible and allows users to specific optional dictionaries that map words or phrases used in the table to the primary labels of HPO terms.</p>\n",
    "<p>Users can work on one column at a time and then generate a collection of <a href=\"https://pubmed.ncbi.nlm.nih.gov/35705716/\" target=\"__blank\">GA4GH phenopackets</a> to represent each patient included in the original supplemental material. These phenopackets can then be used for a variety of downstream applications.</p>"
   ]
  },
  {
   "cell_type": "code",
   "execution_count": 1,
   "id": "4b730d47",
   "metadata": {},
   "outputs": [],
   "source": [
    "import phenopackets as pp\n",
    "import pandas as pd\n",
    "pd.set_option('display.max_colwidth', None) # show entire column contents, important!\n",
    "from collections import defaultdict\n",
    "import os\n",
    "import sys\n",
    "\n",
    "sys.path.insert(0, os.path.abspath('../../pyphetools'))\n",
    "from pyphetools import *"
   ]
  },
  {
   "cell_type": "markdown",
   "id": "3b908768",
   "metadata": {},
   "source": [
    "<h2>Importing HPO data</h2>\n",
    "<p>pyphetools uses the Human Phenotype Ontology (HPO) to encode phenotypic features. The recommended way of doing this is to ingest the hp.json file using HpoParser, which in turn creates an HpoConceptRecognizer object. </p>"
   ]
  },
  {
   "cell_type": "code",
   "execution_count": 2,
   "id": "c5b44b18",
   "metadata": {
    "scrolled": true
   },
   "outputs": [],
   "source": [
    "hpo_json_path = '/home/peter/data/hpo/hp.json'\n",
    "parser = HpoParser(hpo_json_file=hpo_json_path)\n",
    "hpo_cr = parser.get_hpo_concept_recognizer()"
   ]
  },
  {
   "cell_type": "markdown",
   "id": "49b6cf4c",
   "metadata": {},
   "source": [
    "<h2>Importing the supplemental table</h2>\n",
    "<p>Supplemental Table S1 of the Platzer et al (2019) paper is an Excel file that is included in the data subfolder and contains Detailed Clinical Information for All Individuals with Causative De Novo Variants in MAPK8IP3. We need to read this from the original Excel file because some of the cells contain new-line symbols.</p>\n",
    "<p>Here, we use the pandas library to import this file (note that the Python package called openpyxl must be installed to read Excel files with pandas, although the library does not need to be imported in this notebook). pyphetools expects a pandas DataFrame as input, and users can choose any input format available for pandas include CSV, TSV, and Excel, or can use any other method to transform their input data into a Pandas DataFrame before using pyphetools.</p>"
   ]
  },
  {
   "cell_type": "code",
   "execution_count": 3,
   "id": "a748b70a",
   "metadata": {},
   "outputs": [],
   "source": [
    "df = pd.read_excel('data/mmc2.xlsx')"
   ]
  },
  {
   "cell_type": "markdown",
   "id": "bfc95891",
   "metadata": {},
   "source": [
    "<h2>Stepwise encoding of the supplementary material</h2>\n",
    "<p>pyphetools supports efficient and accurate HPO-encoding of typical supplementary tables that describe a cohort of \n",
    "individuals found to have a certain disease. We recommend using the <tt>df.head()</tt> and the <tt>df.columns</tt> commands\n",
    "to view the data and the column headers as follows.</p>"
   ]
  },
  {
   "cell_type": "code",
   "execution_count": 4,
   "id": "d1abeea5",
   "metadata": {},
   "outputs": [
    {
     "data": {
      "text/html": [
       "<div>\n",
       "<style scoped>\n",
       "    .dataframe tbody tr th:only-of-type {\n",
       "        vertical-align: middle;\n",
       "    }\n",
       "\n",
       "    .dataframe tbody tr th {\n",
       "        vertical-align: top;\n",
       "    }\n",
       "\n",
       "    .dataframe thead th {\n",
       "        text-align: right;\n",
       "    }\n",
       "</style>\n",
       "<table border=\"1\" class=\"dataframe\">\n",
       "  <thead>\n",
       "    <tr style=\"text-align: right;\">\n",
       "      <th></th>\n",
       "      <th>Indvidual\\nin\\nmanuscript</th>\n",
       "      <th>g.(hg19) Chr16:</th>\n",
       "      <th>Transcript\\nNM_015133.4\\nc.</th>\n",
       "      <th>p.</th>\n",
       "      <th>origin</th>\n",
       "      <th>genetic testing</th>\n",
       "      <th>Sex</th>\n",
       "      <th>age at last assesment</th>\n",
       "      <th>prenatal period</th>\n",
       "      <th>Exam at birth</th>\n",
       "      <th>...</th>\n",
       "      <th>neurological examination</th>\n",
       "      <th>result of external MRI</th>\n",
       "      <th>seizures</th>\n",
       "      <th>Sz onset and Sz types</th>\n",
       "      <th>AEDs used</th>\n",
       "      <th>Sz outcome</th>\n",
       "      <th>EEG</th>\n",
       "      <th>Additional symptoms</th>\n",
       "      <th>family history</th>\n",
       "      <th>further results of genetic testing</th>\n",
       "    </tr>\n",
       "  </thead>\n",
       "  <tbody>\n",
       "    <tr>\n",
       "      <th>0</th>\n",
       "      <td>1</td>\n",
       "      <td>1756405</td>\n",
       "      <td>c.65delG</td>\n",
       "      <td>p.Gly22Alafs*3</td>\n",
       "      <td>de novo</td>\n",
       "      <td>TrioWES</td>\n",
       "      <td>M</td>\n",
       "      <td>14 y 8 m</td>\n",
       "      <td>NaN</td>\n",
       "      <td>41 weeks:\\nlength: 53.3 cm\\nweight: 3.941 kg\\nOFC: NA</td>\n",
       "      <td>...</td>\n",
       "      <td>ataxia</td>\n",
       "      <td>mild cerebellar atrophy, hypointensity of the globi pallidi and substantia nigra, possible mild degree of abnormal iron or mineral deposition</td>\n",
       "      <td>no</td>\n",
       "      <td>NaN</td>\n",
       "      <td>NaN</td>\n",
       "      <td>NaN</td>\n",
       "      <td>NaN</td>\n",
       "      <td>speech is ataxic but speaks in sentences/short phrases; attention issues, impulse control and emotional lability, OCD symptoms; recently developed scoliosis</td>\n",
       "      <td>unremarkable</td>\n",
       "      <td>NaN</td>\n",
       "    </tr>\n",
       "    <tr>\n",
       "      <th>1</th>\n",
       "      <td>2</td>\n",
       "      <td>1756419</td>\n",
       "      <td>c.79G&gt;T</td>\n",
       "      <td>p.Glu27*</td>\n",
       "      <td>de novo</td>\n",
       "      <td>SingleWES</td>\n",
       "      <td>M</td>\n",
       "      <td>4 y</td>\n",
       "      <td>NaN</td>\n",
       "      <td>length: 49 cm\\nweigth: 3215 g\\nOFC: 35 cm</td>\n",
       "      <td>...</td>\n",
       "      <td>ataxia</td>\n",
       "      <td>normal</td>\n",
       "      <td>no</td>\n",
       "      <td>NaN</td>\n",
       "      <td>NaN</td>\n",
       "      <td>NaN</td>\n",
       "      <td>NaN</td>\n",
       "      <td>pre-natal pelvi-ureteric junction stenosis (spontaneous resolution at 6 m)</td>\n",
       "      <td>NaN</td>\n",
       "      <td>NaN</td>\n",
       "    </tr>\n",
       "    <tr>\n",
       "      <th>2</th>\n",
       "      <td>3</td>\n",
       "      <td>1756451</td>\n",
       "      <td>c.111C&gt;G</td>\n",
       "      <td>p.Tyr37*</td>\n",
       "      <td>de novo</td>\n",
       "      <td>TrioWES</td>\n",
       "      <td>M</td>\n",
       "      <td>4 y</td>\n",
       "      <td>NaN</td>\n",
       "      <td>length: 20.5 in\\nweight: 8 lb 2 oz\\nOFC: NA</td>\n",
       "      <td>...</td>\n",
       "      <td>NaN</td>\n",
       "      <td>Stable areas of T2 hyperintensity involving the central tegmental tracts</td>\n",
       "      <td>no</td>\n",
       "      <td>NaN</td>\n",
       "      <td>NaN</td>\n",
       "      <td>NaN</td>\n",
       "      <td>NaN</td>\n",
       "      <td>Nystagmus</td>\n",
       "      <td>unremarkable</td>\n",
       "      <td>770 kb duplicaion of 20p12.3 on chromosome microarray</td>\n",
       "    </tr>\n",
       "    <tr>\n",
       "      <th>3</th>\n",
       "      <td>4</td>\n",
       "      <td>1798706</td>\n",
       "      <td>c.1198G&gt;A</td>\n",
       "      <td>p.Gly400Arg</td>\n",
       "      <td>de novo</td>\n",
       "      <td>TrioWES</td>\n",
       "      <td>M</td>\n",
       "      <td>7 y 6 m</td>\n",
       "      <td>no prenatal care, no known problems</td>\n",
       "      <td>32 weeks:\\nlength: NA,\\nweight: 4 lbs,\\nOFC: NA\\n\\nhad a 30 day hospital course</td>\n",
       "      <td>...</td>\n",
       "      <td>NaN</td>\n",
       "      <td>no MRI done</td>\n",
       "      <td>no</td>\n",
       "      <td>NaN</td>\n",
       "      <td>NaN</td>\n",
       "      <td>NaN</td>\n",
       "      <td>NaN</td>\n",
       "      <td>Left hearing loss; Dysmorphic features: hypertelorism inner canthal distance 4.3cm; low set prominent ears, slight overhangin columella, hypodontia; 5th finger clinodactyly and 5th finger brachydactylky; synophrys; Encopresis</td>\n",
       "      <td>Mother with learning disorder; finished 11th grade; Father with ADHD and learning disorder; finished 9th grade; Full sister with learning disorder; Full sister no known problems; Full brother with learning disorder</td>\n",
       "      <td>NaN</td>\n",
       "    </tr>\n",
       "    <tr>\n",
       "      <th>4</th>\n",
       "      <td>5</td>\n",
       "      <td>1810410</td>\n",
       "      <td>c.1331T&gt;C</td>\n",
       "      <td>p.Leu444Pro</td>\n",
       "      <td>de novo</td>\n",
       "      <td>TrioWES</td>\n",
       "      <td>M</td>\n",
       "      <td>10 y</td>\n",
       "      <td>NaN</td>\n",
       "      <td>40 weeks, length: 52 cm\\nweight:  3810 g\\nOFC: 36 cm</td>\n",
       "      <td>...</td>\n",
       "      <td>NaN</td>\n",
       "      <td>perisylvian polymicrogyria</td>\n",
       "      <td>yes</td>\n",
       "      <td>10 y:\\none event of a generalized seizure</td>\n",
       "      <td>NaN</td>\n",
       "      <td>NaN</td>\n",
       "      <td>pathological EEG with normal age-related background activity (alpha-type), increased appearance of slowing over temporal and occipital regions</td>\n",
       "      <td>no dysmorphism, small teeth, severe s-configured scoliosis of thoracic and lumbar spine</td>\n",
       "      <td>NaN</td>\n",
       "      <td>NaN</td>\n",
       "    </tr>\n",
       "  </tbody>\n",
       "</table>\n",
       "<p>5 rows × 29 columns</p>\n",
       "</div>"
      ],
      "text/plain": [
       "   Indvidual\\nin\\nmanuscript  g.(hg19) Chr16: Transcript\\nNM_015133.4\\nc.  \\\n",
       "0                          1          1756405                    c.65delG   \n",
       "1                          2          1756419                     c.79G>T   \n",
       "2                          3          1756451                    c.111C>G   \n",
       "3                          4          1798706                 c.1198G>A     \n",
       "4                          5          1810410                   c.1331T>C   \n",
       "\n",
       "               p.   origin genetic testing Sex age at last assesment  \\\n",
       "0  p.Gly22Alafs*3  de novo         TrioWES   M              14 y 8 m   \n",
       "1        p.Glu27*  de novo       SingleWES   M                   4 y   \n",
       "2        p.Tyr37*  de novo         TrioWES   M                   4 y   \n",
       "3     p.Gly400Arg  de novo         TrioWES   M               7 y 6 m   \n",
       "4     p.Leu444Pro  de novo         TrioWES   M                  10 y   \n",
       "\n",
       "                       prenatal period  \\\n",
       "0                                  NaN   \n",
       "1                                  NaN   \n",
       "2                                  NaN   \n",
       "3  no prenatal care, no known problems   \n",
       "4                                  NaN   \n",
       "\n",
       "                                                                     Exam at birth  \\\n",
       "0                            41 weeks:\\nlength: 53.3 cm\\nweight: 3.941 kg\\nOFC: NA   \n",
       "1                                        length: 49 cm\\nweigth: 3215 g\\nOFC: 35 cm   \n",
       "2                                      length: 20.5 in\\nweight: 8 lb 2 oz\\nOFC: NA   \n",
       "3  32 weeks:\\nlength: NA,\\nweight: 4 lbs,\\nOFC: NA\\n\\nhad a 30 day hospital course   \n",
       "4                             40 weeks, length: 52 cm\\nweight:  3810 g\\nOFC: 36 cm   \n",
       "\n",
       "   ... neurological examination  \\\n",
       "0  ...                   ataxia   \n",
       "1  ...                   ataxia   \n",
       "2  ...                      NaN   \n",
       "3  ...                      NaN   \n",
       "4  ...                      NaN   \n",
       "\n",
       "                                                                                                                          result of external MRI  \\\n",
       "0  mild cerebellar atrophy, hypointensity of the globi pallidi and substantia nigra, possible mild degree of abnormal iron or mineral deposition   \n",
       "1                                                                                                                                         normal   \n",
       "2                                                                       Stable areas of T2 hyperintensity involving the central tegmental tracts   \n",
       "3                                                                                                                                    no MRI done   \n",
       "4                                                                                                                     perisylvian polymicrogyria   \n",
       "\n",
       "  seizures                      Sz onset and Sz types AEDs used Sz outcome  \\\n",
       "0       no                                        NaN       NaN        NaN   \n",
       "1       no                                        NaN       NaN        NaN   \n",
       "2       no                                        NaN       NaN        NaN   \n",
       "3       no                                        NaN       NaN        NaN   \n",
       "4      yes  10 y:\\none event of a generalized seizure       NaN        NaN   \n",
       "\n",
       "                                                                                                                                              EEG  \\\n",
       "0                                                                                                                                             NaN   \n",
       "1                                                                                                                                             NaN   \n",
       "2                                                                                                                                             NaN   \n",
       "3                                                                                                                                             NaN   \n",
       "4  pathological EEG with normal age-related background activity (alpha-type), increased appearance of slowing over temporal and occipital regions   \n",
       "\n",
       "                                                                                                                                                                                                                 Additional symptoms  \\\n",
       "0                                                                       speech is ataxic but speaks in sentences/short phrases; attention issues, impulse control and emotional lability, OCD symptoms; recently developed scoliosis   \n",
       "1                                                                                                                                                         pre-natal pelvi-ureteric junction stenosis (spontaneous resolution at 6 m)   \n",
       "2                                                                                                                                                                                                                          Nystagmus   \n",
       "3  Left hearing loss; Dysmorphic features: hypertelorism inner canthal distance 4.3cm; low set prominent ears, slight overhangin columella, hypodontia; 5th finger clinodactyly and 5th finger brachydactylky; synophrys; Encopresis   \n",
       "4                                                                                                                                            no dysmorphism, small teeth, severe s-configured scoliosis of thoracic and lumbar spine   \n",
       "\n",
       "                                                                                                                                                                                                           family history  \\\n",
       "0                                                                                                                                                                                                            unremarkable   \n",
       "1                                                                                                                                                                                                                     NaN   \n",
       "2                                                                                                                                                                                                            unremarkable   \n",
       "3  Mother with learning disorder; finished 11th grade; Father with ADHD and learning disorder; finished 9th grade; Full sister with learning disorder; Full sister no known problems; Full brother with learning disorder   \n",
       "4                                                                                                                                                                                                                     NaN   \n",
       "\n",
       "                      further results of genetic testing  \n",
       "0                                                    NaN  \n",
       "1                                                    NaN  \n",
       "2  770 kb duplicaion of 20p12.3 on chromosome microarray  \n",
       "3                                                    NaN  \n",
       "4                                                    NaN  \n",
       "\n",
       "[5 rows x 29 columns]"
      ]
     },
     "execution_count": 4,
     "metadata": {},
     "output_type": "execute_result"
    }
   ],
   "source": [
    "df.head()"
   ]
  },
  {
   "cell_type": "markdown",
   "id": "4efcd9a8",
   "metadata": {},
   "source": [
    "<h3>Step 1: Determine the columns of interest</h3>\n",
    "<p>Typically, some but not all columns of Supplemental tables include clinical phenotypic features that can be encoded using HPO. Inspect the table using the pandas <tt>head()</tt> function or the <tt>columns</tt> attribute and decide which columns to encode</p>"
   ]
  },
  {
   "cell_type": "code",
   "execution_count": 5,
   "id": "80bfbdbf",
   "metadata": {},
   "outputs": [
    {
     "data": {
      "text/plain": [
       "Index(['Indvidual\\nin\\nmanuscript', 'g.(hg19) Chr16:',\n",
       "       'Transcript\\nNM_015133.4\\nc.', 'p.', 'origin', 'genetic testing', 'Sex',\n",
       "       'age at last assesment', 'prenatal period', 'Exam at birth',\n",
       "       'body measurements\\n(at last assesment if not otherwise specified)',\n",
       "       'DD', 'severity of ID', 'development', 'regression', 'autism',\n",
       "       'hypotonia', 'movement disorder', 'CVI', 'neurological examination',\n",
       "       'result of external MRI', 'seizures', 'Sz onset and Sz types',\n",
       "       'AEDs used', 'Sz outcome', 'EEG', 'Additional symptoms',\n",
       "       'family history', 'further results of genetic testing'],\n",
       "      dtype='object')"
      ]
     },
     "execution_count": 5,
     "metadata": {},
     "output_type": "execute_result"
    }
   ],
   "source": [
    "df.columns"
   ]
  },
  {
   "cell_type": "markdown",
   "id": "91cb8c28",
   "metadata": {},
   "source": [
    "<h3>Step 2: Encode each column of interest using the ColumnMapper class</h3>\n",
    "<p>We will show how to work with the ColumnMapper class in detail using the 'neurological examination' column. The basic idea is to make one ColumnMapper object for each column of interest. The column mapper knows how to map the contents using either default exact text matching or custom maps from whatever strings to HPO terms.</p>\n",
    "<p>The first step is to create a ColumnMapper object and use the preview_column feature to see how many terms can be mapped using exact text mining</p>"
   ]
  },
  {
   "cell_type": "code",
   "execution_count": 6,
   "id": "c375e0d2",
   "metadata": {},
   "outputs": [
    {
     "data": {
      "text/html": [
       "<div>\n",
       "<style scoped>\n",
       "    .dataframe tbody tr th:only-of-type {\n",
       "        vertical-align: middle;\n",
       "    }\n",
       "\n",
       "    .dataframe tbody tr th {\n",
       "        vertical-align: top;\n",
       "    }\n",
       "\n",
       "    .dataframe thead th {\n",
       "        text-align: right;\n",
       "    }\n",
       "</style>\n",
       "<table border=\"1\" class=\"dataframe\">\n",
       "  <thead>\n",
       "    <tr style=\"text-align: right;\">\n",
       "      <th></th>\n",
       "      <th>column</th>\n",
       "      <th>terms</th>\n",
       "    </tr>\n",
       "  </thead>\n",
       "  <tbody>\n",
       "    <tr>\n",
       "      <th>0</th>\n",
       "      <td>ataxia</td>\n",
       "      <td>Ataxia (HP:0001251)</td>\n",
       "    </tr>\n",
       "    <tr>\n",
       "      <th>1</th>\n",
       "      <td>NaN</td>\n",
       "      <td>n/a</td>\n",
       "    </tr>\n",
       "    <tr>\n",
       "      <th>2</th>\n",
       "      <td>spastic paraplegia</td>\n",
       "      <td>Spastic paraplegia (HP:0001258)</td>\n",
       "    </tr>\n",
       "    <tr>\n",
       "      <th>3</th>\n",
       "      <td>spasticity; nerve conduction and EMG studies with abnormal findings \"remarkable for the failure to activate the leg muscles due to an upper motor neuron pattern of aberrant motor unit potential firing rates. These findings are consistent with dysfunction of the corticospinal pathways rather than a lower motor unit.\" Significant low extremity weakness.</td>\n",
       "      <td>Spasticity (HP:0001257)</td>\n",
       "    </tr>\n",
       "    <tr>\n",
       "      <th>4</th>\n",
       "      <td>spasticity/stiff legs</td>\n",
       "      <td>Spasticity (HP:0001257)</td>\n",
       "    </tr>\n",
       "    <tr>\n",
       "      <th>5</th>\n",
       "      <td>spastic diplegic cerebral palsy</td>\n",
       "      <td>Cerebral palsy (HP:0100021)</td>\n",
       "    </tr>\n",
       "    <tr>\n",
       "      <th>6</th>\n",
       "      <td>orobuccal dyspraxia, awkward gross and fine motricity, difficulty in coordination, unstable gait</td>\n",
       "      <td>Stable (HP:0031915)</td>\n",
       "    </tr>\n",
       "  </tbody>\n",
       "</table>\n",
       "</div>"
      ],
      "text/plain": [
       "                                                                                                                                                                                                                                                                                                                                                              column  \\\n",
       "0                                                                                                                                                                                                                                                                                                                                                             ataxia   \n",
       "1                                                                                                                                                                                                                                                                                                                                                                NaN   \n",
       "2                                                                                                                                                                                                                                                                                                                                                 spastic paraplegia   \n",
       "3  spasticity; nerve conduction and EMG studies with abnormal findings \"remarkable for the failure to activate the leg muscles due to an upper motor neuron pattern of aberrant motor unit potential firing rates. These findings are consistent with dysfunction of the corticospinal pathways rather than a lower motor unit.\" Significant low extremity weakness.   \n",
       "4                                                                                                                                                                                                                                                                                                                                              spasticity/stiff legs   \n",
       "5                                                                                                                                                                                                                                                                                                                                    spastic diplegic cerebral palsy   \n",
       "6                                                                                                                                                                                                                                                                   orobuccal dyspraxia, awkward gross and fine motricity, difficulty in coordination, unstable gait   \n",
       "\n",
       "                             terms  \n",
       "0              Ataxia (HP:0001251)  \n",
       "1                              n/a  \n",
       "2  Spastic paraplegia (HP:0001258)  \n",
       "3          Spasticity (HP:0001257)  \n",
       "4          Spasticity (HP:0001257)  \n",
       "5      Cerebral palsy (HP:0100021)  \n",
       "6              Stable (HP:0031915)  "
      ]
     },
     "execution_count": 6,
     "metadata": {},
     "output_type": "execute_result"
    }
   ],
   "source": [
    "neuroMapper = CustomColumnMapper(concept_recognizer=hpo_cr)\n",
    "neuroMapper.preview_column(df['neurological examination'])"
   ]
  },
  {
   "cell_type": "markdown",
   "id": "8908f55e",
   "metadata": {},
   "source": [
    "<h3>Adding manual mappings: CustomColumnMapper</h3>\n",
    "<p>We can see that the string in the first column, 'ataxia' was mapped to the HPO term <i>Ataxia</i> (HP:0001251), and that several other concepts were identified. However, we missed several concepts that do not match exactly with HPO term labels or synonyms, but can be mapped using some domain knonwledge. For instance, low extremity weakness appears to be equivalent to <i>Lower limb muscle weakness</i> (HP:0007340).</p>\n",
    "<p>To add these mappings, users should look up the primary label of the HPO terms in question and create a dictionary that maps the phrases used in the supplemental material to the HPO labels. The following cell shows a map for the 'neurological examination' column and calls the ColumnMapper constructor with this custom map</p>"
   ]
  },
  {
   "cell_type": "code",
   "execution_count": 7,
   "id": "6110f1ce",
   "metadata": {},
   "outputs": [
    {
     "data": {
      "text/html": [
       "<div>\n",
       "<style scoped>\n",
       "    .dataframe tbody tr th:only-of-type {\n",
       "        vertical-align: middle;\n",
       "    }\n",
       "\n",
       "    .dataframe tbody tr th {\n",
       "        vertical-align: top;\n",
       "    }\n",
       "\n",
       "    .dataframe thead th {\n",
       "        text-align: right;\n",
       "    }\n",
       "</style>\n",
       "<table border=\"1\" class=\"dataframe\">\n",
       "  <thead>\n",
       "    <tr style=\"text-align: right;\">\n",
       "      <th></th>\n",
       "      <th>column</th>\n",
       "      <th>terms</th>\n",
       "    </tr>\n",
       "  </thead>\n",
       "  <tbody>\n",
       "    <tr>\n",
       "      <th>0</th>\n",
       "      <td>ataxia</td>\n",
       "      <td>Ataxia (HP:0001251)</td>\n",
       "    </tr>\n",
       "    <tr>\n",
       "      <th>1</th>\n",
       "      <td>NaN</td>\n",
       "      <td>n/a</td>\n",
       "    </tr>\n",
       "    <tr>\n",
       "      <th>2</th>\n",
       "      <td>spastic paraplegia</td>\n",
       "      <td>Spastic paraplegia (HP:0001258)</td>\n",
       "    </tr>\n",
       "    <tr>\n",
       "      <th>3</th>\n",
       "      <td>spasticity; nerve conduction and EMG studies with abnormal findings \"remarkable for the failure to activate the leg muscles due to an upper motor neuron pattern of aberrant motor unit potential firing rates. These findings are consistent with dysfunction of the corticospinal pathways rather than a lower motor unit.\" Significant low extremity weakness.</td>\n",
       "      <td>Lower limb muscle weakness (HP:0007340); Upper motor neuron dysfunction (HP:0002493); Spasticity (HP:0001257)</td>\n",
       "    </tr>\n",
       "    <tr>\n",
       "      <th>4</th>\n",
       "      <td>spasticity/stiff legs</td>\n",
       "      <td>Spasticity (HP:0001257)</td>\n",
       "    </tr>\n",
       "    <tr>\n",
       "      <th>5</th>\n",
       "      <td>spastic diplegic cerebral palsy</td>\n",
       "      <td>Spasticity (HP:0001257); Cerebral palsy (HP:0100021)</td>\n",
       "    </tr>\n",
       "    <tr>\n",
       "      <th>6</th>\n",
       "      <td>orobuccal dyspraxia, awkward gross and fine motricity, difficulty in coordination, unstable gait</td>\n",
       "      <td>Unsteady gait (HP:0002317); Oromotor apraxia (HP:0007301); Poor coordination (HP:0002370)</td>\n",
       "    </tr>\n",
       "  </tbody>\n",
       "</table>\n",
       "</div>"
      ],
      "text/plain": [
       "                                                                                                                                                                                                                                                                                                                                                              column  \\\n",
       "0                                                                                                                                                                                                                                                                                                                                                             ataxia   \n",
       "1                                                                                                                                                                                                                                                                                                                                                                NaN   \n",
       "2                                                                                                                                                                                                                                                                                                                                                 spastic paraplegia   \n",
       "3  spasticity; nerve conduction and EMG studies with abnormal findings \"remarkable for the failure to activate the leg muscles due to an upper motor neuron pattern of aberrant motor unit potential firing rates. These findings are consistent with dysfunction of the corticospinal pathways rather than a lower motor unit.\" Significant low extremity weakness.   \n",
       "4                                                                                                                                                                                                                                                                                                                                              spasticity/stiff legs   \n",
       "5                                                                                                                                                                                                                                                                                                                                    spastic diplegic cerebral palsy   \n",
       "6                                                                                                                                                                                                                                                                   orobuccal dyspraxia, awkward gross and fine motricity, difficulty in coordination, unstable gait   \n",
       "\n",
       "                                                                                                           terms  \n",
       "0                                                                                            Ataxia (HP:0001251)  \n",
       "1                                                                                                            n/a  \n",
       "2                                                                                Spastic paraplegia (HP:0001258)  \n",
       "3  Lower limb muscle weakness (HP:0007340); Upper motor neuron dysfunction (HP:0002493); Spasticity (HP:0001257)  \n",
       "4                                                                                        Spasticity (HP:0001257)  \n",
       "5                                                           Spasticity (HP:0001257); Cerebral palsy (HP:0100021)  \n",
       "6                      Unsteady gait (HP:0002317); Oromotor apraxia (HP:0007301); Poor coordination (HP:0002370)  "
      ]
     },
     "execution_count": 7,
     "metadata": {},
     "output_type": "execute_result"
    }
   ],
   "source": [
    "neuro_exam_custom_map = {'low extremity weakness': 'Lower limb muscle weakness',  \n",
    "                         'unstable gait': 'Unsteady gait',\n",
    "                         'dysfunction of the corticospinal pathways':'Upper motor neuron dysfunction',\n",
    "                         'spastic': 'Spasticity',\n",
    "                         'orobuccal dyspraxia': 'Oromotor apraxia',\n",
    "                         'difficulty in coordination':'Poor coordination'\n",
    "                        }\n",
    "neuroMapper = CustomColumnMapper(concept_recognizer=hpo_cr, custom_map_d=neuro_exam_custom_map, )\n",
    "neuroMapper.preview_column(df['neurological examination'])"
   ]
  },
  {
   "cell_type": "markdown",
   "id": "8e1f2701",
   "metadata": {},
   "source": [
    "<h3>Adding manual mappings: CustomColumnMapper</h3>\n",
    "<p>The 'DD' column only contains information about <i>Global developmental delay</i> (HP:0001263). We use\n",
    "    the SimpleColumnMapper class for columns such as this that contain Yes/No information (and sometimes an indication that the item was not measured or information is not available).</p>"
   ]
  },
  {
   "cell_type": "code",
   "execution_count": 8,
   "id": "fea3aeab",
   "metadata": {},
   "outputs": [
    {
     "data": {
      "text/plain": [
       "0    yes\n",
       "1    yes\n",
       "2    yes\n",
       "3    yes\n",
       "4    yes\n",
       "Name: DD, dtype: object"
      ]
     },
     "execution_count": 8,
     "metadata": {},
     "output_type": "execute_result"
    }
   ],
   "source": [
    "df['DD'].head()"
   ]
  },
  {
   "cell_type": "code",
   "execution_count": 9,
   "id": "5d20651e",
   "metadata": {},
   "outputs": [],
   "source": [
    "ddMapper = SimpleColumnMapper(hpo_id='HP:0001263',\n",
    "    hpo_label='Global developmental delay',\n",
    "    observed='yes',\n",
    "    excluded='no')"
   ]
  },
  {
   "cell_type": "code",
   "execution_count": 10,
   "id": "0f27bd36",
   "metadata": {},
   "outputs": [
    {
     "data": {
      "text/html": [
       "<div>\n",
       "<style scoped>\n",
       "    .dataframe tbody tr th:only-of-type {\n",
       "        vertical-align: middle;\n",
       "    }\n",
       "\n",
       "    .dataframe tbody tr th {\n",
       "        vertical-align: top;\n",
       "    }\n",
       "\n",
       "    .dataframe thead th {\n",
       "        text-align: right;\n",
       "    }\n",
       "</style>\n",
       "<table border=\"1\" class=\"dataframe\">\n",
       "  <thead>\n",
       "    <tr style=\"text-align: right;\">\n",
       "      <th></th>\n",
       "      <th>term</th>\n",
       "      <th>status</th>\n",
       "    </tr>\n",
       "  </thead>\n",
       "  <tbody>\n",
       "    <tr>\n",
       "      <th>0</th>\n",
       "      <td>Global developmental delay (HP:0001263)</td>\n",
       "      <td>observed</td>\n",
       "    </tr>\n",
       "    <tr>\n",
       "      <th>1</th>\n",
       "      <td>Global developmental delay (HP:0001263)</td>\n",
       "      <td>observed</td>\n",
       "    </tr>\n",
       "    <tr>\n",
       "      <th>2</th>\n",
       "      <td>Global developmental delay (HP:0001263)</td>\n",
       "      <td>observed</td>\n",
       "    </tr>\n",
       "    <tr>\n",
       "      <th>3</th>\n",
       "      <td>Global developmental delay (HP:0001263)</td>\n",
       "      <td>observed</td>\n",
       "    </tr>\n",
       "    <tr>\n",
       "      <th>4</th>\n",
       "      <td>Global developmental delay (HP:0001263)</td>\n",
       "      <td>observed</td>\n",
       "    </tr>\n",
       "    <tr>\n",
       "      <th>5</th>\n",
       "      <td>Global developmental delay (HP:0001263)</td>\n",
       "      <td>observed</td>\n",
       "    </tr>\n",
       "    <tr>\n",
       "      <th>6</th>\n",
       "      <td>Global developmental delay (HP:0001263)</td>\n",
       "      <td>observed</td>\n",
       "    </tr>\n",
       "    <tr>\n",
       "      <th>7</th>\n",
       "      <td>Global developmental delay (HP:0001263)</td>\n",
       "      <td>observed</td>\n",
       "    </tr>\n",
       "    <tr>\n",
       "      <th>8</th>\n",
       "      <td>Global developmental delay (HP:0001263)</td>\n",
       "      <td>observed</td>\n",
       "    </tr>\n",
       "    <tr>\n",
       "      <th>9</th>\n",
       "      <td>Global developmental delay (HP:0001263)</td>\n",
       "      <td>observed</td>\n",
       "    </tr>\n",
       "    <tr>\n",
       "      <th>10</th>\n",
       "      <td>Global developmental delay (HP:0001263)</td>\n",
       "      <td>observed</td>\n",
       "    </tr>\n",
       "    <tr>\n",
       "      <th>11</th>\n",
       "      <td>Global developmental delay (HP:0001263)</td>\n",
       "      <td>observed</td>\n",
       "    </tr>\n",
       "    <tr>\n",
       "      <th>12</th>\n",
       "      <td>Global developmental delay (HP:0001263)</td>\n",
       "      <td>observed</td>\n",
       "    </tr>\n",
       "  </tbody>\n",
       "</table>\n",
       "</div>"
      ],
      "text/plain": [
       "                                       term    status\n",
       "0   Global developmental delay (HP:0001263)  observed\n",
       "1   Global developmental delay (HP:0001263)  observed\n",
       "2   Global developmental delay (HP:0001263)  observed\n",
       "3   Global developmental delay (HP:0001263)  observed\n",
       "4   Global developmental delay (HP:0001263)  observed\n",
       "5   Global developmental delay (HP:0001263)  observed\n",
       "6   Global developmental delay (HP:0001263)  observed\n",
       "7   Global developmental delay (HP:0001263)  observed\n",
       "8   Global developmental delay (HP:0001263)  observed\n",
       "9   Global developmental delay (HP:0001263)  observed\n",
       "10  Global developmental delay (HP:0001263)  observed\n",
       "11  Global developmental delay (HP:0001263)  observed\n",
       "12  Global developmental delay (HP:0001263)  observed"
      ]
     },
     "execution_count": 10,
     "metadata": {},
     "output_type": "execute_result"
    }
   ],
   "source": [
    "ddMapper.preview_column(df['DD'])"
   ]
  },
  {
   "cell_type": "markdown",
   "id": "25f4674d",
   "metadata": {},
   "source": [
    "<h3>Adding manual mappings from a list of options: OptionColumnMapper</h3>\n",
    "<p>In some cases, a columnn has just a few options that may need to be manually mapped. In our example, the column 'severity of ID' contains <i>Intellectual disability, severe</i> (HP:0010864)  <i>Intellectual disability, moderate</i>  (HP:0002342), and <i>Intellectual disability, mild</i> (HP:0001256)</p>\n",
    "<p>We use the OptionColumnMapper class for such cases.</p>"
   ]
  },
  {
   "cell_type": "code",
   "execution_count": 13,
   "id": "385d65cc",
   "metadata": {},
   "outputs": [
    {
     "data": {
      "text/plain": [
       "0            moderate\\n(IQ 48)\n",
       "1                       severe\n",
       "2                     moderate\n",
       "3                         mild\n",
       "4     moderate\\n(IQ 49 and 65)\n",
       "5                         mild\n",
       "6                         mild\n",
       "7                       severe\n",
       "8                     moderate\n",
       "9                     moderate\n",
       "10                    moderate\n",
       "11                      severe\n",
       "12           moderate\\n(IQ 49)\n",
       "Name: severity of ID, dtype: object"
      ]
     },
     "execution_count": 13,
     "metadata": {},
     "output_type": "execute_result"
    }
   ],
   "source": [
    "df['severity of ID']"
   ]
  },
  {
   "cell_type": "code",
   "execution_count": 16,
   "id": "ea8966f9",
   "metadata": {},
   "outputs": [
    {
     "ename": "IndexError",
     "evalue": "list index out of range",
     "output_type": "error",
     "traceback": [
      "\u001b[0;31m---------------------------------------------------------------------------\u001b[0m",
      "\u001b[0;31mIndexError\u001b[0m                                Traceback (most recent call last)",
      "Cell \u001b[0;32mIn[16], line 7\u001b[0m\n\u001b[1;32m      1\u001b[0m severity_d \u001b[38;5;241m=\u001b[39m {\u001b[38;5;124m'\u001b[39m\u001b[38;5;124mmoderate\u001b[39m\u001b[38;5;130;01m\\n\u001b[39;00m\u001b[38;5;124m(IQ 48)\u001b[39m\u001b[38;5;124m'\u001b[39m:\u001b[38;5;124m'\u001b[39m\u001b[38;5;124mIntellectual disability, moderate\u001b[39m\u001b[38;5;124m'\u001b[39m,\n\u001b[1;32m      2\u001b[0m              \u001b[38;5;124m'\u001b[39m\u001b[38;5;124mmoderate\u001b[39m\u001b[38;5;124m'\u001b[39m:\u001b[38;5;124m'\u001b[39m\u001b[38;5;124mIntellectual disability, moderate\u001b[39m\u001b[38;5;124m'\u001b[39m,\n\u001b[1;32m      3\u001b[0m              \u001b[38;5;124m'\u001b[39m\u001b[38;5;124mmoderate\u001b[39m\u001b[38;5;130;01m\\n\u001b[39;00m\u001b[38;5;124m(IQ 49)\u001b[39m\u001b[38;5;124m'\u001b[39m: \u001b[38;5;124m'\u001b[39m\u001b[38;5;124mIntellectual disability, moderate\u001b[39m\u001b[38;5;124m'\u001b[39m,\n\u001b[1;32m      4\u001b[0m              \u001b[38;5;124m'\u001b[39m\u001b[38;5;124msevere\u001b[39m\u001b[38;5;124m'\u001b[39m: \u001b[38;5;124m'\u001b[39m\u001b[38;5;124mIntellectual disability, severe\u001b[39m\u001b[38;5;124m'\u001b[39m,\n\u001b[1;32m      5\u001b[0m              \u001b[38;5;124m'\u001b[39m\u001b[38;5;124mmild\u001b[39m\u001b[38;5;124m'\u001b[39m: \u001b[38;5;124m'\u001b[39m\u001b[38;5;124mIntellectual disability, mild\u001b[39m\u001b[38;5;124m'\u001b[39m}\n\u001b[1;32m      6\u001b[0m severityOfIdMapper \u001b[38;5;241m=\u001b[39m OptionColumnMapper(concept_recognizer\u001b[38;5;241m=\u001b[39mhpo_cr, option_d\u001b[38;5;241m=\u001b[39mseverity_d)\n\u001b[0;32m----> 7\u001b[0m \u001b[43mseverityOfIdMapper\u001b[49m\u001b[38;5;241;43m.\u001b[39;49m\u001b[43mpreview_column\u001b[49m\u001b[43m(\u001b[49m\u001b[43mdf\u001b[49m\u001b[43m[\u001b[49m\u001b[38;5;124;43m'\u001b[39;49m\u001b[38;5;124;43mseverity of ID\u001b[39;49m\u001b[38;5;124;43m'\u001b[39;49m\u001b[43m]\u001b[49m\u001b[43m)\u001b[49m\n",
      "File \u001b[0;32m~/GIT/pyphetools/pyphetools/option_column_mapper.py:32\u001b[0m, in \u001b[0;36mOptionColumnMapper.preview_column\u001b[0;34m(self, column)\u001b[0m\n\u001b[1;32m     30\u001b[0m \u001b[38;5;28;01mfor\u001b[39;00m _, value \u001b[38;5;129;01min\u001b[39;00m column\u001b[38;5;241m.\u001b[39mitems():\n\u001b[1;32m     31\u001b[0m     value  \u001b[38;5;241m=\u001b[39m \u001b[38;5;28mself\u001b[39m\u001b[38;5;241m.\u001b[39mmap_cell(\u001b[38;5;28mstr\u001b[39m(value))\n\u001b[0;32m---> 32\u001b[0m     hpterm \u001b[38;5;241m=\u001b[39m \u001b[43mvalue\u001b[49m\u001b[43m[\u001b[49m\u001b[38;5;241;43m0\u001b[39;49m\u001b[43m]\u001b[49m\n\u001b[1;32m     33\u001b[0m     dlist\u001b[38;5;241m.\u001b[39mappend({\u001b[38;5;124m\"\u001b[39m\u001b[38;5;124mterm\u001b[39m\u001b[38;5;124m\"\u001b[39m: hpterm\u001b[38;5;241m.\u001b[39mhpo_term_and_id, \u001b[38;5;124m\"\u001b[39m\u001b[38;5;124mstatus\u001b[39m\u001b[38;5;124m\"\u001b[39m: hpterm\u001b[38;5;241m.\u001b[39mdisplay_value})\n\u001b[1;32m     34\u001b[0m \u001b[38;5;28;01mreturn\u001b[39;00m pd\u001b[38;5;241m.\u001b[39mDataFrame(dlist)\n",
      "\u001b[0;31mIndexError\u001b[0m: list index out of range"
     ]
    }
   ],
   "source": [
    "severity_d = {'moderate\\n(IQ 48)':'Intellectual disability, moderate',\n",
    "             'moderate':'Intellectual disability, moderate',\n",
    "             'moderate\\n(IQ 49)': 'Intellectual disability, moderate',\n",
    "             'severe': 'Intellectual disability, severe',\n",
    "             'mild': 'Intellectual disability, mild'}\n",
    "severityOfIdMapper = OptionColumnMapper(concept_recognizer=hpo_cr, option_d=severity_d)\n",
    "severityOfIdMapper.preview_column(df['severity of ID'])"
   ]
  },
  {
   "cell_type": "markdown",
   "id": "83f2dc52",
   "metadata": {},
   "source": [
    "<h2>Collecting column mappings for the entire table</h2>\n",
    "<p>pyphetools expects to get a disctionary whose keys correspond to the column names used by the pandas DataFrame, and the values are the corresponding ColumnMapper objects. In the following, we create this dictionary and then we create a ColumnMapper object for each of the columns to be mapped.</p>"
   ]
  },
  {
   "cell_type": "code",
   "execution_count": 11,
   "id": "ba8fdef2",
   "metadata": {},
   "outputs": [],
   "source": [
    "column_mapper_d = defaultdict(ColumnMapper)\n",
    "column_mapper_d['neurological examination'] = neuroMapper\n",
    "column_mapper_d['DD'] = ddMapper"
   ]
  },
  {
   "cell_type": "code",
   "execution_count": 12,
   "id": "a9a6f5c5",
   "metadata": {},
   "outputs": [
    {
     "data": {
      "text/plain": [
       "0            moderate\\n(IQ 48)\n",
       "1                       severe\n",
       "2                     moderate\n",
       "3                         mild\n",
       "4     moderate\\n(IQ 49 and 65)\n",
       "5                         mild\n",
       "6                         mild\n",
       "7                       severe\n",
       "8                     moderate\n",
       "9                     moderate\n",
       "10                    moderate\n",
       "11                      severe\n",
       "12           moderate\\n(IQ 49)\n",
       "Name: severity of ID, dtype: object"
      ]
     },
     "execution_count": 12,
     "metadata": {},
     "output_type": "execute_result"
    }
   ],
   "source": [
    "df['severity of ID']"
   ]
  },
  {
   "cell_type": "code",
   "execution_count": null,
   "id": "161b2980",
   "metadata": {},
   "outputs": [],
   "source": []
  }
 ],
 "metadata": {
  "kernelspec": {
   "display_name": "venv",
   "language": "python",
   "name": "venv"
  },
  "language_info": {
   "codemirror_mode": {
    "name": "ipython",
    "version": 3
   },
   "file_extension": ".py",
   "mimetype": "text/x-python",
   "name": "python",
   "nbconvert_exporter": "python",
   "pygments_lexer": "ipython3",
   "version": "3.10.6"
  }
 },
 "nbformat": 4,
 "nbformat_minor": 5
}
