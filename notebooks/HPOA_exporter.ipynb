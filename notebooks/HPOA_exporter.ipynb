{
 "cells": [
  {
   "cell_type": "markdown",
   "id": "1c7de443-8a07-4957-972f-720de6120bed",
   "metadata": {},
   "source": [
    "# HPOA File creator\n",
    "This notebook shows how to convert a collection of phenopackets into a file that can be use for the phenotype.hpoa resource. The latter provides aggregate frequency data for each source.\n",
    "\n",
    "For this example we first create a collection of phenopackets and then transform them into a file for the HPOA.\n",
    "\n",
    "Our example will be [Yogev Y, et al. (2023) Limb girdle muscular disease caused by HMGCR mutation and statin myopathy treatable with mevalonolactone. Proc Natl Acad Sci U S A.  120:e2217831120 PMID: 36745799](https://pubmed.ncbi.nlm.nih.gov/36745799/)."
   ]
  },
  {
   "cell_type": "code",
   "execution_count": 1,
   "id": "a5500cec-34f9-4ac6-a4d8-a838585d0dab",
   "metadata": {},
   "outputs": [
    {
     "name": "stdout",
     "output_type": "stream",
     "text": [
      "Using pyphetools version 0.8.7\n"
     ]
    }
   ],
   "source": [
    "import phenopackets as PPKt\n",
    "from google.protobuf.json_format import MessageToDict, MessageToJson\n",
    "from google.protobuf.json_format import Parse, ParseDict\n",
    "import pandas as pd\n",
    "import os, sys\n",
    "pd.set_option('display.max_colwidth', None) # show entire column contents, important!\n",
    "pd.set_option('display.max_rows', None)\n",
    "from collections import defaultdict\n",
    "\n",
    "from phenopackets import Phenopacket\n",
    "from google.protobuf.json_format import Parse\n",
    "import json\n",
    "import hpotk\n",
    "\n",
    "from IPython.display import display, HTML\n",
    "from pyphetools.creation import *\n",
    "from pyphetools.visualization import *\n",
    "from pyphetools.validation import *\n",
    "\n",
    "import importlib.metadata\n",
    "__version__ = importlib.metadata.version(\"pyphetools\")\n",
    "print(f\"Using pyphetools version {__version__}\")"
   ]
  },
  {
   "cell_type": "code",
   "execution_count": 2,
   "id": "df2aa98e-c8f6-4720-9875-5bed0226b01c",
   "metadata": {},
   "outputs": [],
   "source": [
    "parser = HpoParser()\n",
    "hpo_cr = parser.get_hpo_concept_recognizer()\n",
    "hpo_version = parser.get_version()\n",
    "hpo_ontology = parser.get_ontology()\n",
    "PMID=\"PMID:36745799\"\n",
    "title = \"Limb girdle muscular disease caused by HMGCR mutation and statin myopathy treatable with mevalonolactone\"\n",
    "metadata = MetaData(created_by=\"ORCID:0000-0002-0736-9199\", pmid=PMID, pubmed_title=title)\n",
    "metadata.default_versions_with_hpo(version=hpo_version)"
   ]
  },
  {
   "cell_type": "code",
   "execution_count": 3,
   "id": "13a35947-43c6-4afe-af0d-06da3882147a",
   "metadata": {},
   "outputs": [],
   "source": [
    "data = \"data/LGMDR28.xlsx\"\n",
    "df = pd.read_excel(data)"
   ]
  },
  {
   "cell_type": "code",
   "execution_count": 4,
   "id": "168e0d88-4d97-4e8c-9969-377081698abe",
   "metadata": {},
   "outputs": [
    {
     "data": {
      "text/html": [
       "<div>\n",
       "<style scoped>\n",
       "    .dataframe tbody tr th:only-of-type {\n",
       "        vertical-align: middle;\n",
       "    }\n",
       "\n",
       "    .dataframe tbody tr th {\n",
       "        vertical-align: top;\n",
       "    }\n",
       "\n",
       "    .dataframe thead th {\n",
       "        text-align: right;\n",
       "    }\n",
       "</style>\n",
       "<table border=\"1\" class=\"dataframe\">\n",
       "  <thead>\n",
       "    <tr style=\"text-align: right;\">\n",
       "      <th></th>\n",
       "      <th>INDIVIDUAL</th>\n",
       "      <th>V:2</th>\n",
       "      <th>V:5</th>\n",
       "      <th>V:8</th>\n",
       "      <th>V:9</th>\n",
       "      <th>V:12</th>\n",
       "      <th>V:13</th>\n",
       "    </tr>\n",
       "  </thead>\n",
       "  <tbody>\n",
       "    <tr>\n",
       "      <th>0</th>\n",
       "      <td>SEX</td>\n",
       "      <td>F</td>\n",
       "      <td>M</td>\n",
       "      <td>M</td>\n",
       "      <td>M</td>\n",
       "      <td>F</td>\n",
       "      <td>M</td>\n",
       "    </tr>\n",
       "    <tr>\n",
       "      <th>1</th>\n",
       "      <td>AGE_AT_EXAMINATION</td>\n",
       "      <td>49</td>\n",
       "      <td>58</td>\n",
       "      <td>37</td>\n",
       "      <td>42</td>\n",
       "      <td>51</td>\n",
       "      <td>41</td>\n",
       "    </tr>\n",
       "    <tr>\n",
       "      <th>2</th>\n",
       "      <td>AGE_AT_ONSET</td>\n",
       "      <td>31</td>\n",
       "      <td>39</td>\n",
       "      <td>24</td>\n",
       "      <td>33</td>\n",
       "      <td>31</td>\n",
       "      <td>34</td>\n",
       "    </tr>\n",
       "    <tr>\n",
       "      <th>3</th>\n",
       "      <td>PROXIMAL_STRENGTH-UPPER_LIMB</td>\n",
       "      <td>0/5</td>\n",
       "      <td>3/5</td>\n",
       "      <td>5/5</td>\n",
       "      <td>5/5</td>\n",
       "      <td>2/5</td>\n",
       "      <td>3/5</td>\n",
       "    </tr>\n",
       "    <tr>\n",
       "      <th>4</th>\n",
       "      <td>PROXIMAL_STRENGTH-LOWER_LIMB</td>\n",
       "      <td>0/5</td>\n",
       "      <td>2/5</td>\n",
       "      <td>5/5</td>\n",
       "      <td>4/5</td>\n",
       "      <td>2/5</td>\n",
       "      <td>4/5</td>\n",
       "    </tr>\n",
       "  </tbody>\n",
       "</table>\n",
       "</div>"
      ],
      "text/plain": [
       "                     INDIVIDUAL  V:2  V:5  V:8  V:9 V:12 V:13\n",
       "0                           SEX    F    M    M    M    F    M\n",
       "1            AGE_AT_EXAMINATION   49   58   37   42   51   41\n",
       "2                  AGE_AT_ONSET   31   39   24   33   31   34\n",
       "3  PROXIMAL_STRENGTH-UPPER_LIMB  0/5  3/5  5/5  5/5  2/5  3/5\n",
       "4  PROXIMAL_STRENGTH-LOWER_LIMB  0/5  2/5  5/5  4/5  2/5  4/5"
      ]
     },
     "execution_count": 4,
     "metadata": {},
     "output_type": "execute_result"
    }
   ],
   "source": [
    "df.head()"
   ]
  },
  {
   "cell_type": "code",
   "execution_count": 5,
   "id": "7648875d-1483-4474-87ab-a609f5c4d72d",
   "metadata": {},
   "outputs": [
    {
     "data": {
      "text/html": [
       "<div>\n",
       "<style scoped>\n",
       "    .dataframe tbody tr th:only-of-type {\n",
       "        vertical-align: middle;\n",
       "    }\n",
       "\n",
       "    .dataframe tbody tr th {\n",
       "        vertical-align: top;\n",
       "    }\n",
       "\n",
       "    .dataframe thead th {\n",
       "        text-align: right;\n",
       "    }\n",
       "</style>\n",
       "<table border=\"1\" class=\"dataframe\">\n",
       "  <thead>\n",
       "    <tr style=\"text-align: right;\">\n",
       "      <th>INDIVIDUAL</th>\n",
       "      <th>SEX</th>\n",
       "      <th>AGE_AT_EXAMINATION</th>\n",
       "      <th>AGE_AT_ONSET</th>\n",
       "      <th>PROXIMAL_STRENGTH-UPPER_LIMB</th>\n",
       "      <th>PROXIMAL_STRENGTH-LOWER_LIMB</th>\n",
       "      <th>ATROPHY_UPPER_LIMB</th>\n",
       "      <th>ATROPHY_LOWER_LIMB</th>\n",
       "      <th>DEEP_TENDON_REFLEXES</th>\n",
       "      <th>PAIN_ON_EXERTION</th>\n",
       "      <th>AMBULATORY</th>\n",
       "      <th>...</th>\n",
       "      <th>VLDL</th>\n",
       "      <th>FASTING_BLOOD_SUGAR</th>\n",
       "      <th>ANA,RF,C3,C4ABNORMALITIES</th>\n",
       "      <th>ANTI-SM,ANTIJO-1,ANTI-SSA/B,ANCA,AMA</th>\n",
       "      <th>ANTI-HMGCR_AB</th>\n",
       "      <th>ABNORMAL_BRAIN_IMAGING</th>\n",
       "      <th>MYOPATHIC_CHANGES_IN_EMG</th>\n",
       "      <th>ABNORMAL_NCV</th>\n",
       "      <th>COMORBIDITIES</th>\n",
       "      <th>patient_id</th>\n",
       "    </tr>\n",
       "  </thead>\n",
       "  <tbody>\n",
       "    <tr>\n",
       "      <th>V:2</th>\n",
       "      <td>F</td>\n",
       "      <td>49</td>\n",
       "      <td>31</td>\n",
       "      <td>0/5</td>\n",
       "      <td>0/5</td>\n",
       "      <td>Marked</td>\n",
       "      <td>Marked</td>\n",
       "      <td>Absent</td>\n",
       "      <td>+</td>\n",
       "      <td>-</td>\n",
       "      <td>...</td>\n",
       "      <td>17(9-26)</td>\n",
       "      <td>390</td>\n",
       "      <td>-</td>\n",
       "      <td>-</td>\n",
       "      <td>-</td>\n",
       "      <td>-</td>\n",
       "      <td>+</td>\n",
       "      <td>-</td>\n",
       "      <td>Insulindependentdiabetes-onsetatage19</td>\n",
       "      <td>V:2</td>\n",
       "    </tr>\n",
       "    <tr>\n",
       "      <th>V:5</th>\n",
       "      <td>M</td>\n",
       "      <td>58</td>\n",
       "      <td>39</td>\n",
       "      <td>3/5</td>\n",
       "      <td>2/5</td>\n",
       "      <td>Marked</td>\n",
       "      <td>Marked</td>\n",
       "      <td>Diminished</td>\n",
       "      <td>+</td>\n",
       "      <td>-</td>\n",
       "      <td>...</td>\n",
       "      <td>25(15-46)</td>\n",
       "      <td>123</td>\n",
       "      <td>-</td>\n",
       "      <td>NaN</td>\n",
       "      <td>-</td>\n",
       "      <td>-</td>\n",
       "      <td>+</td>\n",
       "      <td>(+)L4-5radiculopathy</td>\n",
       "      <td>COPD,Diastolicdysfunction,ICRBBB,Lymphocytosis</td>\n",
       "      <td>V:5</td>\n",
       "    </tr>\n",
       "    <tr>\n",
       "      <th>V:8</th>\n",
       "      <td>M</td>\n",
       "      <td>37</td>\n",
       "      <td>24</td>\n",
       "      <td>5/5</td>\n",
       "      <td>5/5</td>\n",
       "      <td>-</td>\n",
       "      <td>-</td>\n",
       "      <td>+</td>\n",
       "      <td>+</td>\n",
       "      <td>+</td>\n",
       "      <td>...</td>\n",
       "      <td>19</td>\n",
       "      <td>127</td>\n",
       "      <td>-</td>\n",
       "      <td>NaN</td>\n",
       "      <td>-</td>\n",
       "      <td>NaN</td>\n",
       "      <td>NaN</td>\n",
       "      <td>NaN</td>\n",
       "      <td>NaN</td>\n",
       "      <td>V:8</td>\n",
       "    </tr>\n",
       "    <tr>\n",
       "      <th>V:9</th>\n",
       "      <td>M</td>\n",
       "      <td>42</td>\n",
       "      <td>33</td>\n",
       "      <td>5/5</td>\n",
       "      <td>4/5</td>\n",
       "      <td>-</td>\n",
       "      <td>-</td>\n",
       "      <td>+</td>\n",
       "      <td>+</td>\n",
       "      <td>+</td>\n",
       "      <td>...</td>\n",
       "      <td>22(12-32)</td>\n",
       "      <td>111</td>\n",
       "      <td>NaN</td>\n",
       "      <td>NaN</td>\n",
       "      <td>-</td>\n",
       "      <td>-</td>\n",
       "      <td>NaN</td>\n",
       "      <td>NaN</td>\n",
       "      <td>ICRBBB</td>\n",
       "      <td>V:9</td>\n",
       "    </tr>\n",
       "    <tr>\n",
       "      <th>V:12</th>\n",
       "      <td>F</td>\n",
       "      <td>51</td>\n",
       "      <td>31</td>\n",
       "      <td>2/5</td>\n",
       "      <td>2/5</td>\n",
       "      <td>Evident</td>\n",
       "      <td>Evident</td>\n",
       "      <td>Diminished</td>\n",
       "      <td>+</td>\n",
       "      <td>-</td>\n",
       "      <td>...</td>\n",
       "      <td>30(11-154)</td>\n",
       "      <td>124</td>\n",
       "      <td>-</td>\n",
       "      <td>-</td>\n",
       "      <td>-</td>\n",
       "      <td>-</td>\n",
       "      <td>+</td>\n",
       "      <td>-</td>\n",
       "      <td>Single kidney</td>\n",
       "      <td>V:12</td>\n",
       "    </tr>\n",
       "  </tbody>\n",
       "</table>\n",
       "<p>5 rows × 34 columns</p>\n",
       "</div>"
      ],
      "text/plain": [
       "INDIVIDUAL SEX AGE_AT_EXAMINATION AGE_AT_ONSET PROXIMAL_STRENGTH-UPPER_LIMB  \\\n",
       "V:2          F                 49           31                          0/5   \n",
       "V:5          M                 58           39                          3/5   \n",
       "V:8          M                 37           24                          5/5   \n",
       "V:9          M                 42           33                          5/5   \n",
       "V:12         F                 51           31                          2/5   \n",
       "\n",
       "INDIVIDUAL PROXIMAL_STRENGTH-LOWER_LIMB ATROPHY_UPPER_LIMB ATROPHY_LOWER_LIMB  \\\n",
       "V:2                                 0/5             Marked             Marked   \n",
       "V:5                                 2/5             Marked             Marked   \n",
       "V:8                                 5/5                  -                  -   \n",
       "V:9                                 4/5                  -                  -   \n",
       "V:12                                2/5            Evident            Evident   \n",
       "\n",
       "INDIVIDUAL DEEP_TENDON_REFLEXES PAIN_ON_EXERTION AMBULATORY  ...        VLDL  \\\n",
       "V:2                      Absent                +          -  ...    17(9-26)   \n",
       "V:5                  Diminished                +          -  ...   25(15-46)   \n",
       "V:8                           +                +          +  ...          19   \n",
       "V:9                           +                +          +  ...   22(12-32)   \n",
       "V:12                 Diminished                +          -  ...  30(11-154)   \n",
       "\n",
       "INDIVIDUAL FASTING_BLOOD_SUGAR ANA,RF,C3,C4ABNORMALITIES  \\\n",
       "V:2                        390                         -   \n",
       "V:5                        123                         -   \n",
       "V:8                        127                         -   \n",
       "V:9                        111                       NaN   \n",
       "V:12                       124                         -   \n",
       "\n",
       "INDIVIDUAL ANTI-SM,ANTIJO-1,ANTI-SSA/B,ANCA,AMA ANTI-HMGCR_AB  \\\n",
       "V:2                                           -             -   \n",
       "V:5                                         NaN             -   \n",
       "V:8                                         NaN             -   \n",
       "V:9                                         NaN             -   \n",
       "V:12                                          -             -   \n",
       "\n",
       "INDIVIDUAL ABNORMAL_BRAIN_IMAGING MYOPATHIC_CHANGES_IN_EMG  \\\n",
       "V:2                             -                        +   \n",
       "V:5                             -                        +   \n",
       "V:8                           NaN                      NaN   \n",
       "V:9                             -                      NaN   \n",
       "V:12                            -                        +   \n",
       "\n",
       "INDIVIDUAL          ABNORMAL_NCV  \\\n",
       "V:2                            -   \n",
       "V:5         (+)L4-5radiculopathy   \n",
       "V:8                          NaN   \n",
       "V:9                          NaN   \n",
       "V:12                           -   \n",
       "\n",
       "INDIVIDUAL                                   COMORBIDITIES patient_id  \n",
       "V:2                  Insulindependentdiabetes-onsetatage19        V:2  \n",
       "V:5         COPD,Diastolicdysfunction,ICRBBB,Lymphocytosis        V:5  \n",
       "V:8                                                    NaN        V:8  \n",
       "V:9                                                 ICRBBB        V:9  \n",
       "V:12                                         Single kidney       V:12  \n",
       "\n",
       "[5 rows x 34 columns]"
      ]
     },
     "execution_count": 5,
     "metadata": {},
     "output_type": "execute_result"
    }
   ],
   "source": [
    "dft = df.transpose()\n",
    "dft.columns = dft.iloc[0]\n",
    "dft.drop(dft.index[0], inplace=True)\n",
    "dft['patient_id'] = dft.index  # Set the new column 'patient_id' to be identical to the contents of the index\n",
    "dft.head() "
   ]
  },
  {
   "cell_type": "code",
   "execution_count": 6,
   "id": "5bb3a1db-fb86-454e-8bca-765a8f0a8f70",
   "metadata": {},
   "outputs": [],
   "source": [
    "column_mapper_d = {}"
   ]
  },
  {
   "cell_type": "code",
   "execution_count": 7,
   "id": "5e3262c8-da36-4885-a467-c3f21d6eb9b8",
   "metadata": {},
   "outputs": [],
   "source": [
    "# Only needed to stream construction of mappers\n",
    "#result = OptionColumnMapper.autoformat(df=dft, concept_recognizer=hpo_cr, delimiter=\",\")\n",
    "#print(result)"
   ]
  },
  {
   "cell_type": "code",
   "execution_count": 8,
   "id": "55648ebf-bed4-4574-a8cb-53d619ffc445",
   "metadata": {},
   "outputs": [],
   "source": [
    "ageMapper = AgeColumnMapper.by_year(column_name='AGE_AT_EXAMINATION')\n",
    "#ageColumn.preview_column(dft['AGE_AT_EXAMINATION'])"
   ]
  },
  {
   "cell_type": "code",
   "execution_count": 9,
   "id": "1b9e1c1c-4041-4ff4-9b6d-e4827d1a6d6f",
   "metadata": {},
   "outputs": [],
   "source": [
    "sexMapper = SexColumnMapper(male_symbol=\"M\", female_symbol=\"F\", column_name=\"SEX\")\n",
    "#sexColumn.preview_column(dft[\"SEX\"])"
   ]
  },
  {
   "cell_type": "code",
   "execution_count": 10,
   "id": "cfc58fb0-feaa-4103-9988-b222be6f4e1b",
   "metadata": {},
   "outputs": [],
   "source": [
    "proximal_strength_upper_limb_d = {\n",
    " '3/5': 'Proximal muscle weakness in upper limbs',\n",
    " '5/5': 'Proximal muscle weakness in upper limbs',\n",
    " '2/5': 'Proximal muscle weakness in upper limbs'}\n",
    "excluded_d = {'0/5': 'Proximal muscle weakness in upper limbs'}\n",
    "proximal_strength_upper_limbMapper = OptionColumnMapper(concept_recognizer=hpo_cr, option_d=proximal_strength_upper_limb_d, excluded_d=excluded_d)\n",
    "proximal_strength_upper_limbMapper.preview_column(dft['PROXIMAL_STRENGTH-UPPER_LIMB'])\n",
    "column_mapper_d['PROXIMAL_STRENGTH-UPPER_LIMB'] = proximal_strength_upper_limbMapper"
   ]
  },
  {
   "cell_type": "code",
   "execution_count": 11,
   "id": "9477af81-0b37-482b-8344-213d9385cded",
   "metadata": {},
   "outputs": [],
   "source": [
    "proximal_strength_lower_limb_d = {\n",
    " '2/5': 'Proximal muscle weakness in lower limbs',\n",
    " '5/5': 'Proximal muscle weakness in lower limbs',\n",
    " '4/5': 'Proximal muscle weakness in lower limbs'}\n",
    "excluded = {'0/5': 'Proximal muscle weakness in lower limbs'}\n",
    "proximal_strength_lower_limbMapper = OptionColumnMapper(concept_recognizer=hpo_cr, option_d=proximal_strength_lower_limb_d, excluded_d=excluded)\n",
    "proximal_strength_lower_limbMapper.preview_column(dft['PROXIMAL_STRENGTH-LOWER_LIMB'])\n",
    "column_mapper_d['PROXIMAL_STRENGTH-LOWER_LIMB'] = proximal_strength_lower_limbMapper"
   ]
  },
  {
   "cell_type": "code",
   "execution_count": 12,
   "id": "d6d68659-37f7-41f9-97f6-6a4f975d0963",
   "metadata": {},
   "outputs": [],
   "source": [
    "atrophy_upper_limb_d = {'Marked': 'Upper limb amyotrophy',\n",
    " 'Evident': 'Upper limb amyotrophy'}\n",
    "atrophy_upper_limbMapper = OptionColumnMapper(concept_recognizer=hpo_cr, option_d=atrophy_upper_limb_d)\n",
    "atrophy_upper_limbMapper.preview_column(dft['ATROPHY_UPPER_LIMB'])\n",
    "column_mapper_d['ATROPHY_UPPER_LIMB'] = atrophy_upper_limbMapper"
   ]
  },
  {
   "cell_type": "code",
   "execution_count": 13,
   "id": "d1f6749e-273d-4f0b-aaf2-e98a6ee34c09",
   "metadata": {},
   "outputs": [],
   "source": [
    "atrophy_lower_limb_d = {'Marked': 'Lower limb amyotrophy',\n",
    " 'Evident': 'Lower limb amyotrophy'}\n",
    "atrophy_lower_limbMapper = OptionColumnMapper(concept_recognizer=hpo_cr, option_d=atrophy_lower_limb_d)\n",
    "atrophy_lower_limbMapper.preview_column(dft['ATROPHY_LOWER_LIMB'])\n",
    "column_mapper_d['ATROPHY_LOWER_LIMB'] = atrophy_lower_limbMapper"
   ]
  },
  {
   "cell_type": "code",
   "execution_count": 14,
   "id": "f49adb61-0825-4a5b-8789-31f0d4ae7b0d",
   "metadata": {},
   "outputs": [],
   "source": [
    "deep_tendon_reflexes_d = {'Absent': 'Areflexia',\n",
    " 'Diminished': 'Hyporeflexia'}\n",
    "deep_tendon_reflexesMapper = OptionColumnMapper(concept_recognizer=hpo_cr, option_d=deep_tendon_reflexes_d)\n",
    "deep_tendon_reflexesMapper.preview_column(dft['DEEP_TENDON_REFLEXES'])\n",
    "column_mapper_d['DEEP_TENDON_REFLEXES'] = deep_tendon_reflexesMapper"
   ]
  },
  {
   "cell_type": "code",
   "execution_count": 15,
   "id": "0f7b8bd5-7a96-48c3-9309-8fa025f1ab02",
   "metadata": {},
   "outputs": [],
   "source": [
    "#Exercise-induced myalgia HP:0003738\n",
    "pain_on_exertion_d = {\"+\":\"Exercise-induced myalgia\"}\n",
    "pain_on_exertionMapper = OptionColumnMapper(concept_recognizer=hpo_cr, option_d=pain_on_exertion_d)\n",
    "pain_on_exertionMapper.preview_column(dft['PAIN_ON_EXERTION'])\n",
    "column_mapper_d['PAIN_ON_EXERTION'] = pain_on_exertionMapper"
   ]
  },
  {
   "cell_type": "code",
   "execution_count": 16,
   "id": "ac8d323b-8790-48fd-a280-6feda5b6bc52",
   "metadata": {},
   "outputs": [],
   "source": [
    "# Loss of ambulation HP:0002505\n",
    "ambulatory_d = {}\n",
    "ambulatoryMapper = SimpleColumnMapper(hpo_id=\"HP:0002505\", hpo_label=\"Loss of ambulation\", observed=\"+\", excluded=\"-\")\n",
    "ambulatoryMapper.preview_column(dft['AMBULATORY'])\n",
    "column_mapper_d['AMBULATORY'] = ambulatoryMapper"
   ]
  },
  {
   "cell_type": "code",
   "execution_count": 17,
   "id": "b86dd41e-d537-48fe-848d-70f9a342168e",
   "metadata": {},
   "outputs": [],
   "source": [
    "# dft['MOBILITY_RESTRICTION'])\n",
    "# Not coding"
   ]
  },
  {
   "cell_type": "code",
   "execution_count": 18,
   "id": "c3bc1b6f-163e-4d6b-afc0-b51e70201d3e",
   "metadata": {},
   "outputs": [],
   "source": [
    "# Respiratory insufficiency HP:0002093\n",
    "respiratory_difficulties_d = {'Ventilated_through_tracheostomy': 'Respiratory insufficiency', \"+\":\"Respiratory insufficiency\"}\n",
    "excluded = {\"-\":\"Respiratory insufficiency\"}\n",
    "respiratory_difficultiesMapper = OptionColumnMapper(concept_recognizer=hpo_cr, option_d=respiratory_difficulties_d, excluded_d=excluded)\n",
    "respiratory_difficultiesMapper.preview_column(dft['RESPIRATORY_DIFFICULTIES'])\n",
    "column_mapper_d['RESPIRATORY_DIFFICULTIES'] = respiratory_difficultiesMapper"
   ]
  },
  {
   "cell_type": "code",
   "execution_count": 19,
   "id": "720b42e5-c296-40bb-a6de-992fa6b26e9a",
   "metadata": {},
   "outputs": [],
   "source": [
    "dysphagia_d = {}\n",
    "dysphagiaMapper = SimpleColumnMapper(hpo_id=\"HP:0002015\", hpo_label=\"Dysphagia\", observed=\"+\", excluded=\"-\")\n",
    "dysphagiaMapper.preview_column(dft['DYSPHAGIA'])\n",
    "column_mapper_d['DYSPHAGIA'] = dysphagiaMapper"
   ]
  },
  {
   "cell_type": "code",
   "execution_count": 20,
   "id": "a0eb5340-9027-4f59-bd3e-ba4345214153",
   "metadata": {},
   "outputs": [],
   "source": [
    "echocardiography_d = {\n",
    " 'Mild diastolic_dysfunction': 'Left ventricular diastolic dysfunction',\n",
    "}\n",
    "echocardiographyMapper = OptionColumnMapper(concept_recognizer=hpo_cr, option_d=echocardiography_d)\n",
    "echocardiographyMapper.preview_column(dft['ECHOCARDIOGRAPHY'])\n",
    "column_mapper_d['ECHOCARDIOGRAPHY'] = echocardiographyMapper"
   ]
  },
  {
   "cell_type": "code",
   "execution_count": 21,
   "id": "2ca27f8e-dd53-449f-a796-658098280d94",
   "metadata": {},
   "outputs": [],
   "source": [
    "cpkMapper = ConstantColumnMapper(hpo_id=\"HP:0003236\", hpo_label='Elevated circulating creatine kinase concentration')\n",
    "cpkMapper.preview_column(dft['CPK(REFERENCE_20-180_U/L)'])\n",
    "column_mapper_d['CPK(REFERENCE_20-180_U/L)'] = cpkMapper"
   ]
  },
  {
   "cell_type": "code",
   "execution_count": 22,
   "id": "04506059-e246-48f7-bba2-79d8729635a4",
   "metadata": {},
   "outputs": [],
   "source": [
    "troponinMapper = ThresholdedColumnMapper(hpo_id=\"HP:0410174\", \n",
    "                                         hpo_label=\"Increased circulating troponin T concentration\", \n",
    "                                         threshold=14, \n",
    "                                         call_if_above=True)\n",
    "troponinMapper.preview_column(dft['MAXIMAL TROPONIN T(0-14NG/L)'])\n",
    "column_mapper_d['MAXIMAL TROPONIN T(0-14NG/L)'] = troponinMapper"
   ]
  },
  {
   "cell_type": "code",
   "execution_count": 23,
   "id": "84ec62c6-0189-4a8c-bff8-43d9bcf8eb62",
   "metadata": {},
   "outputs": [],
   "source": [
    "# Not abnormal for any individual\n",
    "creatinineMapper = ConstantColumnMapper(hpo_id=\"HP:0012100\", hpo_label=\"Abnormal circulating creatinine concentration\", excluded=True)\n",
    "creatinineMapper.preview_column(dft['CREATININE'])\n",
    "column_mapper_d['CREATININE'] = creatinineMapper"
   ]
  },
  {
   "cell_type": "code",
   "execution_count": 24,
   "id": "e0cf6258-a20f-4b91-ade6-6480f8cda5f1",
   "metadata": {},
   "outputs": [],
   "source": [
    "ast_d = {'34(12-106)': 'Elevated circulating aspartate aminotransferase concentration',\n",
    " '54(15-241)': 'Elevated circulating aspartate aminotransferase concentration',\n",
    " '277(68-905)': 'Elevated circulating aspartate aminotransferase concentration',\n",
    " '43(21-138)': 'Elevated circulating aspartate aminotransferase concentration',\n",
    " '98(28-566)': 'Elevated circulating aspartate aminotransferase concentration'}\n",
    "excluded = {'23(19-29)': 'Elevated circulating aspartate aminotransferase concentration'}\n",
    "astMapper = OptionColumnMapper(concept_recognizer=hpo_cr, option_d=ast_d, excluded_d=excluded)\n",
    "astMapper.preview_column(dft['AST(REFERENCE_0-35U/L)'])\n",
    "column_mapper_d['AST(REFERENCE_0-35U/L)'] = astMapper"
   ]
  },
  {
   "cell_type": "code",
   "execution_count": 25,
   "id": "c28d5429-6328-489e-8318-c523b6553b7e",
   "metadata": {},
   "outputs": [],
   "source": [
    "alt_d = {'31(9-113)': 'Elevated circulating alanine aminotransferase concentration',\n",
    " '50(10-199)': 'Elevated circulating alanine aminotransferase concentration',\n",
    " '322(43-911)': 'Elevated circulating alanine aminotransferase concentration',\n",
    " '44(12-173)': 'Elevated circulating alanine aminotransferase concentration',\n",
    " '80(21-375)': 'Elevated circulating alanine aminotransferase concentration'}\n",
    "excluded = {'15(11-25)': 'Elevated circulating alanine aminotransferase concentration'}\n",
    "altMapper = OptionColumnMapper(concept_recognizer=hpo_cr, option_d=alt_d, excluded_d=excluded)\n",
    "altMapper.preview_column(dft['ALT(REFERENCE_0-45U/L)'])\n",
    "column_mapper_d['ALT(REFERENCE_0-45U/L)'] = altMapper"
   ]
  },
  {
   "cell_type": "code",
   "execution_count": 26,
   "id": "86d56547-d497-4652-8d86-cce495045ea9",
   "metadata": {},
   "outputs": [],
   "source": [
    "alkaline_phosphatase_d = {'151(108-331)': 'Elevated circulating alkaline phosphatase concentration',\n",
    " }\n",
    "excluded = {'109(78-130)': 'Elevated circulating alkaline phosphatase concentration',\n",
    " '78(67-88)': 'Elevated circulating alkaline phosphatase concentration',\n",
    " '89(65-107)': 'Elevated circulating alkaline phosphatase concentration',\n",
    " '100(72-132)': 'Elevated circulating alkaline phosphatase concentration',\n",
    " '79(68-94)': 'Elevated circulating alkaline phosphatase concentration'}\n",
    "alkaline_phosphataseMapper = OptionColumnMapper(concept_recognizer=hpo_cr, option_d=alkaline_phosphatase_d, excluded_d=excluded)\n",
    "alkaline_phosphataseMapper.preview_column(dft['ALKALINE_PHOSPHATASE(REFERENCE_30-120U/L)'])\n",
    "column_mapper_d['ALKALINE_PHOSPHATASE(REFERENCE_30-120U/L)'] = alkaline_phosphataseMapper"
   ]
  },
  {
   "cell_type": "code",
   "execution_count": 27,
   "id": "3502e070-ce4a-45b9-9ce2-5cc3c46bbd91",
   "metadata": {},
   "outputs": [],
   "source": [
    "total_cholesterol_averageMapper = ConstantColumnMapper(hpo_id=\"HP:0003124\", hpo_label=\"Hypercholesterolemia\", excluded=True)\n",
    "total_cholesterol_averageMapper.preview_column(dft['TOTAL_CHOLESTEROL_AVERAGE(RECOMMENDED<200MG/DL)'])\n",
    "column_mapper_d['TOTAL_CHOLESTEROL_AVERAGE(RECOMMENDED<200MG/DL)'] = total_cholesterol_averageMapper"
   ]
  },
  {
   "cell_type": "code",
   "execution_count": 28,
   "id": "f39983d9-5ce6-4426-af3f-de9ec1b8a74f",
   "metadata": {},
   "outputs": [],
   "source": [
    "#Hypertriglyceridemia HP:0002155\n",
    "triglycerides_d = {\n",
    " '149(55-270)': 'Hypertriglyceridemia',\n",
    " '167(77-232)': 'Hypertriglyceridemia'}\n",
    "excluded = {'87(47-129)': 'Hypertriglyceridemia',\n",
    " '123(79-230)': 'Hypertriglyceridemia',\n",
    " '95.5(95-96)': 'Hypertriglyceridemia',\n",
    " '108(58-160)': 'Hypertriglyceridemia'\n",
    "           }\n",
    "triglyceridesMapper = OptionColumnMapper(concept_recognizer=hpo_cr, option_d=triglycerides_d, excluded_d=excluded)\n",
    "triglyceridesMapper.preview_column(dft['TRIGLYCERIDES(RECOMMENDED<150MG/DL)'])\n",
    "column_mapper_d['TRIGLYCERIDES(RECOMMENDED<150MG/DL)'] = triglyceridesMapper"
   ]
  },
  {
   "cell_type": "code",
   "execution_count": 29,
   "id": "6d8330ad-6895-4687-b02a-f3e4432a948e",
   "metadata": {},
   "outputs": [],
   "source": [
    "hdl_d = {'49(31-65)': 'Decreased HDL cholesterol concentration',\n",
    " '49(43-57)': 'Decreased HDL cholesterol concentration',\n",
    " '38(30-46)': 'Decreased HDL cholesterol concentration',\n",
    " '45(31-50)': 'Decreased HDL cholesterol concentration',\n",
    " '41(27-49)': 'Decreased HDL cholesterol concentration'}\n",
    "hdlMapper = OptionColumnMapper(concept_recognizer=hpo_cr, option_d=hdl_d)\n",
    "hdlMapper.preview_column(dft['HDL(RECOMMENDED>60MG/DL)'])\n",
    "column_mapper_d['HDL(RECOMMENDED>60MG/DL)'] = hdlMapper"
   ]
  },
  {
   "cell_type": "code",
   "execution_count": 30,
   "id": "4786018c-fb91-46c3-80a1-4a6bb1333797",
   "metadata": {},
   "outputs": [],
   "source": [
    "#Increased LDL cholesterol concentration HP:0003141\n",
    "# no individual has increased LDL\n",
    "ldlMapper = ConstantColumnMapper(hpo_id=\"HP:0003141\", hpo_label=\"Increased LDL cholesterol concentration\", excluded=True)\n",
    "ldlMapper.preview_column(dft['LDL(RECOMMENDED<100MG/DL)'])\n",
    "column_mapper_d['LDL(RECOMMENDED<100MG/DL)'] = ldlMapper"
   ]
  },
  {
   "cell_type": "code",
   "execution_count": 31,
   "id": "ff57f34e-e496-41cc-80d2-7022ddf2c508",
   "metadata": {},
   "outputs": [],
   "source": [
    "# Normal range between 2-30, we will omit since the values are not clearly abnormal\n",
    "# dft['VLDL'])"
   ]
  },
  {
   "cell_type": "code",
   "execution_count": 32,
   "id": "34585067-ffb0-4187-90cc-2e4ceeb294f3",
   "metadata": {},
   "outputs": [],
   "source": [
    "# normal range 70-100\n",
    "fasting_blood_sugar_d = {'390': 'Hyperglycemia',\n",
    " '123': 'Hyperglycemia',\n",
    " '127': 'Hyperglycemia',\n",
    " '111': 'Hyperglycemia',\n",
    " '124': 'Hyperglycemia',\n",
    " '155': 'Hyperglycemia'}\n",
    "fasting_blood_sugarMapper = OptionColumnMapper(concept_recognizer=hpo_cr, option_d=fasting_blood_sugar_d)\n",
    "fasting_blood_sugarMapper.preview_column(dft['FASTING_BLOOD_SUGAR'])\n",
    "column_mapper_d['FASTING_BLOOD_SUGAR'] = fasting_blood_sugarMapper"
   ]
  },
  {
   "cell_type": "code",
   "execution_count": 33,
   "id": "b00762db-b445-4536-bec2-14f7478b3f2f",
   "metadata": {},
   "outputs": [],
   "source": [
    "ana_d = {'-': 'Antinuclear antibody positivity'}\n",
    "anaMapper = OptionColumnMapper(concept_recognizer=hpo_cr, option_d={},excluded_d=ana_d)\n",
    "anaMapper.preview_column(dft['ANA,RF,C3,C4ABNORMALITIES'])\n",
    "column_mapper_d['ANA,RF,C3,C4ABNORMALITIES'] = anaMapper"
   ]
  },
  {
   "cell_type": "code",
   "execution_count": 34,
   "id": "10bc812f-dc1d-4cce-92a2-04fd0b29e06f",
   "metadata": {},
   "outputs": [],
   "source": [
    "# negative in two datalackjong in others scant details, thius omitting\n",
    "#dft['ANTI-SM,ANTIJO-1,ANTI-SSA/B,ANCA,AMA']"
   ]
  },
  {
   "cell_type": "code",
   "execution_count": 35,
   "id": "71cb0005-88d2-4c24-9cd7-f443e97ee131",
   "metadata": {},
   "outputs": [],
   "source": [
    "# Anti-3-hydroxy- 3-methylglutaryl-coA reductase antibody positivity\n",
    "HMGCR_d = {\"-\": \"Anti-3-hydroxy- 3-methylglutaryl-coA reductase antibody positivity\"}\n",
    "ana_d = {'-': 'Antinuclear antibody positivity'}\n",
    "hmgcrMapper = OptionColumnMapper(concept_recognizer=hpo_cr, option_d={},excluded_d=HMGCR_d)\n",
    "hmgcrMapper.preview_column(dft['ANTI-HMGCR_AB'])\n",
    "column_mapper_d['ANTI-HMGCR_AB'] = hmgcrMapper"
   ]
  },
  {
   "cell_type": "code",
   "execution_count": 36,
   "id": "dd3607c6-a95a-45a9-b36d-e49427c563ed",
   "metadata": {},
   "outputs": [],
   "source": [
    "# no abnormal finding but no details, omit\n",
    "#dft['ABNORMAL_BRAIN_IMAGING']"
   ]
  },
  {
   "cell_type": "code",
   "execution_count": 37,
   "id": "e4bdd85b-8d0f-4632-91e7-e0842fb5ba25",
   "metadata": {},
   "outputs": [],
   "source": [
    "myopathic_changes_in_emg_d = {'+': 'Myopathy'}\n",
    "myopathic_changes_in_emgMapper = OptionColumnMapper(concept_recognizer=hpo_cr, option_d=myopathic_changes_in_emg_d)\n",
    "myopathic_changes_in_emgMapper.preview_column(dft['MYOPATHIC_CHANGES_IN_EMG'])\n",
    "column_mapper_d['MYOPATHIC_CHANGES_IN_EMG'] = myopathic_changes_in_emgMapper"
   ]
  },
  {
   "cell_type": "code",
   "execution_count": 38,
   "id": "7e792196-a8af-4a07-914b-f6fb05908578",
   "metadata": {},
   "outputs": [],
   "source": [
    "comorbidities_d = {'Insulindependentdiabetes-onsetatage19': 'Type II diabetes mellitus',\n",
    " 'COPD': 'Chronic pulmonary obstruction',\n",
    " 'Diastolicdysfunction': 'Left ventricular diastolic dysfunction',\n",
    " 'Lymphocytosis': 'Lymphocytosis',\n",
    " 'Single kidney': 'Unilateral renal agenesis'}\n",
    "comorbiditiesMapper = OptionColumnMapper(concept_recognizer=hpo_cr, option_d=comorbidities_d, assumeExcluded=True)\n",
    "comorbiditiesMapper.preview_column(dft['COMORBIDITIES'])\n",
    "column_mapper_d['COMORBIDITIES'] = comorbiditiesMapper"
   ]
  },
  {
   "cell_type": "markdown",
   "id": "73f8cf0a-3773-42fe-b340-e11d8d86edb8",
   "metadata": {},
   "source": [
    "# Variant\n",
    "The affected members of the family share this variant: NM_000859.3:c.2465G>A; p.(G822D) in HMGCR"
   ]
  },
  {
   "cell_type": "code",
   "execution_count": 39,
   "id": "ccbdf6a5-763a-4048-b1ce-b2dc8488ee40",
   "metadata": {},
   "outputs": [],
   "source": [
    "vvalidator = VariantValidator(genome_build=\"hg38\", transcript=\"NM_000859.3\")"
   ]
  },
  {
   "cell_type": "code",
   "execution_count": 40,
   "id": "43c741c7-7433-4e06-ae0a-279243b7cb80",
   "metadata": {},
   "outputs": [
    {
     "name": "stdout",
     "output_type": "stream",
     "text": [
      "https://rest.variantvalidator.org/VariantValidator/variantvalidator/hg38/NM_000859.3%3Ac.2465G>A/NM_000859.3?content-type=application%2Fjson\n"
     ]
    }
   ],
   "source": [
    "var = vvalidator.encode_hgvs(\"c.2465G>A\")\n",
    "var.set_heterozygous()"
   ]
  },
  {
   "cell_type": "markdown",
   "id": "6235377b-805b-4b87-ac2c-11b1d393b417",
   "metadata": {},
   "source": [
    "# Cohort mapper"
   ]
  },
  {
   "cell_type": "code",
   "execution_count": 41,
   "id": "cd44f1ac-09ad-476e-b428-b543fe8f2ba8",
   "metadata": {},
   "outputs": [],
   "source": [
    "encoder = CohortEncoder(df=dft, \n",
    "                        hpo_cr=hpo_cr, \n",
    "                        column_mapper_d=column_mapper_d, \n",
    "                        individual_column_name=\"patient_id\", \n",
    "                        agemapper=ageMapper, \n",
    "                        sexmapper=sexMapper,\n",
    "                        metadata=metadata,\n",
    "                        pmid=PMID)\n",
    "omim_label = \"Muscular dystrophy, limb-girdle, autosomal recessive 28\"\n",
    "omim_id = \"OMIM:620375\"\n",
    "disease = Disease(disease_id=omim_id, disease_label=omim_label)\n",
    "encoder.set_disease(disease)"
   ]
  },
  {
   "cell_type": "code",
   "execution_count": 42,
   "id": "16d55c23-89c4-445d-8ee6-539e6816ec4c",
   "metadata": {},
   "outputs": [],
   "source": [
    "individuals = encoder.get_individuals()"
   ]
  },
  {
   "cell_type": "code",
   "execution_count": 43,
   "id": "99a1b8d7-1a7f-48f4-834c-020901705f32",
   "metadata": {},
   "outputs": [],
   "source": [
    "for indi in individuals:\n",
    "    indi.add_variant(var)"
   ]
  },
  {
   "cell_type": "markdown",
   "id": "2d51feb7-81da-4ce1-b5bb-c9bcbcbd08ba",
   "metadata": {},
   "source": [
    "# Validation"
   ]
  },
  {
   "cell_type": "code",
   "execution_count": 44,
   "id": "ea249fea-3972-4608-a4f6-111cf833f4f8",
   "metadata": {},
   "outputs": [],
   "source": [
    "cohort_validator = CohortValidator(cohort=individuals, ontology=hpo_ontology, min_hpo=1, min_allele=1, min_var=1)"
   ]
  },
  {
   "cell_type": "code",
   "execution_count": 45,
   "id": "34a22171-aac8-498f-97af-e4b53b8443e6",
   "metadata": {},
   "outputs": [],
   "source": [
    "validated = cohort_validator.get_validated_individual_list()"
   ]
  },
  {
   "cell_type": "code",
   "execution_count": 46,
   "id": "fdddfb13-9e4a-4fbd-ab63-d1cf322d723a",
   "metadata": {},
   "outputs": [],
   "source": [
    "qcViz = QcVisualizer(ontology=hpo_ontology)"
   ]
  },
  {
   "cell_type": "code",
   "execution_count": 47,
   "id": "6998b139-95b7-4620-8b96-1b6cc42efeb2",
   "metadata": {},
   "outputs": [
    {
     "data": {
      "text/html": [
       "<h2>Cohort validation</h2>\n",
       "<p>No errors found for the cohort with 6 individuals</p>"
      ],
      "text/plain": [
       "<IPython.core.display.HTML object>"
      ]
     },
     "metadata": {},
     "output_type": "display_data"
    }
   ],
   "source": [
    "display(HTML(qcViz.to_html(validated_individual_list=validated)))"
   ]
  },
  {
   "cell_type": "code",
   "execution_count": 48,
   "id": "6c409eeb-3f7e-480b-86bf-ee22cddf4c9f",
   "metadata": {},
   "outputs": [],
   "source": [
    "# Visualization"
   ]
  },
  {
   "cell_type": "code",
   "execution_count": 54,
   "id": "37ef7e90-2f52-4281-9d9f-ad4d6588b8e9",
   "metadata": {},
   "outputs": [
    {
     "data": {
      "text/html": [
       "<table style=\"border: 2px solid black;\">\n",
       "\n",
       "<caption>6 phenopackets - PMID:36745799 (n=6)</caption>\n",
       "\n",
       "<tr>\n",
       "            <th>Individual</th>\n",
       "            <th>Disease</th>\n",
       "            <th>Genotype</th>\n",
       "            <th>Phenotypic features</th>\n",
       "        </tr>\n",
       "        \n",
       "<tr>\n",
       "<td>V:2 (FEMALE; P49Y)</ts>\n",
       "<td>Muscular dystrophy, limb-girdle, autosomal recessive 28 (OMIM:620375)</ts>\n",
       "<td>NM_000859.3:c.2465G>A (heterozygous)</td>\n",
       "<td class=\"table-data\">Upper limb amyotrophy (HP:0009129); Lower limb amyotrophy (HP:0007210); Areflexia (HP:0001284); Exercise-induced myalgia (HP:0003738); Respiratory insufficiency (HP:0002093); Elevated circulating creatine kinase concentration (HP:0003236); Increased circulating troponin T concentration (HP:0410174); Elevated circulating aspartate aminotransferase concentration (HP:0031956); Elevated circulating alanine aminotransferase concentration (HP:0031964); Elevated circulating alkaline phosphatase concentration (HP:0003155); Decreased HDL cholesterol concentration (HP:0003233); Hyperglycemia (HP:0003074); Myopathy (HP:0003198); Type II diabetes mellitus (HP:0005978)</td>\n",
       "</tr>\n",
       "<tr>\n",
       "<td>V:5 (MALE; P58Y)</ts>\n",
       "<td>Muscular dystrophy, limb-girdle, autosomal recessive 28 (OMIM:620375)</ts>\n",
       "<td>NM_000859.3:c.2465G>A (heterozygous)</td>\n",
       "<td class=\"table-data\">Proximal muscle weakness in upper limbs (HP:0008997); Proximal muscle weakness in lower limbs (HP:0008994); Upper limb amyotrophy (HP:0009129); Lower limb amyotrophy (HP:0007210); Hyporeflexia (HP:0001265); Exercise-induced myalgia (HP:0003738); Respiratory insufficiency (HP:0002093); Left ventricular diastolic dysfunction (HP:0025168); Elevated circulating creatine kinase concentration (HP:0003236); Increased circulating troponin T concentration (HP:0410174); Elevated circulating aspartate aminotransferase concentration (HP:0031956); Elevated circulating alanine aminotransferase concentration (HP:0031964); Decreased HDL cholesterol concentration (HP:0003233); Hyperglycemia (HP:0003074); Myopathy (HP:0003198); Chronic pulmonary obstruction (HP:0006510); Lymphocytosis (HP:0100827)</td>\n",
       "</tr>\n",
       "<tr>\n",
       "<td>V:8 (MALE; P37Y)</ts>\n",
       "<td>Muscular dystrophy, limb-girdle, autosomal recessive 28 (OMIM:620375)</ts>\n",
       "<td>NM_000859.3:c.2465G>A (heterozygous)</td>\n",
       "<td class=\"table-data\">Proximal muscle weakness in upper limbs (HP:0008997); Proximal muscle weakness in lower limbs (HP:0008994); Exercise-induced myalgia (HP:0003738); Loss of ambulation (HP:0002505); Respiratory insufficiency (HP:0002093); Elevated circulating creatine kinase concentration (HP:0003236); Elevated circulating aspartate aminotransferase concentration (HP:0031956); Elevated circulating alanine aminotransferase concentration (HP:0031964); Decreased HDL cholesterol concentration (HP:0003233); Hyperglycemia (HP:0003074)</td>\n",
       "</tr>\n",
       "<tr>\n",
       "<td>V:9 (MALE; P42Y)</ts>\n",
       "<td>Muscular dystrophy, limb-girdle, autosomal recessive 28 (OMIM:620375)</ts>\n",
       "<td>NM_000859.3:c.2465G>A (heterozygous)</td>\n",
       "<td class=\"table-data\">Proximal muscle weakness in upper limbs (HP:0008997); Proximal muscle weakness in lower limbs (HP:0008994); Exercise-induced myalgia (HP:0003738); Loss of ambulation (HP:0002505); Elevated circulating creatine kinase concentration (HP:0003236); Increased circulating troponin T concentration (HP:0410174); Decreased HDL cholesterol concentration (HP:0003233); Hyperglycemia (HP:0003074)</td>\n",
       "</tr>\n",
       "<tr>\n",
       "<td>V:12 (FEMALE; P51Y)</ts>\n",
       "<td>Muscular dystrophy, limb-girdle, autosomal recessive 28 (OMIM:620375)</ts>\n",
       "<td>NM_000859.3:c.2465G>A (heterozygous)</td>\n",
       "<td class=\"table-data\">Proximal muscle weakness in upper limbs (HP:0008997); Proximal muscle weakness in lower limbs (HP:0008994); Upper limb amyotrophy (HP:0009129); Lower limb amyotrophy (HP:0007210); Hyporeflexia (HP:0001265); Exercise-induced myalgia (HP:0003738); Elevated circulating creatine kinase concentration (HP:0003236); Increased circulating troponin T concentration (HP:0410174); Elevated circulating aspartate aminotransferase concentration (HP:0031956); Elevated circulating alanine aminotransferase concentration (HP:0031964); Hypertriglyceridemia (HP:0002155); Hyperglycemia (HP:0003074); Myopathy (HP:0003198); Unilateral renal agenesis (HP:0000122)</td>\n",
       "</tr>\n",
       "<tr>\n",
       "<td>V:13 (MALE; P41Y)</ts>\n",
       "<td>Muscular dystrophy, limb-girdle, autosomal recessive 28 (OMIM:620375)</ts>\n",
       "<td>NM_000859.3:c.2465G>A (heterozygous)</td>\n",
       "<td class=\"table-data\">Proximal muscle weakness in upper limbs (HP:0008997); Proximal muscle weakness in lower limbs (HP:0008994); Upper limb amyotrophy (HP:0009129); Hyporeflexia (HP:0001265); Exercise-induced myalgia (HP:0003738); Loss of ambulation (HP:0002505); Respiratory insufficiency (HP:0002093); Elevated circulating creatine kinase concentration (HP:0003236); Elevated circulating aspartate aminotransferase concentration (HP:0031956); Elevated circulating alanine aminotransferase concentration (HP:0031964); Hypertriglyceridemia (HP:0002155); Decreased HDL cholesterol concentration (HP:0003233); Hyperglycemia (HP:0003074); Myopathy (HP:0003198)</td>\n",
       "</tr>\n",
       "</table>\n"
      ],
      "text/plain": [
       "<IPython.core.display.HTML object>"
      ]
     },
     "metadata": {},
     "output_type": "display_data"
    }
   ],
   "source": [
    "individuals = [v.get_individual_with_clean_terms() for v in validated]\n",
    "ppacket_list = [i.to_ga4gh_phenopacket(metadata=metadata.to_ga4gh()) for i in individuals]\n",
    "table = PhenopacketTable(phenopacket_list=ppacket_list)\n",
    "display(HTML(table.to_html()))"
   ]
  },
  {
   "cell_type": "code",
   "execution_count": 55,
   "id": "9de89d03-da43-40f2-bc6a-d91f0d7651a1",
   "metadata": {},
   "outputs": [
    {
     "name": "stdout",
     "output_type": "stream",
     "text": [
      "We output 6 GA4GH phenopackets to the directory phenopackets\n"
     ]
    }
   ],
   "source": [
    "Individual.output_individuals_as_phenopackets(individual_list=individuals,\n",
    "                                              metadata=metadata,\n",
    "                                              pmid=PMID,\n",
    "                                              outdir=\"phenopackets\")"
   ]
  },
  {
   "cell_type": "markdown",
   "id": "eb486e34-99cd-40e2-964c-5f18ad67137c",
   "metadata": {},
   "source": [
    "# Transform to HPOA-style aggregate file\n",
    "The HPO project provides the phenotype.hpoa file that contains aggregate HPO associations for currently over 8.5 thousand diseases. Here, we show how to take a collection of phenopackets and create a HPOA file in the format of the phenotype.hpoa file that can be added to that resource.\n",
    "\n",
    "The strategy is to read in a collection of phenopackets (we will use the above 6 phenopackets) and to output one line for each HPO mentioned in the data."
   ]
  },
  {
   "cell_type": "code",
   "execution_count": 56,
   "id": "591507e3-b685-4719-bf61-55e48fdda8cf",
   "metadata": {},
   "outputs": [
    {
     "name": "stdout",
     "output_type": "stream",
     "text": [
      "[pyphetools] Ingested 6 GA4GH phenopackets.\n",
      "We found a total of 29 HPO terms\n",
      "extracted PubMed identifier: PMID:36745799\n",
      "Extracted disease: Muscular dystrophy, limb-girdle, autosomal recessive 28 (OMIM:620375)\n"
     ]
    },
    {
     "data": {
      "text/html": [
       "<div>\n",
       "<style scoped>\n",
       "    .dataframe tbody tr th:only-of-type {\n",
       "        vertical-align: middle;\n",
       "    }\n",
       "\n",
       "    .dataframe tbody tr th {\n",
       "        vertical-align: top;\n",
       "    }\n",
       "\n",
       "    .dataframe thead th {\n",
       "        text-align: right;\n",
       "    }\n",
       "</style>\n",
       "<table border=\"1\" class=\"dataframe\">\n",
       "  <thead>\n",
       "    <tr style=\"text-align: right;\">\n",
       "      <th></th>\n",
       "      <th>#diseaseID</th>\n",
       "      <th>diseaseName</th>\n",
       "      <th>phenotypeID</th>\n",
       "      <th>phenotypeName</th>\n",
       "      <th>onsetID</th>\n",
       "      <th>onsetName</th>\n",
       "      <th>frequency</th>\n",
       "      <th>sex</th>\n",
       "      <th>negation</th>\n",
       "      <th>modifier</th>\n",
       "      <th>description</th>\n",
       "      <th>publication</th>\n",
       "      <th>evidence</th>\n",
       "      <th>biocuration</th>\n",
       "    </tr>\n",
       "  </thead>\n",
       "  <tbody>\n",
       "    <tr>\n",
       "      <th>0</th>\n",
       "      <td>OMIM:620375</td>\n",
       "      <td>Muscular dystrophy, limb-girdle, autosomal recessive 28</td>\n",
       "      <td>HP:0410174</td>\n",
       "      <td>Increased circulating troponin T concentration</td>\n",
       "      <td></td>\n",
       "      <td></td>\n",
       "      <td>4/6</td>\n",
       "      <td></td>\n",
       "      <td></td>\n",
       "      <td></td>\n",
       "      <td></td>\n",
       "      <td>PMID:36745799</td>\n",
       "      <td>PCS</td>\n",
       "      <td>ORCID:0000-0002-0736-9199</td>\n",
       "    </tr>\n",
       "    <tr>\n",
       "      <th>1</th>\n",
       "      <td>OMIM:620375</td>\n",
       "      <td>Muscular dystrophy, limb-girdle, autosomal recessive 28</td>\n",
       "      <td>HP:0003493</td>\n",
       "      <td>Antinuclear antibody positivity</td>\n",
       "      <td></td>\n",
       "      <td></td>\n",
       "      <td></td>\n",
       "      <td></td>\n",
       "      <td></td>\n",
       "      <td></td>\n",
       "      <td></td>\n",
       "      <td>PMID:36745799</td>\n",
       "      <td>PCS</td>\n",
       "      <td>ORCID:0000-0002-0736-9199</td>\n",
       "    </tr>\n",
       "    <tr>\n",
       "      <th>2</th>\n",
       "      <td>OMIM:620375</td>\n",
       "      <td>Muscular dystrophy, limb-girdle, autosomal recessive 28</td>\n",
       "      <td>HP:0009129</td>\n",
       "      <td>Upper limb amyotrophy</td>\n",
       "      <td></td>\n",
       "      <td></td>\n",
       "      <td>4/4</td>\n",
       "      <td></td>\n",
       "      <td></td>\n",
       "      <td></td>\n",
       "      <td></td>\n",
       "      <td>PMID:36745799</td>\n",
       "      <td>PCS</td>\n",
       "      <td>ORCID:0000-0002-0736-9199</td>\n",
       "    </tr>\n",
       "    <tr>\n",
       "      <th>3</th>\n",
       "      <td>OMIM:620375</td>\n",
       "      <td>Muscular dystrophy, limb-girdle, autosomal recessive 28</td>\n",
       "      <td>HP:0005978</td>\n",
       "      <td>Type II diabetes mellitus</td>\n",
       "      <td></td>\n",
       "      <td></td>\n",
       "      <td>1/6</td>\n",
       "      <td></td>\n",
       "      <td></td>\n",
       "      <td></td>\n",
       "      <td></td>\n",
       "      <td>PMID:36745799</td>\n",
       "      <td>PCS</td>\n",
       "      <td>ORCID:0000-0002-0736-9199</td>\n",
       "    </tr>\n",
       "    <tr>\n",
       "      <th>4</th>\n",
       "      <td>OMIM:620375</td>\n",
       "      <td>Muscular dystrophy, limb-girdle, autosomal recessive 28</td>\n",
       "      <td>HP:0001265</td>\n",
       "      <td>Hyporeflexia</td>\n",
       "      <td></td>\n",
       "      <td></td>\n",
       "      <td>3/3</td>\n",
       "      <td></td>\n",
       "      <td></td>\n",
       "      <td></td>\n",
       "      <td></td>\n",
       "      <td>PMID:36745799</td>\n",
       "      <td>PCS</td>\n",
       "      <td>ORCID:0000-0002-0736-9199</td>\n",
       "    </tr>\n",
       "  </tbody>\n",
       "</table>\n",
       "</div>"
      ],
      "text/plain": [
       "    #diseaseID                                              diseaseName  \\\n",
       "0  OMIM:620375  Muscular dystrophy, limb-girdle, autosomal recessive 28   \n",
       "1  OMIM:620375  Muscular dystrophy, limb-girdle, autosomal recessive 28   \n",
       "2  OMIM:620375  Muscular dystrophy, limb-girdle, autosomal recessive 28   \n",
       "3  OMIM:620375  Muscular dystrophy, limb-girdle, autosomal recessive 28   \n",
       "4  OMIM:620375  Muscular dystrophy, limb-girdle, autosomal recessive 28   \n",
       "\n",
       "  phenotypeID                                   phenotypeName onsetID  \\\n",
       "0  HP:0410174  Increased circulating troponin T concentration           \n",
       "1  HP:0003493                 Antinuclear antibody positivity           \n",
       "2  HP:0009129                           Upper limb amyotrophy           \n",
       "3  HP:0005978                       Type II diabetes mellitus           \n",
       "4  HP:0001265                                    Hyporeflexia           \n",
       "\n",
       "  onsetName frequency sex negation modifier description    publication  \\\n",
       "0                 4/6                                    PMID:36745799   \n",
       "1                                                        PMID:36745799   \n",
       "2                 4/4                                    PMID:36745799   \n",
       "3                 1/6                                    PMID:36745799   \n",
       "4                 3/3                                    PMID:36745799   \n",
       "\n",
       "  evidence                biocuration  \n",
       "0      PCS  ORCID:0000-0002-0736-9199  \n",
       "1      PCS  ORCID:0000-0002-0736-9199  \n",
       "2      PCS  ORCID:0000-0002-0736-9199  \n",
       "3      PCS  ORCID:0000-0002-0736-9199  \n",
       "4      PCS  ORCID:0000-0002-0736-9199  "
      ]
     },
     "execution_count": 56,
     "metadata": {},
     "output_type": "execute_result"
    }
   ],
   "source": [
    "creator = HpoaTableCreator(phenopacket_list=ppacket_list)\n",
    "df = creator.get_dataframe()\n",
    "df.head()"
   ]
  },
  {
   "cell_type": "code",
   "execution_count": 57,
   "id": "da59f171-afa7-40a1-ae16-dba88be8b428",
   "metadata": {},
   "outputs": [],
   "source": [
    "name = disease.id.replace(\":\", \"_\") + \".tab\"\n",
    "df.to_csv(name, sep=\"\\t\", index=False)"
   ]
  },
  {
   "cell_type": "code",
   "execution_count": 58,
   "id": "193dcadc-d74d-4df1-be6d-040f028eef6e",
   "metadata": {},
   "outputs": [
    {
     "name": "stdout",
     "output_type": "stream",
     "text": [
      "#diseaseID\tdiseaseName\tphenotypeID\tphenotypeName\tonsetID\tonsetName\tfrequency\tsex\tnegation\tmodifier\tdescription\tpublication\tevidence\tbiocuration\n",
      "OMIM:620375\tMuscular dystrophy, limb-girdle, autosomal recessive 28\tHP:0410174\tIncreased circulating troponin T concentration\t\t\t4/6\t\t\t\t\tPMID:36745799\tPCS\tORCID:0000-0002-0736-9199\n",
      "OMIM:620375\tMuscular dystrophy, limb-girdle, autosomal recessive 28\tHP:0003493\tAntinuclear antibody positivity\t\t\t\t\t\t\t\tPMID:36745799\tPCS\tORCID:0000-0002-0736-9199\n",
      "OMIM:620375\tMuscular dystrophy, limb-girdle, autosomal recessive 28\tHP:0009129\tUpper limb amyotrophy\t\t\t4/4\t\t\t\t\tPMID:36745799\tPCS\tORCID:0000-0002-0736-9199\n",
      "OMIM:620375\tMuscular dystrophy, limb-girdle, autosomal recessive 28\tHP:0005978\tType II diabetes mellitus\t\t\t1/6\t\t\t\t\tPMID:36745799\tPCS\tORCID:0000-0002-0736-9199\n",
      "OMIM:620375\tMuscular dystrophy, limb-girdle, autosomal recessive 28\tHP:0001265\tHyporeflexia\t\t\t3/3\t\t\t\t\tPMID:36745799\tPCS\tORCID:0000-0002-0736-9199\n",
      "OMIM:620375\tMuscular dystrophy, limb-girdle, autosomal recessive 28\tHP:0100827\tLymphocytosis\t\t\t1/6\t\t\t\t\tPMID:36745799\tPCS\tORCID:0000-0002-0736-9199\n",
      "OMIM:620375\tMuscular dystrophy, limb-girdle, autosomal recessive 28\tHP:0003074\tHyperglycemia\t\t\t6/6\t\t\t\t\tPMID:36745799\tPCS\tORCID:0000-0002-0736-9199\n",
      "OMIM:620375\tMuscular dystrophy, limb-girdle, autosomal recessive 28\tHP:0002093\tRespiratory insufficiency\t\t\t4/6\t\t\t\t\tPMID:36745799\tPCS\tORCID:0000-0002-0736-9199\n",
      "OMIM:620375\tMuscular dystrophy, limb-girdle, autosomal recessive 28\tHP:0000122\tUnilateral renal agenesis\t\t\t1/6\t\t\t\t\tPMID:36745799\tPCS\tORCID:0000-0002-0736-9199\n",
      "OMIM:620375\tMuscular dystrophy, limb-girdle, autosomal recessive 28\tHP:0008997\tProximal muscle weakness in upper limbs\t\t\t5/6\t\t\t\t\tPMID:36745799\tPCS\tORCID:0000-0002-0736-9199\n",
      "OMIM:620375\tMuscular dystrophy, limb-girdle, autosomal recessive 28\tHP:0007210\tLower limb amyotrophy\t\t\t3/3\t\t\t\t\tPMID:36745799\tPCS\tORCID:0000-0002-0736-9199\n",
      "OMIM:620375\tMuscular dystrophy, limb-girdle, autosomal recessive 28\tHP:0003198\tMyopathy\t\t\t4/4\t\t\t\t\tPMID:36745799\tPCS\tORCID:0000-0002-0736-9199\n",
      "OMIM:620375\tMuscular dystrophy, limb-girdle, autosomal recessive 28\tHP:0003738\tExercise-induced myalgia\t\t\t6/6\t\t\t\t\tPMID:36745799\tPCS\tORCID:0000-0002-0736-9199\n",
      "OMIM:620375\tMuscular dystrophy, limb-girdle, autosomal recessive 28\tHP:0003236\tElevated circulating creatine kinase concentration\t\t\t6/6\t\t\t\t\tPMID:36745799\tPCS\tORCID:0000-0002-0736-9199\n",
      "OMIM:620375\tMuscular dystrophy, limb-girdle, autosomal recessive 28\tHP:0012100\tAbnormal circulating creatinine concentration\t\t\t\t\t\t\t\tPMID:36745799\tPCS\tORCID:0000-0002-0736-9199\n",
      "OMIM:620375\tMuscular dystrophy, limb-girdle, autosomal recessive 28\tHP:0033708\tAnti-3-hydroxy- 3-methylglutaryl-coA reductase antibody positivity\t\t\t\t\t\t\t\tPMID:36745799\tPCS\tORCID:0000-0002-0736-9199\n",
      "OMIM:620375\tMuscular dystrophy, limb-girdle, autosomal recessive 28\tHP:0031964\tElevated circulating alanine aminotransferase concentration\t\t\t5/6\t\t\t\t\tPMID:36745799\tPCS\tORCID:0000-0002-0736-9199\n",
      "OMIM:620375\tMuscular dystrophy, limb-girdle, autosomal recessive 28\tHP:0003141\tIncreased LDL cholesterol concentration\t\t\t\t\t\t\t\tPMID:36745799\tPCS\tORCID:0000-0002-0736-9199\n",
      "OMIM:620375\tMuscular dystrophy, limb-girdle, autosomal recessive 28\tHP:0002505\tLoss of ambulation\t\t\t3/6\t\t\t\t\tPMID:36745799\tPCS\tORCID:0000-0002-0736-9199\n",
      "OMIM:620375\tMuscular dystrophy, limb-girdle, autosomal recessive 28\tHP:0002155\tHypertriglyceridemia\t\t\t2/6\t\t\t\t\tPMID:36745799\tPCS\tORCID:0000-0002-0736-9199\n",
      "OMIM:620375\tMuscular dystrophy, limb-girdle, autosomal recessive 28\tHP:0002015\tDysphagia\t\t\t\t\t\t\t\tPMID:36745799\tPCS\tORCID:0000-0002-0736-9199\n",
      "OMIM:620375\tMuscular dystrophy, limb-girdle, autosomal recessive 28\tHP:0025168\tLeft ventricular diastolic dysfunction\t\t\t2/7\t\t\t\t\tPMID:36745799\tPCS\tORCID:0000-0002-0736-9199\n",
      "OMIM:620375\tMuscular dystrophy, limb-girdle, autosomal recessive 28\tHP:0003233\tDecreased HDL cholesterol concentration\t\t\t5/5\t\t\t\t\tPMID:36745799\tPCS\tORCID:0000-0002-0736-9199\n",
      "OMIM:620375\tMuscular dystrophy, limb-girdle, autosomal recessive 28\tHP:0003155\tElevated circulating alkaline phosphatase concentration\t\t\t1/6\t\t\t\t\tPMID:36745799\tPCS\tORCID:0000-0002-0736-9199\n",
      "OMIM:620375\tMuscular dystrophy, limb-girdle, autosomal recessive 28\tHP:0031956\tElevated circulating aspartate aminotransferase concentration\t\t\t5/6\t\t\t\t\tPMID:36745799\tPCS\tORCID:0000-0002-0736-9199\n",
      "OMIM:620375\tMuscular dystrophy, limb-girdle, autosomal recessive 28\tHP:0003124\tHypercholesterolemia\t\t\t\t\t\t\t\tPMID:36745799\tPCS\tORCID:0000-0002-0736-9199\n",
      "OMIM:620375\tMuscular dystrophy, limb-girdle, autosomal recessive 28\tHP:0006510\tChronic pulmonary obstruction\t\t\t1/6\t\t\t\t\tPMID:36745799\tPCS\tORCID:0000-0002-0736-9199\n",
      "OMIM:620375\tMuscular dystrophy, limb-girdle, autosomal recessive 28\tHP:0008994\tProximal muscle weakness in lower limbs\t\t\t5/6\t\t\t\t\tPMID:36745799\tPCS\tORCID:0000-0002-0736-9199\n",
      "OMIM:620375\tMuscular dystrophy, limb-girdle, autosomal recessive 28\tHP:0001284\tAreflexia\t\t\t1/1\t\t\t\t\tPMID:36745799\tPCS\tORCID:0000-0002-0736-9199\n"
     ]
    }
   ],
   "source": [
    "! cat OMIM_620375.tab  "
   ]
  },
  {
   "cell_type": "code",
   "execution_count": null,
   "id": "e0616dfd-5bb2-4f23-a9db-473ec3269ce1",
   "metadata": {},
   "outputs": [],
   "source": []
  }
 ],
 "metadata": {
  "kernelspec": {
   "display_name": "ppt_venv",
   "language": "python",
   "name": "ppt_venv"
  },
  "language_info": {
   "codemirror_mode": {
    "name": "ipython",
    "version": 3
   },
   "file_extension": ".py",
   "mimetype": "text/x-python",
   "name": "python",
   "nbconvert_exporter": "python",
   "pygments_lexer": "ipython3",
   "version": "3.11.3"
  }
 },
 "nbformat": 4,
 "nbformat_minor": 5
}
