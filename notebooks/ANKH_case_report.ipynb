{
 "cells": [
  {
   "cell_type": "markdown",
   "id": "9504e768",
   "metadata": {},
   "source": [
    "<H1>ANKH</H1>"
   ]
  },
  {
   "cell_type": "code",
   "execution_count": 1,
   "id": "c9d63389",
   "metadata": {},
   "outputs": [],
   "source": [
    "import phenopackets as php\n",
    "from google.protobuf.json_format import MessageToDict, MessageToJson\n",
    "from google.protobuf.json_format import Parse, ParseDict\n",
    "import pandas as pd\n",
    "pd.set_option('display.max_colwidth', None) # show entire column contents, important!\n",
    "from collections import defaultdict\n",
    "import os\n",
    "import sys\n",
    "\n",
    "sys.path.insert(0, os.path.abspath('../../pyphetools'))\n",
    "from pyphetools import *"
   ]
  },
  {
   "cell_type": "markdown",
   "id": "b3162943",
   "metadata": {},
   "source": [
    "<h3>Import HPO Dara</h3>"
   ]
  },
  {
   "cell_type": "code",
   "execution_count": 2,
   "id": "1468afab",
   "metadata": {},
   "outputs": [],
   "source": [
    "parser = HpoParser()\n",
    "hpo_cr = parser.get_hpo_concept_recognizer()"
   ]
  },
  {
   "cell_type": "markdown",
   "id": "1a81ef26",
   "metadata": {},
   "source": [
    "<H1>Importing a single case report</H1>\n",
    "<p>Here, we use functions of the pyphetools package to import data from a typical case report: <a href=\"https://pubmed.ncbi.nlm.nih.gov/33748234/\" target=\"__blank\">Wu JL, et al.</a> A three-year clinical investigation of a Chinese child with craniometaphyseal dysplasia caused by a mutated ANKH gene. World J Clin Cases. 2021 Mar 16;9(8):1853-1862.</p>\n",
    "<p>The case report consists of several sections to which we can apply text mining and add some corrections for cases in which text mining fails to capture an HPO term or calls a false-positive term.</p>\n",
    "<p>The basic strategy is to use the <tt>add_vignette</tt> function for each section and judge the results by manual inspecting, adding any missed terms using the custom dictionary (see examples below).</p>"
   ]
  },
  {
   "cell_type": "code",
   "execution_count": 3,
   "id": "feec129c",
   "metadata": {},
   "outputs": [],
   "source": [
    "pmid = \"PMID:33748234\"\n",
    "age = \"P1Y5M\"\n",
    "parser = CaseParser(concept_recognizer=hpo_cr, pmid=pmid, age_at_last_exam=age)"
   ]
  },
  {
   "cell_type": "markdown",
   "id": "951caefa",
   "metadata": {},
   "source": [
    "<h3>Chief complaints</h3>\n",
    "<p>A 17-mo-old boy presented with progressive nasal obstruction, snoring and hearing loss symptoms when referred to the hospital.</p>"
   ]
  },
  {
   "cell_type": "code",
   "execution_count": 4,
   "id": "408051a7",
   "metadata": {},
   "outputs": [],
   "source": [
    "vignette = \"A 17-mo-old boy presented with progressive nasal obstruction, snoring and hearing loss symptoms when referred to the hospital.\"\n",
    "results = parser.add_vignette(vignette=vignette)"
   ]
  },
  {
   "cell_type": "code",
   "execution_count": 5,
   "id": "46b2d3fd",
   "metadata": {},
   "outputs": [
    {
     "data": {
      "text/html": [
       "<div>\n",
       "<style scoped>\n",
       "    .dataframe tbody tr th:only-of-type {\n",
       "        vertical-align: middle;\n",
       "    }\n",
       "\n",
       "    .dataframe tbody tr th {\n",
       "        vertical-align: top;\n",
       "    }\n",
       "\n",
       "    .dataframe thead th {\n",
       "        text-align: right;\n",
       "    }\n",
       "</style>\n",
       "<table border=\"1\" class=\"dataframe\">\n",
       "  <thead>\n",
       "    <tr style=\"text-align: right;\">\n",
       "      <th></th>\n",
       "      <th>id</th>\n",
       "      <th>label</th>\n",
       "      <th>observed</th>\n",
       "      <th>measured</th>\n",
       "    </tr>\n",
       "  </thead>\n",
       "  <tbody>\n",
       "    <tr>\n",
       "      <th>0</th>\n",
       "      <td>HP:0000365</td>\n",
       "      <td>Hearing impairment</td>\n",
       "      <td>True</td>\n",
       "      <td>True</td>\n",
       "    </tr>\n",
       "    <tr>\n",
       "      <th>1</th>\n",
       "      <td>HP:0001742</td>\n",
       "      <td>Nasal congestion</td>\n",
       "      <td>True</td>\n",
       "      <td>True</td>\n",
       "    </tr>\n",
       "    <tr>\n",
       "      <th>2</th>\n",
       "      <td>HP:0025267</td>\n",
       "      <td>Snoring</td>\n",
       "      <td>True</td>\n",
       "      <td>True</td>\n",
       "    </tr>\n",
       "  </tbody>\n",
       "</table>\n",
       "</div>"
      ],
      "text/plain": [
       "           id               label  observed  measured\n",
       "0  HP:0000365  Hearing impairment      True      True\n",
       "1  HP:0001742    Nasal congestion      True      True\n",
       "2  HP:0025267             Snoring      True      True"
      ]
     },
     "execution_count": 5,
     "metadata": {},
     "output_type": "execute_result"
    }
   ],
   "source": [
    "results"
   ]
  },
  {
   "cell_type": "markdown",
   "id": "0108f8d3",
   "metadata": {},
   "source": [
    "<h2>History of present illness</h2>"
   ]
  },
  {
   "cell_type": "code",
   "execution_count": 6,
   "id": "0e81efe3",
   "metadata": {},
   "outputs": [],
   "source": [
    "v2 = \"\"\"\n",
    "The patient’s medical history was first reviewed before the diagnosis. His head circumference was 45.5 cm, \n",
    "46.5 cm and 49.5 cm at age 3 mo, 6 mo and 12 mo, respectively. When he was 6 mo old, fiber nasopharyngoscopy \n",
    "revealed a double choanal stenosis. The patient was found to have a serious nasal obstruction at the age of \n",
    "12 mo due to a wide nasal bridge. Occasionally, he resorted to mouth breathing, especially at night. \n",
    "The patient was examined at the local hospital, showed low bone mineral density and commenced \n",
    "oral calcium supplements. His head circumference increased to 51 cm (standard value 45.2 cm). \n",
    "Consequently, the patient developed a prominent forehead, prognathism and occipital protuberance. \n",
    "At the age of 16 mo, the patient presented with mild hearing loss. He had been receiving calcium and \n",
    "vitamin D supplementation for 4 mo prior to examination at other hospital; however, the patient’s symptoms \n",
    "developed progressively. \n",
    "\"\"\"\n",
    "d = {'low bone mineral density':'Reduced bone mineral density',\n",
    "    'head circumference increased to 51 cm':'Macrocephaly'}\n",
    "results = parser.add_vignette(vignette=v2, custom_d=d)"
   ]
  },
  {
   "cell_type": "code",
   "execution_count": 7,
   "id": "a0ddc9d6",
   "metadata": {},
   "outputs": [
    {
     "data": {
      "text/html": [
       "<div>\n",
       "<style scoped>\n",
       "    .dataframe tbody tr th:only-of-type {\n",
       "        vertical-align: middle;\n",
       "    }\n",
       "\n",
       "    .dataframe tbody tr th {\n",
       "        vertical-align: top;\n",
       "    }\n",
       "\n",
       "    .dataframe thead th {\n",
       "        text-align: right;\n",
       "    }\n",
       "</style>\n",
       "<table border=\"1\" class=\"dataframe\">\n",
       "  <thead>\n",
       "    <tr style=\"text-align: right;\">\n",
       "      <th></th>\n",
       "      <th>id</th>\n",
       "      <th>label</th>\n",
       "      <th>observed</th>\n",
       "      <th>measured</th>\n",
       "    </tr>\n",
       "  </thead>\n",
       "  <tbody>\n",
       "    <tr>\n",
       "      <th>0</th>\n",
       "      <td>HP:0004349</td>\n",
       "      <td>Reduced bone mineral density</td>\n",
       "      <td>True</td>\n",
       "      <td>True</td>\n",
       "    </tr>\n",
       "    <tr>\n",
       "      <th>1</th>\n",
       "      <td>HP:0000256</td>\n",
       "      <td>Macrocephaly</td>\n",
       "      <td>True</td>\n",
       "      <td>True</td>\n",
       "    </tr>\n",
       "    <tr>\n",
       "      <th>2</th>\n",
       "      <td>HP:0000303</td>\n",
       "      <td>Mandibular prognathia</td>\n",
       "      <td>True</td>\n",
       "      <td>True</td>\n",
       "    </tr>\n",
       "    <tr>\n",
       "      <th>3</th>\n",
       "      <td>HP:0000365</td>\n",
       "      <td>Hearing impairment</td>\n",
       "      <td>True</td>\n",
       "      <td>True</td>\n",
       "    </tr>\n",
       "    <tr>\n",
       "      <th>4</th>\n",
       "      <td>HP:0000431</td>\n",
       "      <td>Wide nasal bridge</td>\n",
       "      <td>True</td>\n",
       "      <td>True</td>\n",
       "    </tr>\n",
       "    <tr>\n",
       "      <th>5</th>\n",
       "      <td>HP:0000452</td>\n",
       "      <td>Choanal stenosis</td>\n",
       "      <td>True</td>\n",
       "      <td>True</td>\n",
       "    </tr>\n",
       "    <tr>\n",
       "      <th>6</th>\n",
       "      <td>HP:0001742</td>\n",
       "      <td>Nasal congestion</td>\n",
       "      <td>True</td>\n",
       "      <td>True</td>\n",
       "    </tr>\n",
       "    <tr>\n",
       "      <th>7</th>\n",
       "      <td>HP:0011220</td>\n",
       "      <td>Prominent forehead</td>\n",
       "      <td>True</td>\n",
       "      <td>True</td>\n",
       "    </tr>\n",
       "  </tbody>\n",
       "</table>\n",
       "</div>"
      ],
      "text/plain": [
       "           id                         label  observed  measured\n",
       "0  HP:0004349  Reduced bone mineral density      True      True\n",
       "1  HP:0000256                  Macrocephaly      True      True\n",
       "2  HP:0000303         Mandibular prognathia      True      True\n",
       "3  HP:0000365            Hearing impairment      True      True\n",
       "4  HP:0000431             Wide nasal bridge      True      True\n",
       "5  HP:0000452              Choanal stenosis      True      True\n",
       "6  HP:0001742              Nasal congestion      True      True\n",
       "7  HP:0011220            Prominent forehead      True      True"
      ]
     },
     "execution_count": 7,
     "metadata": {},
     "output_type": "execute_result"
    }
   ],
   "source": [
    "results\n"
   ]
  },
  {
   "cell_type": "markdown",
   "id": "f170c557",
   "metadata": {},
   "source": [
    "<h2>Physical examination</h2>"
   ]
  },
  {
   "cell_type": "code",
   "execution_count": 8,
   "id": "30e53ab8",
   "metadata": {},
   "outputs": [
    {
     "data": {
      "text/html": [
       "<div>\n",
       "<style scoped>\n",
       "    .dataframe tbody tr th:only-of-type {\n",
       "        vertical-align: middle;\n",
       "    }\n",
       "\n",
       "    .dataframe tbody tr th {\n",
       "        vertical-align: top;\n",
       "    }\n",
       "\n",
       "    .dataframe thead th {\n",
       "        text-align: right;\n",
       "    }\n",
       "</style>\n",
       "<table border=\"1\" class=\"dataframe\">\n",
       "  <thead>\n",
       "    <tr style=\"text-align: right;\">\n",
       "      <th></th>\n",
       "      <th>id</th>\n",
       "      <th>label</th>\n",
       "      <th>observed</th>\n",
       "      <th>measured</th>\n",
       "    </tr>\n",
       "  </thead>\n",
       "  <tbody>\n",
       "    <tr>\n",
       "      <th>0</th>\n",
       "      <td>HP:0000687</td>\n",
       "      <td>Widely spaced teeth</td>\n",
       "      <td>True</td>\n",
       "      <td>True</td>\n",
       "    </tr>\n",
       "    <tr>\n",
       "      <th>1</th>\n",
       "      <td>HP:0000303</td>\n",
       "      <td>Mandibular prognathia</td>\n",
       "      <td>True</td>\n",
       "      <td>True</td>\n",
       "    </tr>\n",
       "    <tr>\n",
       "      <th>2</th>\n",
       "      <td>HP:0000316</td>\n",
       "      <td>Hypertelorism</td>\n",
       "      <td>True</td>\n",
       "      <td>True</td>\n",
       "    </tr>\n",
       "    <tr>\n",
       "      <th>3</th>\n",
       "      <td>HP:0000316</td>\n",
       "      <td>Hypertelorism</td>\n",
       "      <td>True</td>\n",
       "      <td>True</td>\n",
       "    </tr>\n",
       "    <tr>\n",
       "      <th>4</th>\n",
       "      <td>HP:0000431</td>\n",
       "      <td>Wide nasal bridge</td>\n",
       "      <td>True</td>\n",
       "      <td>True</td>\n",
       "    </tr>\n",
       "    <tr>\n",
       "      <th>5</th>\n",
       "      <td>HP:0000452</td>\n",
       "      <td>Choanal stenosis</td>\n",
       "      <td>True</td>\n",
       "      <td>True</td>\n",
       "    </tr>\n",
       "    <tr>\n",
       "      <th>6</th>\n",
       "      <td>HP:0010628</td>\n",
       "      <td>Facial palsy</td>\n",
       "      <td>True</td>\n",
       "      <td>True</td>\n",
       "    </tr>\n",
       "    <tr>\n",
       "      <th>7</th>\n",
       "      <td>HP:0012531</td>\n",
       "      <td>Pain</td>\n",
       "      <td>True</td>\n",
       "      <td>True</td>\n",
       "    </tr>\n",
       "  </tbody>\n",
       "</table>\n",
       "</div>"
      ],
      "text/plain": [
       "           id                  label  observed  measured\n",
       "0  HP:0000687    Widely spaced teeth      True      True\n",
       "1  HP:0000303  Mandibular prognathia      True      True\n",
       "2  HP:0000316          Hypertelorism      True      True\n",
       "3  HP:0000316          Hypertelorism      True      True\n",
       "4  HP:0000431      Wide nasal bridge      True      True\n",
       "5  HP:0000452       Choanal stenosis      True      True\n",
       "6  HP:0010628           Facial palsy      True      True\n",
       "7  HP:0012531                   Pain      True      True"
      ]
     },
     "execution_count": 8,
     "metadata": {},
     "output_type": "execute_result"
    }
   ],
   "source": [
    "v3 = \"\"\"\n",
    "A wide nasal bridge, paranasal bossing, widely spaced eyes with an increased bizygomatic width, and \n",
    "prominent mandible (Figure 1) were noted. However, hypertelorism was not obviously discernible. \n",
    "Additionally, the patient’s frontal and maxillary sinuses were severely obstructed. He had 20 teeth \n",
    "with wide spacing between the teeth. His teeth appeared small. He exhibited no facial nerve palsy or \n",
    "limb muscle tension. His pain perception and muscular strength appeared normal. Nasal laryngeal mirror \n",
    "showed serious choanal stenosis on both sides. The bottom of the patient’s nose exhibited bossing and \n",
    "his palatine bone appeared thickened. The patient’s parents and his elder brother had completely normal \n",
    "features.\n",
    "\"\"\"\n",
    "d = {\n",
    "    'wide spacing between the teeth': 'Widely spaced teeth'\n",
    "}\n",
    "results = parser.add_vignette(vignette=v3, custom_d=d)\n",
    "results"
   ]
  },
  {
   "cell_type": "markdown",
   "id": "19bb198b",
   "metadata": {},
   "source": [
    "<h2>Radiograph</h2>"
   ]
  },
  {
   "cell_type": "code",
   "execution_count": 9,
   "id": "056526a5",
   "metadata": {},
   "outputs": [
    {
     "data": {
      "text/html": [
       "<div>\n",
       "<style scoped>\n",
       "    .dataframe tbody tr th:only-of-type {\n",
       "        vertical-align: middle;\n",
       "    }\n",
       "\n",
       "    .dataframe tbody tr th {\n",
       "        vertical-align: top;\n",
       "    }\n",
       "\n",
       "    .dataframe thead th {\n",
       "        text-align: right;\n",
       "    }\n",
       "</style>\n",
       "<table border=\"1\" class=\"dataframe\">\n",
       "  <thead>\n",
       "    <tr style=\"text-align: right;\">\n",
       "      <th></th>\n",
       "      <th>id</th>\n",
       "      <th>label</th>\n",
       "      <th>observed</th>\n",
       "      <th>measured</th>\n",
       "    </tr>\n",
       "  </thead>\n",
       "  <tbody>\n",
       "    <tr>\n",
       "      <th>0</th>\n",
       "      <td>HP:0000303</td>\n",
       "      <td>Mandibular prognathia</td>\n",
       "      <td>True</td>\n",
       "      <td>True</td>\n",
       "    </tr>\n",
       "    <tr>\n",
       "      <th>1</th>\n",
       "      <td>HP:0000316</td>\n",
       "      <td>Hypertelorism</td>\n",
       "      <td>True</td>\n",
       "      <td>True</td>\n",
       "    </tr>\n",
       "    <tr>\n",
       "      <th>2</th>\n",
       "      <td>HP:0000431</td>\n",
       "      <td>Wide nasal bridge</td>\n",
       "      <td>True</td>\n",
       "      <td>True</td>\n",
       "    </tr>\n",
       "    <tr>\n",
       "      <th>3</th>\n",
       "      <td>HP:0003015</td>\n",
       "      <td>Flared metaphysis</td>\n",
       "      <td>True</td>\n",
       "      <td>True</td>\n",
       "    </tr>\n",
       "    <tr>\n",
       "      <th>4</th>\n",
       "      <td>HP:0011001</td>\n",
       "      <td>Increased bone mineral density</td>\n",
       "      <td>True</td>\n",
       "      <td>True</td>\n",
       "    </tr>\n",
       "  </tbody>\n",
       "</table>\n",
       "</div>"
      ],
      "text/plain": [
       "           id                           label  observed  measured\n",
       "0  HP:0000303           Mandibular prognathia      True      True\n",
       "1  HP:0000316                   Hypertelorism      True      True\n",
       "2  HP:0000431               Wide nasal bridge      True      True\n",
       "3  HP:0003015               Flared metaphysis      True      True\n",
       "4  HP:0011001  Increased bone mineral density      True      True"
      ]
     },
     "execution_count": 9,
     "metadata": {},
     "output_type": "execute_result"
    }
   ],
   "source": [
    "v4 =\"\"\"\n",
    "Radiograph and facial appearance of the child aged 17 mo. A and B: Cranial computed tomography (CT) scan \n",
    "shows significantly increased bone density and thickened bone plate of the skull. The sinus cavity was small \n",
    "without inflation, and the nasal cavity was obviously narrowed. The nasal bone was thickened with abnormal \n",
    "morphology; C: CT scan shows that the middle ear cavities were narrowed; the lumen of the labyrinth \n",
    "(vestibular, semicircular canal and cochlear) was sclerotic and the ossicular chain was thickened. The width \n",
    "of the left optic canal was 3.93 mm, the width of the right optic canal was 4.17 mm; D: CT scan shows \n",
    "sclerosis of the clavicles and ribs; E: X-ray image shows pronounced metaphyseal flaring in the distal \n",
    "femora and “Flask deformation” of the proximal metaphysis on both sides (Erlenmeyer flask configuration); \n",
    "F: Facial appearance of the patient shows a wide nasal bridge, paranasal bossing, widely spaced eyes with \n",
    "an increased bizygomatic width, and a prominent mandible. \n",
    "\"\"\"\n",
    "d4 = {}\n",
    "results = parser.add_vignette(vignette=v4, custom_d=d4)\n",
    "results"
   ]
  },
  {
   "cell_type": "markdown",
   "id": "28171678",
   "metadata": {},
   "source": [
    "<h2>Laboratory examinations</h2>"
   ]
  },
  {
   "cell_type": "code",
   "execution_count": 10,
   "id": "d5fc82b5",
   "metadata": {},
   "outputs": [
    {
     "data": {
      "text/html": [
       "<div>\n",
       "<style scoped>\n",
       "    .dataframe tbody tr th:only-of-type {\n",
       "        vertical-align: middle;\n",
       "    }\n",
       "\n",
       "    .dataframe tbody tr th {\n",
       "        vertical-align: top;\n",
       "    }\n",
       "\n",
       "    .dataframe thead th {\n",
       "        text-align: right;\n",
       "    }\n",
       "</style>\n",
       "<table border=\"1\" class=\"dataframe\">\n",
       "  <thead>\n",
       "    <tr style=\"text-align: right;\">\n",
       "      <th></th>\n",
       "      <th>Col1</th>\n",
       "      <th>Col2</th>\n",
       "      <th>Col3</th>\n",
       "    </tr>\n",
       "  </thead>\n",
       "  <tbody>\n",
       "  </tbody>\n",
       "</table>\n",
       "</div>"
      ],
      "text/plain": [
       "Empty DataFrame\n",
       "Columns: [Col1, Col2, Col3]\n",
       "Index: []"
      ]
     },
     "execution_count": 10,
     "metadata": {},
     "output_type": "execute_result"
    }
   ],
   "source": [
    "v5 = \"\"\"\n",
    "Laboratory examinations\n",
    "\n",
    "The patient’s blood test results are shown in Table 1. On the patient’s first visit to the hospital, \n",
    "he underwent laboratory tests of serum alkaline, calcium and others. After genetic diagnosis, more \n",
    "related tests were performed. Given that the diagnosis of AD-CMD was established, related biochemical \n",
    "tests were followed up (Table 1). The results showed that the patient’s serum concentration of \n",
    "alkaline phosphatase (ALP) decreased after 3 mo of dietary intervention. After 14 mo of low-calcium \n",
    "diet at the age of 2 years and 7 mo, his ALP continuously decreased to within the normal range. His parents \n",
    "then changed his diet to an intermittent low-calcium diet to include milk and eggs. \n",
    "At the age of 4 years and 2 mo, his ALP was slightly higher than normal but still close to the normal range. \n",
    "His serum osteocalcin (OC) was higher than normal even after 8 mo of low-calcium diet. However, it began \n",
    "to continuously drop after dietary restrictions for 14 mo and then reached normal levels. His serum \n",
    "combined beta C-terminal telopeptide of type I collagen (β-CTX) also decreased after 33 mo of the \n",
    "nutritional intervention, but still remained slightly higher than normal. Other biochemical test \n",
    "results were normal.\n",
    "\"\"\"\n",
    "d5 = {}\n",
    "results = parser.add_vignette(vignette=v5, custom_d=d5)\n",
    "results"
   ]
  },
  {
   "cell_type": "code",
   "execution_count": 11,
   "id": "fa46bc66",
   "metadata": {},
   "outputs": [
    {
     "data": {
      "text/html": [
       "<div>\n",
       "<style scoped>\n",
       "    .dataframe tbody tr th:only-of-type {\n",
       "        vertical-align: middle;\n",
       "    }\n",
       "\n",
       "    .dataframe tbody tr th {\n",
       "        vertical-align: top;\n",
       "    }\n",
       "\n",
       "    .dataframe thead th {\n",
       "        text-align: right;\n",
       "    }\n",
       "</style>\n",
       "<table border=\"1\" class=\"dataframe\">\n",
       "  <thead>\n",
       "    <tr style=\"text-align: right;\">\n",
       "      <th></th>\n",
       "      <th>id</th>\n",
       "      <th>label</th>\n",
       "      <th>observed</th>\n",
       "      <th>measured</th>\n",
       "    </tr>\n",
       "  </thead>\n",
       "  <tbody>\n",
       "    <tr>\n",
       "      <th>0</th>\n",
       "      <td>HP:0031428</td>\n",
       "      <td>Increased circulating osteocalcin level</td>\n",
       "      <td>False</td>\n",
       "      <td>True</td>\n",
       "    </tr>\n",
       "  </tbody>\n",
       "</table>\n",
       "</div>"
      ],
      "text/plain": [
       "           id                                    label  observed  measured\n",
       "0  HP:0031428  Increased circulating osteocalcin level     False      True"
      ]
     },
     "execution_count": 11,
     "metadata": {},
     "output_type": "execute_result"
    }
   ],
   "source": [
    "term=\"Increased circulating osteocalcin level\"\n",
    "age=\"P1Y8M\" # 20 months\n",
    "results = parser.add_term(label=term, custom_age=age)\n",
    "results"
   ]
  },
  {
   "cell_type": "code",
   "execution_count": 12,
   "id": "42a5d75d",
   "metadata": {},
   "outputs": [
    {
     "data": {
      "text/html": [
       "<div>\n",
       "<style scoped>\n",
       "    .dataframe tbody tr th:only-of-type {\n",
       "        vertical-align: middle;\n",
       "    }\n",
       "\n",
       "    .dataframe tbody tr th {\n",
       "        vertical-align: top;\n",
       "    }\n",
       "\n",
       "    .dataframe thead th {\n",
       "        text-align: right;\n",
       "    }\n",
       "</style>\n",
       "<table border=\"1\" class=\"dataframe\">\n",
       "  <thead>\n",
       "    <tr style=\"text-align: right;\">\n",
       "      <th></th>\n",
       "      <th>id</th>\n",
       "      <th>label</th>\n",
       "      <th>observed</th>\n",
       "      <th>measured</th>\n",
       "    </tr>\n",
       "  </thead>\n",
       "  <tbody>\n",
       "    <tr>\n",
       "      <th>0</th>\n",
       "      <td>HP:0031425</td>\n",
       "      <td>Increased circulating beta-C-terminal telopeptide concentration</td>\n",
       "      <td>False</td>\n",
       "      <td>True</td>\n",
       "    </tr>\n",
       "  </tbody>\n",
       "</table>\n",
       "</div>"
      ],
      "text/plain": [
       "           id  \\\n",
       "0  HP:0031425   \n",
       "\n",
       "                                                             label  observed  \\\n",
       "0  Increased circulating beta-C-terminal telopeptide concentration     False   \n",
       "\n",
       "   measured  \n",
       "0      True  "
      ]
     },
     "execution_count": 12,
     "metadata": {},
     "output_type": "execute_result"
    }
   ],
   "source": [
    "# Combined β-CTX (ng/mL)\n",
    "term = \"Increased circulating beta-C-terminal telopeptide concentration\" # HP:0031425\n",
    "results = parser.add_term(label=term, custom_age=\"P1Y8M\")\n",
    "results"
   ]
  },
  {
   "cell_type": "code",
   "execution_count": 13,
   "id": "b60da67c",
   "metadata": {},
   "outputs": [
    {
     "data": {
      "text/html": [
       "<div>\n",
       "<style scoped>\n",
       "    .dataframe tbody tr th:only-of-type {\n",
       "        vertical-align: middle;\n",
       "    }\n",
       "\n",
       "    .dataframe tbody tr th {\n",
       "        vertical-align: top;\n",
       "    }\n",
       "\n",
       "    .dataframe thead th {\n",
       "        text-align: right;\n",
       "    }\n",
       "</style>\n",
       "<table border=\"1\" class=\"dataframe\">\n",
       "  <thead>\n",
       "    <tr style=\"text-align: right;\">\n",
       "      <th></th>\n",
       "      <th>id</th>\n",
       "      <th>label</th>\n",
       "      <th>observed</th>\n",
       "      <th>measured</th>\n",
       "    </tr>\n",
       "  </thead>\n",
       "  <tbody>\n",
       "    <tr>\n",
       "      <th>0</th>\n",
       "      <td>HP:0012053</td>\n",
       "      <td>Decreased circulating calcifediol concentration</td>\n",
       "      <td>False</td>\n",
       "      <td>True</td>\n",
       "    </tr>\n",
       "  </tbody>\n",
       "</table>\n",
       "</div>"
      ],
      "text/plain": [
       "           id                                            label  observed  \\\n",
       "0  HP:0012053  Decreased circulating calcifediol concentration     False   \n",
       "\n",
       "   measured  \n",
       "0      True  "
      ]
     },
     "execution_count": 13,
     "metadata": {},
     "output_type": "execute_result"
    }
   ],
   "source": [
    "# low 25-hydroxyvitamin D\n",
    "term = \"Decreased circulating calcifediol concentration\" # HP:0012053\n",
    "results = parser.add_term(label=term, custom_age=\"P1Y8M\")\n",
    "results"
   ]
  },
  {
   "cell_type": "code",
   "execution_count": 14,
   "id": "74d7dadd",
   "metadata": {},
   "outputs": [
    {
     "data": {
      "text/html": [
       "<div>\n",
       "<style scoped>\n",
       "    .dataframe tbody tr th:only-of-type {\n",
       "        vertical-align: middle;\n",
       "    }\n",
       "\n",
       "    .dataframe tbody tr th {\n",
       "        vertical-align: top;\n",
       "    }\n",
       "\n",
       "    .dataframe thead th {\n",
       "        text-align: right;\n",
       "    }\n",
       "</style>\n",
       "<table border=\"1\" class=\"dataframe\">\n",
       "  <thead>\n",
       "    <tr style=\"text-align: right;\">\n",
       "      <th></th>\n",
       "      <th>id</th>\n",
       "      <th>label</th>\n",
       "      <th>observed</th>\n",
       "      <th>measured</th>\n",
       "    </tr>\n",
       "  </thead>\n",
       "  <tbody>\n",
       "    <tr>\n",
       "      <th>0</th>\n",
       "      <td>HP:0003155</td>\n",
       "      <td>Elevated circulating alkaline phosphatase concentration</td>\n",
       "      <td>False</td>\n",
       "      <td>True</td>\n",
       "    </tr>\n",
       "  </tbody>\n",
       "</table>\n",
       "</div>"
      ],
      "text/plain": [
       "           id                                                    label  \\\n",
       "0  HP:0003155  Elevated circulating alkaline phosphatase concentration   \n",
       "\n",
       "   observed  measured  \n",
       "0     False      True  "
      ]
     },
     "execution_count": 14,
     "metadata": {},
     "output_type": "execute_result"
    }
   ],
   "source": [
    "term = \"Elevated circulating alkaline phosphatase concentration\"\n",
    "results = parser.add_term(label=term, custom_age=\"P1Y8M\")\n",
    "results"
   ]
  },
  {
   "cell_type": "code",
   "execution_count": 15,
   "id": "2916dab4",
   "metadata": {},
   "outputs": [
    {
     "data": {
      "text/html": [
       "<div>\n",
       "<style scoped>\n",
       "    .dataframe tbody tr th:only-of-type {\n",
       "        vertical-align: middle;\n",
       "    }\n",
       "\n",
       "    .dataframe tbody tr th {\n",
       "        vertical-align: top;\n",
       "    }\n",
       "\n",
       "    .dataframe thead th {\n",
       "        text-align: right;\n",
       "    }\n",
       "</style>\n",
       "<table border=\"1\" class=\"dataframe\">\n",
       "  <thead>\n",
       "    <tr style=\"text-align: right;\">\n",
       "      <th></th>\n",
       "      <th>id</th>\n",
       "      <th>label</th>\n",
       "      <th>observed</th>\n",
       "      <th>measured</th>\n",
       "    </tr>\n",
       "  </thead>\n",
       "  <tbody>\n",
       "    <tr>\n",
       "      <th>0</th>\n",
       "      <td>HP:0004363</td>\n",
       "      <td>Abnormal circulating calcium concentration</td>\n",
       "      <td>False</td>\n",
       "      <td>True</td>\n",
       "    </tr>\n",
       "  </tbody>\n",
       "</table>\n",
       "</div>"
      ],
      "text/plain": [
       "           id                                       label  observed  measured\n",
       "0  HP:0004363  Abnormal circulating calcium concentration     False      True"
      ]
     },
     "execution_count": 15,
     "metadata": {},
     "output_type": "execute_result"
    }
   ],
   "source": [
    "term = \"Abnormal circulating calcium concentration\"\n",
    "results = parser.add_term(label=term, excluded=True, custom_age=\"P1Y8M\")\n",
    "results"
   ]
  },
  {
   "cell_type": "code",
   "execution_count": null,
   "id": "9424b9e9",
   "metadata": {},
   "outputs": [],
   "source": []
  }
 ],
 "metadata": {
  "kernelspec": {
   "display_name": "venv",
   "language": "python",
   "name": "venv"
  },
  "language_info": {
   "codemirror_mode": {
    "name": "ipython",
    "version": 3
   },
   "file_extension": ".py",
   "mimetype": "text/x-python",
   "name": "python",
   "nbconvert_exporter": "python",
   "pygments_lexer": "ipython3",
   "version": "3.10.6"
  }
 },
 "nbformat": 4,
 "nbformat_minor": 5
}
