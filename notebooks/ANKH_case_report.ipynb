{
 "cells": [
  {
   "cell_type": "markdown",
   "id": "9504e768",
   "metadata": {},
   "source": [
    "<H1>ANKH</H1>"
   ]
  },
  {
   "cell_type": "code",
   "execution_count": 1,
   "id": "c9d63389",
   "metadata": {},
   "outputs": [],
   "source": [
    "import phenopackets as php\n",
    "from google.protobuf.json_format import MessageToDict, MessageToJson\n",
    "from google.protobuf.json_format import Parse, ParseDict\n",
    "import pandas as pd\n",
    "pd.set_option('display.max_colwidth', None) # show entire column contents, important!\n",
    "from collections import defaultdict\n",
    "import os\n",
    "import sys\n",
    "\n",
    "sys.path.insert(0, os.path.abspath('../../../pyphetools'))\n",
    "from pyphetools import *"
   ]
  },
  {
   "cell_type": "markdown",
   "id": "b3162943",
   "metadata": {},
   "source": [
    "<h3>Import HPO Dara</h3>"
   ]
  },
  {
   "cell_type": "code",
   "execution_count": 2,
   "id": "1468afab",
   "metadata": {},
   "outputs": [],
   "source": [
    "parser = HpoParser()\n",
    "hpo_cr = parser.get_hpo_concept_recognizer()"
   ]
  },
  {
   "cell_type": "markdown",
   "id": "1a81ef26",
   "metadata": {},
   "source": [
    "<H1>Importing a single case report</H1>\n",
    "<p>Here, we use functions of the pyphetools package to import data from a typical case report: <a href=\"https://pubmed.ncbi.nlm.nih.gov/33748234/\" target=\"__blank\">Wu JL, et al.</a> A three-year clinical investigation of a Chinese child with craniometaphyseal dysplasia caused by a mutated ANKH gene. World J Clin Cases. 2021 Mar 16;9(8):1853-1862.</p>\n",
    "<p>The case report consists of several sections to which we can apply text mining and add some corrections for cases in which text mining fails to capture an HPO term or calls a false-positive term.</p>"
   ]
  },
  {
   "cell_type": "code",
   "execution_count": 3,
   "id": "feec129c",
   "metadata": {},
   "outputs": [],
   "source": [
    "pmid = \"PMID:33748234\"\n",
    "age = \"P1Y5M\"\n",
    "parser = CaseParser(concept_recognizer=hpo_cr, pmid=pmid, age_at_last_exam=age)"
   ]
  },
  {
   "cell_type": "markdown",
   "id": "951caefa",
   "metadata": {},
   "source": [
    "<h3>Chief complaints</h3>\n",
    "<p>A 17-mo-old boy presented with progressive nasal obstruction, snoring and hearing loss symptoms when referred to the hospital.</p>"
   ]
  },
  {
   "cell_type": "code",
   "execution_count": 4,
   "id": "408051a7",
   "metadata": {},
   "outputs": [],
   "source": [
    "vignette = \"A 17-mo-old boy presented with progressive nasal obstruction, snoring and hearing loss symptoms when referred to the hospital.\"\n",
    "results = parser.add_vignette(vignette=vignette)"
   ]
  },
  {
   "cell_type": "code",
   "execution_count": 5,
   "id": "46b2d3fd",
   "metadata": {},
   "outputs": [
    {
     "data": {
      "text/html": [
       "<div>\n",
       "<style scoped>\n",
       "    .dataframe tbody tr th:only-of-type {\n",
       "        vertical-align: middle;\n",
       "    }\n",
       "\n",
       "    .dataframe tbody tr th {\n",
       "        vertical-align: top;\n",
       "    }\n",
       "\n",
       "    .dataframe thead th {\n",
       "        text-align: right;\n",
       "    }\n",
       "</style>\n",
       "<table border=\"1\" class=\"dataframe\">\n",
       "  <thead>\n",
       "    <tr style=\"text-align: right;\">\n",
       "      <th></th>\n",
       "      <th>id</th>\n",
       "      <th>label</th>\n",
       "      <th>observed</th>\n",
       "      <th>measured</th>\n",
       "    </tr>\n",
       "  </thead>\n",
       "  <tbody>\n",
       "    <tr>\n",
       "      <th>0</th>\n",
       "      <td>HP:0000365</td>\n",
       "      <td>Hearing impairment</td>\n",
       "      <td>True</td>\n",
       "      <td>True</td>\n",
       "    </tr>\n",
       "    <tr>\n",
       "      <th>1</th>\n",
       "      <td>HP:0001742</td>\n",
       "      <td>Nasal congestion</td>\n",
       "      <td>True</td>\n",
       "      <td>True</td>\n",
       "    </tr>\n",
       "    <tr>\n",
       "      <th>2</th>\n",
       "      <td>HP:0025267</td>\n",
       "      <td>Snoring</td>\n",
       "      <td>True</td>\n",
       "      <td>True</td>\n",
       "    </tr>\n",
       "    <tr>\n",
       "      <th>3</th>\n",
       "      <td>HP:0500001</td>\n",
       "      <td>Body odor</td>\n",
       "      <td>True</td>\n",
       "      <td>True</td>\n",
       "    </tr>\n",
       "  </tbody>\n",
       "</table>\n",
       "</div>"
      ],
      "text/plain": [
       "           id               label  observed  measured\n",
       "0  HP:0000365  Hearing impairment      True      True\n",
       "1  HP:0001742    Nasal congestion      True      True\n",
       "2  HP:0025267             Snoring      True      True\n",
       "3  HP:0500001           Body odor      True      True"
      ]
     },
     "execution_count": 5,
     "metadata": {},
     "output_type": "execute_result"
    }
   ],
   "source": [
    "results"
   ]
  },
  {
   "cell_type": "code",
   "execution_count": null,
   "id": "0e81efe3",
   "metadata": {},
   "outputs": [],
   "source": []
  }
 ],
 "metadata": {
  "kernelspec": {
   "display_name": "venv",
   "language": "python",
   "name": "venv"
  },
  "language_info": {
   "codemirror_mode": {
    "name": "ipython",
    "version": 3
   },
   "file_extension": ".py",
   "mimetype": "text/x-python",
   "name": "python",
   "nbconvert_exporter": "python",
   "pygments_lexer": "ipython3",
   "version": "3.10.6"
  }
 },
 "nbformat": 4,
 "nbformat_minor": 5
}
