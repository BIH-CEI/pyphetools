{
 "cells": [
  {
   "cell_type": "code",
   "execution_count": 2,
   "metadata": {},
   "outputs": [
    {
     "name": "stderr",
     "output_type": "stream",
     "text": [
      "/Users/adam/Documents/Arbeit/BIH/Projekte/Projekte_Python/pyphetools/src/pyphetools/creation/case_template_encoder.py:514: SyntaxWarning: invalid escape sequence '\\_'\n",
      "  fname = re.sub('[^A-Za-z0-9\\_\\-]', '', fname)  # remove any illegal characters from filename\n"
     ]
    }
   ],
   "source": [
    "from pyphetools.creation import TemplateCreator"
   ]
  },
  {
   "cell_type": "code",
   "execution_count": 12,
   "metadata": {},
   "outputs": [],
   "source": [
    "tcreator = TemplateCreator(hp_json=\"/Users/adam/Documents/Arbeit/BIH/Projekte/Projekte_Python/pyphetools/test/data/hp.json\", hp_cr_index=\"/Users/adam/Documents/Arbeit/BIH/Projekte/Projekte_Python/pyphetools/test/data/hp.index\")\n"
   ]
  },
  {
   "cell_type": "code",
   "execution_count": 13,
   "metadata": {},
   "outputs": [],
   "source": [
    "text = \"\"\"It is an infantile lethal variant of SGBS associated with hydrops fetalis.\n",
    "In the first report, the authors reported 4 maternally-related male cousins\n",
    "with a severe variant of SGBS [6]. One of these males was aborted therapeutically\n",
    "at 19 weeks of gestation following the detection of multicystic kidneys on ultrasound.\n",
    "The three live born males were hydropic at birth. They also depicted craniofacial\n",
    "anomalies including macrocephaly; apparently low-set, posteriorly angulated ears; hypertelorism;\n",
    "short, broad nose with anteverted nares; large mouth with thin upper vermilion border;\n",
    "prominent philtrum; high-arched and cleft palate. Other findings were short neck;\n",
    "redundant skin; hypoplastic nails; skeletal defects involving upper and lower limbs;\n",
    "gastrointestinal and genitourinary anomalies, hypotonia and neurologic impairment.\"\"\"\n",
    "tcreator.add_seed_terms(text)"
   ]
  },
  {
   "cell_type": "code",
   "execution_count": null,
   "metadata": {},
   "outputs": [],
   "source": []
  },
  {
   "cell_type": "code",
   "execution_count": null,
   "metadata": {},
   "outputs": [],
   "source": []
  }
 ],
 "metadata": {
  "kernelspec": {
   "display_name": "venvhpo",
   "language": "python",
   "name": "python3"
  },
  "language_info": {
   "codemirror_mode": {
    "name": "ipython",
    "version": 3
   },
   "file_extension": ".py",
   "mimetype": "text/x-python",
   "name": "python",
   "nbconvert_exporter": "python",
   "pygments_lexer": "ipython3",
   "version": "3.12.3"
  }
 },
 "nbformat": 4,
 "nbformat_minor": 2
}
