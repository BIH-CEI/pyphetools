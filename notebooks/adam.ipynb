{
 "cells": [
  {
   "cell_type": "code",
   "execution_count": 2,
   "metadata": {},
   "outputs": [
    {
     "name": "stderr",
     "output_type": "stream",
     "text": [
      "/Users/adam/Documents/Arbeit/BIH/Projekte/Projekte_Python/pyphetools/src/pyphetools/creation/case_template_encoder.py:514: SyntaxWarning: invalid escape sequence '\\_'\n",
      "  fname = re.sub('[^A-Za-z0-9\\_\\-]', '', fname)  # remove any illegal characters from filename\n"
     ]
    }
   ],
   "source": [
    "from pyphetools.creation import TemplateCreator"
   ]
  },
  {
   "cell_type": "code",
   "execution_count": 12,
   "metadata": {},
   "outputs": [],
   "source": [
    "tcreator = TemplateCreator(hp_json=\"/Users/adam/Documents/Arbeit/BIH/Projekte/Projekte_Python/pyphetools/test/data/hp.json\", hp_cr_index=\"/Users/adam/Documents/Arbeit/BIH/Projekte/Projekte_Python/pyphetools/test/data/hp.index\")\n"
   ]
  },
  {
   "cell_type": "code",
   "execution_count": 19,
   "metadata": {},
   "outputs": [],
   "source": [
    "text = \"\"\"Table 1 summarizes the clinical phenotype of the reported individuals, comprising four females (siblings A1 and A2 [family A II-2 and II-3], individuals C2 [family C II-2], and F1 [family F II-1]) and four males (individuals B1 [family B II-1], D1 [family D II-2], and siblings E1 and E2 [family E II-1 and II-2]) (Figure 1) from the six unrelated families. In family C, a pregnancy of a male fetus (II-1 in Figure 1) was terminated at 25 weeks due to brain malformations identified prenatally. Overall, four individuals (A1, A2, B1, C2) showed a severe developmental and epileptic encephalopathy with leukoencephalopathy and early death in three of those cases. Two individuals died too young to develop epilepsy. In contrast, three individuals (D1, E1, E2) presented with a milder phenotype comprising ID and degenerative involvement of the optic nerve. Finally, a clinical picture of congenital ataxia was observed in the 4-year-old subject F1. Case reports of each individual can be found in the supplemental note.\n",
    "\n",
    "Aside from the reported pregnancy termination, all eight individuals were delivered at term. Postnatal adaptation was normal in 6 out of 8 individuals, while individuals A2 and C2 showed repeated drops in oxygen saturation. All four children from the severely affected group showed a global developmental disorder with no achievement of major developmental milestones and developed secondary microcephaly. Muscular hypotonia was present in all severely affected individuals, with one subject developing a spastic movement disorder. In individuals A1 and B1, a pathologic EEG pattern with multifocal and generalized epileptic discharges was recognized (see Figure S4 for exemplary EEGs of individual B1). Individual A1 developed myoclonic seizures and soon after tonic seizures with ictal electrodecrements on EEG. EEG abnormalities and seizures were absent in individuals A2, C2 and F1. Individual C2 was reported to have bilateral hypoplastic optic nerves; the young age hampers the assessment of a possible degenerative pathology of the optic nerves. Neonatal feeding difficulties and dysphagia were an additional unifying feature, three individuals required gastric tube feeding. Three affected individuals died in the first year of life in a palliative care setting: individual A1 died due to cardiac arrest during status epilepticus, while individuals A2 and C2 both passed away due to a respiratory infection possibly caused by dysphagia. Individual B1 is almost 3 years old, severely disabled and taken care of by a palliative care team.\n",
    "\n",
    "For the four remaining individuals presenting with a milder phenotype, mild DD/ID, mainly affecting speech and language development, was noted. Optic (hypo)-atrophy as confirmed by optical coherence tomography, with an age of onset ranging from 4 to 7 years, was reported in three individuals (D1, E1, E2), with siblings E1 and E2 having abnormal visually evoked potentials with delayed latency and reduced amplitude. Besides congenital ataxia in individual F1, neurological phenotypes including seizures were absent in this group. Individuals D1, E1, and E2 survived into adulthood; subject F1 is currently 4 years old. Of note, all four individuals with a milder phenotype shared the p.Val102Ile missense variant. Eye movement abnormalities were a unifying feature for both mild and severely affected individuals with individuals A1, B1, D1, E1, and E2 presenting with nystagmus. Variable congenital anomalies of minor severity were detected including ureterocele in individual A1, undescended testes in individual B1, and limb contractures in individual C2.\n",
    "\n",
    "Additionally, the in-house exome database of the Institute of Human Genetics in Munich currently containing about 27,500 exome datasets was queried for individuals harboring bi-allelic variants in SNF8. This yielded an additional unrelated individual harboring the missense variant predicting the p.Val102Ile substitution at homozygous state. This individual had an alternative diagnosis (i.e., mitochondrial complex III deficiency, nuclear type 1 [MIM: 124000]) caused by a pathogenic homozygous variant in BCS1L (GenBank: NM_004328.5; c.232A>G [p.Ser78Gly]). The postnatal presentation of seizures, liver failure, and muscular hypotonia could be explained by the confirmed mitochondrial disorder. Of note, the short survival of this subject hampered a long-term assessment to investigate the possible occurrence of ID and optic atrophy due to the homozygous SNF8 variant later in life. Additional phenotypic data available are presented in Table S3.\n",
    "Brain MRI imaging of individuals A1 (age of two and six months), A2 (age of two months), B1 (age of four and fifteen months), and C2 (age of one month) showed pronounced and progressive white matter atrophy of the cerebrum as well as hypo- or aplasia of the corpus callosum beginning at a very early age (Figure 1). Individuals D1 (age of 16 years), E1 (age of 16 years), and E2 presented with a severe volume reduction of the intracranial anterior optic pathway including optic nerves (ON), optic chiasma (OC), and optic tracts (2 SD below normal values). In individual D1 brain MRI volume analysis showed a reduction of the total cerebral white matter volume (−17% bilaterally) and cerebellar cortex volume (−13% left and −21% right hemisphere). Brain diffusion tensor imaging (DTI) analysis showed increased mean diffusivity (MD) in the cerebellar hemispheres (+13%, bilaterally). In individual E1, brain MRI volume analysis showed total white matter volume reduction (−20% bilaterally), and the temporal cortex (−17% bilaterally), cerebellar cortex (−19% on the left and −17% on the right), as well as putamen (−18% left and −17% right) had volume reduction. Brain DTI analysis showed increased MD in the cerebellar hemispheres (+9% left and +8% right). In contrast, brain MRI of individual F1 at the age of two years revealed cerebellar atrophy and a slightly dysmorphic corpus callosum. The anterior optic tract appeared normal, but note that the MRI scan was performed at an earlier age than that in individuals E1 and E2.\n",
    "\n",
    "Neuropathological investigations of brain tissue show severe white matter disease\n",
    "To investigate the observed defects further, neuropathological examination of brain and spinal cord tissue, which was preserved during the autopsy of individual A2 following death at the age of three months, was performed. Macroscopic findings of the cerebrum reflected MRI findings (Figures 2A and 2B) revealing pachygyria, enlarged sulci, and reduced cerebral white matter in coronal sections. The corpus callosum was thinned, measuring 2 mm.37 Reduced white matter was also apparent—although less severe—in the cerebellum and the spinal cord. Microscopically, cerebral tissue samples showed a marked loss of myelin leading to a reduction of white matter substance, reactive gliosis with increased numbers of reactive astrocytes (Figures 2D–2H and Figures S5–S7), as well as microglia activation (Figures 2E, S6, and S7). Cortex architecture was normal. Apart from the described brain alterations, there were no relevant organ abnormalities or congenital malformations identified during the autopsy.\n",
    "In total, three putative LoF variants and four missense variants were identified. The four missense variants uniformly affected evolutionary highly conserved amino acid residues (Figure S8). In silico prediction scores for three of the four missense variants (p.Gly191Asp, p.Pro79Leu, and p.Arg208Leu) consistently supported a high impact of the respective amino acid substitutions on protein function (Combined Annotation Dependent Depletion [CADD] score ranging between 27.3 to 33.0,38 Rare Exome Variant Ensemble Learner [REVEL] scores ranging from 0.683 to 0.95339). In contrast, prediction tools suggested a less disruptive impact of the p.Val102Ile amino acid substitution. In line with a likely damaging effect of the identified missense changes, however, all variants affected residues that were spotted in regions documented to be intolerant to variation as observed in data obtained from MetaDome (Figure S9).40\n",
    "\n",
    "None of the affected residues is involved in direct binding of other subunits of ESCRT-II (Figure 3). However, protein modeling of the identified missense variants suggested a conformational change in the aberrant SNF8 that could affect interactions with VPS36 or VPS25 or the overall stability of the protein (Figure 3). Residues Pro79 and Val102 are indeed located near the interface between SNF8 and VPS36, and the missense variants p.Pro79Leu and p.Val102Ile were predicted to alter SNF8 stability and affinity between these two subunits. Similarly, residue Gly191 is located near the interface between SNF8 and VPS25. The replacement of the small, conserved Gly with a larger, positively charged residue (Asp) was expected to lead to steric clashes that most likely affect the conformation and stability of SNF8 and its interactions with VPS25. Finally, Arg208 stabilizes the 3-helix bundle within SNF8 through conserved electrostatic interactions with Asp179 and π-π interactions with Trp204. Loss of this interaction would most likely compromise stability of SNF8.\n",
    "\n",
    "To further investigate the effects of the identified variants in SNF8, fibroblasts from a skin biopsy of individuals A2, D1, and E1 as well as the unrelated individual harboring the variant encoding p.Val102Ile in a homozygous state were cultured, and RNA sequencing and proteomic analyses were performed. For individual A2, RNA sequencing showed an overall decreased expression of SNF8 with a mostly monoallelic expression of the A allele affecting the identified SNF8 missense variant p.Gly191Asp (variant allele fraction 93%) (Figure S10). This was also observed for individual D1, where mostly monoallelic expression of the A allele affecting the missense variant p.Val102Ile was documented in fibroblasts (variant allele fraction 90%) (Figure S11). Unbiased analysis of the three samples directed to identify expression outliers, monoallelic expression, and aberrant splicing did not reveal any additional findings hinting an alternative diagnosis.\n",
    "\n",
    "By performing proteomic analysis, we observed that SNF8 as well as the two physically interacting subunits of ESCRT-II, VPS36, and VPS25 were significantly decreased in cells from individual A2 (severe phenotype) (SNF8: fold change [fc] = 0.25, adjusted p value padj = 7.8E−15; VPS36: fc = 0.39, padj = 0.003; VPS25: fc = 0.37, padj = 0.005) compared to controls (Figure 4A). In contrast, a reduction of SNF8 levels that however did not reach statistical significance was observed in fibroblasts from individuals D1 and E1 (milder phenotype) (D1: SNF8: fc = 0.74, E1: SNF8: fc = 0.68) (Figures 4B and 4C). In these samples, the rank of protein level intensity were 19 and 14 out of 323 internal control samples, respectively (Figure S12). Additionally, in these individuals there was no significant reduction of VPS36 and VPS25 protein levels, conversely to the reduction identified in A2 (D1: VPS36: fc = 0.81; VPS25: fc = 0.84; E1: VPS36: fc = 0.81; VPS25: fc = 0.87). Apart from SNF8 and ESCRT-II subunits, there were no consistent outliers identified in the three investigated fibroblast samples (for outliers per sample see Figure 4).\n",
    "\n",
    "\"\"\"\n",
    "tcreator.add_seed_terms(text)"
   ]
  },
  {
   "cell_type": "code",
   "execution_count": 20,
   "metadata": {},
   "outputs": [
    {
     "name": "stdout",
     "output_type": "stream",
     "text": [
      "[INFO] Add 33 HPO terms to template.\n",
      "Wrote Excel pyphetools template file to OMIM_610904_individuals.xlsx\n"
     ]
    }
   ],
   "source": [
    "disease_id = \"OMIM:610904\"\n",
    "disease_label = \"SNF8 subunit of ESCRT-II\"\n",
    "symbol = \"SNF8\"\n",
    "hgnc_id = \"HGNC:17028\"\n",
    "ofd1_transcript='NM_007241.4'\n",
    "tcreator.create_template(disease_id=disease_id,\n",
    "                         disease_label=disease_label,\n",
    "                         gene_symbol=symbol,\n",
    "                         HGNC_id=hgnc_id,\n",
    "                         transcript=ofd1_transcript)"
   ]
  },
  {
   "cell_type": "code",
   "execution_count": null,
   "metadata": {},
   "outputs": [],
   "source": []
  },
  {
   "cell_type": "code",
   "execution_count": null,
   "metadata": {},
   "outputs": [],
   "source": []
  }
 ],
 "metadata": {
  "kernelspec": {
   "display_name": "venvhpo",
   "language": "python",
   "name": "python3"
  },
  "language_info": {
   "codemirror_mode": {
    "name": "ipython",
    "version": 3
   },
   "file_extension": ".py",
   "mimetype": "text/x-python",
   "name": "python",
   "nbconvert_exporter": "python",
   "pygments_lexer": "ipython3",
   "version": "3.12.3"
  }
 },
 "nbformat": 4,
 "nbformat_minor": 2
}
